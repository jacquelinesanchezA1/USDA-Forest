{
 "cells": [
  {
   "metadata": {},
   "cell_type": "markdown",
   "source": [
    "# Costa Rica Pipeline Notebook\n",
    "## {Insert info on notebook purpose}\n",
    "\n",
    "### Project objective:\n",
    "- {TODO}\n",
    "\n",
    "#### Notebook sections:\n",
    "1. Setup\n",
    "2. English Translations\n",
    "3. Clean Observational data\n",
    "4. Extract Medoid and NEM data (provide file of data in case they don't want to run it for hours)\n",
    "5. Create and Extract Predictor surfaces (pred2)\n",
    "6. Clean Remote Sensing data\n",
    "7. Preprocessing\n",
    "8. Build a predictive model\n",
    "\n",
    "#### Data sources\n",
    "- {TODO}"
   ],
   "id": "6129cb775fb263c1"
  },
  {
   "metadata": {},
   "cell_type": "markdown",
   "source": [
    "## Section 1: Setup\n",
    "### Installing software"
   ],
   "id": "93f55ba3397ddaee"
  },
  {
   "metadata": {
    "scrolled": true,
    "ExecuteTime": {
     "end_time": "2024-11-21T22:19:59.155936Z",
     "start_time": "2024-11-21T22:19:55.575957Z"
    }
   },
   "cell_type": "code",
   "source": "!pip install pandas numpy geopandas seaborn scikit-learn tensor folium folium matplotlib mapclassify earthengine-api geemap",
   "id": "2c92524a-c64c-4c4b-b233-daaddf0be7f8",
   "outputs": [
    {
     "name": "stdout",
     "output_type": "stream",
     "text": [
      "Requirement already satisfied: pandas in c:\\users\\goldferret\\pycharmprojects\\ndmn-jupyter-notebook\\venv\\lib\\site-packages (2.2.3)\n",
      "Requirement already satisfied: numpy in c:\\users\\goldferret\\pycharmprojects\\ndmn-jupyter-notebook\\venv\\lib\\site-packages (1.26.4)\n",
      "Requirement already satisfied: geopandas in c:\\users\\goldferret\\pycharmprojects\\ndmn-jupyter-notebook\\venv\\lib\\site-packages (0.14.4)\n",
      "Requirement already satisfied: seaborn in c:\\users\\goldferret\\pycharmprojects\\ndmn-jupyter-notebook\\venv\\lib\\site-packages (0.13.2)\n",
      "Requirement already satisfied: scikit-learn in c:\\users\\goldferret\\pycharmprojects\\ndmn-jupyter-notebook\\venv\\lib\\site-packages (1.5.2)\n",
      "Requirement already satisfied: tensor in c:\\users\\goldferret\\pycharmprojects\\ndmn-jupyter-notebook\\venv\\lib\\site-packages (0.3.6)\n",
      "Requirement already satisfied: folium in c:\\users\\goldferret\\pycharmprojects\\ndmn-jupyter-notebook\\venv\\lib\\site-packages (0.17.0)\n",
      "Requirement already satisfied: matplotlib in c:\\users\\goldferret\\pycharmprojects\\ndmn-jupyter-notebook\\venv\\lib\\site-packages (3.9.2)\n",
      "Requirement already satisfied: mapclassify in c:\\users\\goldferret\\pycharmprojects\\ndmn-jupyter-notebook\\venv\\lib\\site-packages (2.8.1)\n",
      "Requirement already satisfied: earthengine-api in c:\\users\\goldferret\\pycharmprojects\\ndmn-jupyter-notebook\\venv\\lib\\site-packages (1.1.3)\n",
      "Requirement already satisfied: geemap in c:\\users\\goldferret\\pycharmprojects\\ndmn-jupyter-notebook\\venv\\lib\\site-packages (0.34.5)\n",
      "Requirement already satisfied: python-dateutil>=2.8.2 in c:\\users\\goldferret\\pycharmprojects\\ndmn-jupyter-notebook\\venv\\lib\\site-packages (from pandas) (2.9.0.post0)\n",
      "Requirement already satisfied: pytz>=2020.1 in c:\\users\\goldferret\\pycharmprojects\\ndmn-jupyter-notebook\\venv\\lib\\site-packages (from pandas) (2024.2)\n",
      "Requirement already satisfied: tzdata>=2022.7 in c:\\users\\goldferret\\pycharmprojects\\ndmn-jupyter-notebook\\venv\\lib\\site-packages (from pandas) (2024.2)\n",
      "Requirement already satisfied: fiona>=1.8.21 in c:\\users\\goldferret\\pycharmprojects\\ndmn-jupyter-notebook\\venv\\lib\\site-packages (from geopandas) (1.10.1)\n",
      "Requirement already satisfied: packaging in c:\\users\\goldferret\\pycharmprojects\\ndmn-jupyter-notebook\\venv\\lib\\site-packages (from geopandas) (24.1)\n",
      "Requirement already satisfied: pyproj>=3.3.0 in c:\\users\\goldferret\\pycharmprojects\\ndmn-jupyter-notebook\\venv\\lib\\site-packages (from geopandas) (3.7.0)\n",
      "Requirement already satisfied: shapely>=1.8.0 in c:\\users\\goldferret\\pycharmprojects\\ndmn-jupyter-notebook\\venv\\lib\\site-packages (from geopandas) (2.0.6)\n",
      "Requirement already satisfied: scipy>=1.6.0 in c:\\users\\goldferret\\pycharmprojects\\ndmn-jupyter-notebook\\venv\\lib\\site-packages (from scikit-learn) (1.14.1)\n",
      "Requirement already satisfied: joblib>=1.2.0 in c:\\users\\goldferret\\pycharmprojects\\ndmn-jupyter-notebook\\venv\\lib\\site-packages (from scikit-learn) (1.4.2)\n",
      "Requirement already satisfied: threadpoolctl>=3.1.0 in c:\\users\\goldferret\\pycharmprojects\\ndmn-jupyter-notebook\\venv\\lib\\site-packages (from scikit-learn) (3.5.0)\n",
      "Requirement already satisfied: Twisted in c:\\users\\goldferret\\pycharmprojects\\ndmn-jupyter-notebook\\venv\\lib\\site-packages (from tensor) (24.10.0)\n",
      "Requirement already satisfied: PyYaml in c:\\users\\goldferret\\pycharmprojects\\ndmn-jupyter-notebook\\venv\\lib\\site-packages (from tensor) (6.0.2)\n",
      "Requirement already satisfied: protobuf in c:\\users\\goldferret\\pycharmprojects\\ndmn-jupyter-notebook\\venv\\lib\\site-packages (from tensor) (5.28.2)\n",
      "Requirement already satisfied: construct in c:\\users\\goldferret\\pycharmprojects\\ndmn-jupyter-notebook\\venv\\lib\\site-packages (from tensor) (2.10.70)\n",
      "Requirement already satisfied: pysnmp in c:\\users\\goldferret\\pycharmprojects\\ndmn-jupyter-notebook\\venv\\lib\\site-packages (from tensor) (7.1.13)\n",
      "Requirement already satisfied: branca>=0.6.0 in c:\\users\\goldferret\\pycharmprojects\\ndmn-jupyter-notebook\\venv\\lib\\site-packages (from folium) (0.8.0)\n",
      "Requirement already satisfied: jinja2>=2.9 in c:\\users\\goldferret\\pycharmprojects\\ndmn-jupyter-notebook\\venv\\lib\\site-packages (from folium) (3.1.4)\n",
      "Requirement already satisfied: requests in c:\\users\\goldferret\\pycharmprojects\\ndmn-jupyter-notebook\\venv\\lib\\site-packages (from folium) (2.32.3)\n",
      "Requirement already satisfied: xyzservices in c:\\users\\goldferret\\pycharmprojects\\ndmn-jupyter-notebook\\venv\\lib\\site-packages (from folium) (2024.9.0)\n",
      "Requirement already satisfied: contourpy>=1.0.1 in c:\\users\\goldferret\\pycharmprojects\\ndmn-jupyter-notebook\\venv\\lib\\site-packages (from matplotlib) (1.3.0)\n",
      "Requirement already satisfied: cycler>=0.10 in c:\\users\\goldferret\\pycharmprojects\\ndmn-jupyter-notebook\\venv\\lib\\site-packages (from matplotlib) (0.12.1)\n",
      "Requirement already satisfied: fonttools>=4.22.0 in c:\\users\\goldferret\\pycharmprojects\\ndmn-jupyter-notebook\\venv\\lib\\site-packages (from matplotlib) (4.54.1)\n",
      "Requirement already satisfied: kiwisolver>=1.3.1 in c:\\users\\goldferret\\pycharmprojects\\ndmn-jupyter-notebook\\venv\\lib\\site-packages (from matplotlib) (1.4.7)\n",
      "Requirement already satisfied: pillow>=8 in c:\\users\\goldferret\\pycharmprojects\\ndmn-jupyter-notebook\\venv\\lib\\site-packages (from matplotlib) (10.4.0)\n",
      "Requirement already satisfied: pyparsing>=2.3.1 in c:\\users\\goldferret\\pycharmprojects\\ndmn-jupyter-notebook\\venv\\lib\\site-packages (from matplotlib) (3.1.4)\n",
      "Requirement already satisfied: networkx>=2.7 in c:\\users\\goldferret\\pycharmprojects\\ndmn-jupyter-notebook\\venv\\lib\\site-packages (from mapclassify) (3.3)\n",
      "Requirement already satisfied: google-cloud-storage in c:\\users\\goldferret\\pycharmprojects\\ndmn-jupyter-notebook\\venv\\lib\\site-packages (from earthengine-api) (2.18.2)\n",
      "Requirement already satisfied: google-api-python-client>=1.12.1 in c:\\users\\goldferret\\pycharmprojects\\ndmn-jupyter-notebook\\venv\\lib\\site-packages (from earthengine-api) (2.149.0)\n",
      "Requirement already satisfied: google-auth>=1.4.1 in c:\\users\\goldferret\\pycharmprojects\\ndmn-jupyter-notebook\\venv\\lib\\site-packages (from earthengine-api) (2.35.0)\n",
      "Requirement already satisfied: google-auth-httplib2>=0.0.3 in c:\\users\\goldferret\\pycharmprojects\\ndmn-jupyter-notebook\\venv\\lib\\site-packages (from earthengine-api) (0.2.0)\n",
      "Requirement already satisfied: httplib2<1dev,>=0.9.2 in c:\\users\\goldferret\\pycharmprojects\\ndmn-jupyter-notebook\\venv\\lib\\site-packages (from earthengine-api) (0.22.0)\n",
      "Requirement already satisfied: bqplot in c:\\users\\goldferret\\pycharmprojects\\ndmn-jupyter-notebook\\venv\\lib\\site-packages (from geemap) (0.12.43)\n",
      "Requirement already satisfied: colour in c:\\users\\goldferret\\pycharmprojects\\ndmn-jupyter-notebook\\venv\\lib\\site-packages (from geemap) (0.1.5)\n",
      "Requirement already satisfied: eerepr>=0.0.4 in c:\\users\\goldferret\\pycharmprojects\\ndmn-jupyter-notebook\\venv\\lib\\site-packages (from geemap) (0.0.4)\n",
      "Requirement already satisfied: geocoder in c:\\users\\goldferret\\pycharmprojects\\ndmn-jupyter-notebook\\venv\\lib\\site-packages (from geemap) (1.38.1)\n",
      "Requirement already satisfied: ipyevents in c:\\users\\goldferret\\pycharmprojects\\ndmn-jupyter-notebook\\venv\\lib\\site-packages (from geemap) (2.0.2)\n",
      "Requirement already satisfied: ipyfilechooser>=0.6.0 in c:\\users\\goldferret\\pycharmprojects\\ndmn-jupyter-notebook\\venv\\lib\\site-packages (from geemap) (0.6.0)\n",
      "Requirement already satisfied: ipyleaflet>=0.19.2 in c:\\users\\goldferret\\pycharmprojects\\ndmn-jupyter-notebook\\venv\\lib\\site-packages (from geemap) (0.19.2)\n",
      "Requirement already satisfied: ipytree in c:\\users\\goldferret\\pycharmprojects\\ndmn-jupyter-notebook\\venv\\lib\\site-packages (from geemap) (0.2.2)\n",
      "Requirement already satisfied: plotly in c:\\users\\goldferret\\pycharmprojects\\ndmn-jupyter-notebook\\venv\\lib\\site-packages (from geemap) (5.24.1)\n",
      "Requirement already satisfied: pyperclip in c:\\users\\goldferret\\pycharmprojects\\ndmn-jupyter-notebook\\venv\\lib\\site-packages (from geemap) (1.9.0)\n",
      "Requirement already satisfied: pyshp>=2.3.1 in c:\\users\\goldferret\\pycharmprojects\\ndmn-jupyter-notebook\\venv\\lib\\site-packages (from geemap) (2.3.1)\n",
      "Requirement already satisfied: python-box in c:\\users\\goldferret\\pycharmprojects\\ndmn-jupyter-notebook\\venv\\lib\\site-packages (from geemap) (7.2.0)\n",
      "Requirement already satisfied: scooby in c:\\users\\goldferret\\pycharmprojects\\ndmn-jupyter-notebook\\venv\\lib\\site-packages (from geemap) (0.10.0)\n",
      "Requirement already satisfied: setuptools in c:\\users\\goldferret\\pycharmprojects\\ndmn-jupyter-notebook\\venv\\lib\\site-packages (from geemap) (75.5.0)\n",
      "Requirement already satisfied: attrs>=19.2.0 in c:\\users\\goldferret\\pycharmprojects\\ndmn-jupyter-notebook\\venv\\lib\\site-packages (from fiona>=1.8.21->geopandas) (24.2.0)\n",
      "Requirement already satisfied: certifi in c:\\users\\goldferret\\pycharmprojects\\ndmn-jupyter-notebook\\venv\\lib\\site-packages (from fiona>=1.8.21->geopandas) (2024.8.30)\n",
      "Requirement already satisfied: click~=8.0 in c:\\users\\goldferret\\pycharmprojects\\ndmn-jupyter-notebook\\venv\\lib\\site-packages (from fiona>=1.8.21->geopandas) (8.1.7)\n",
      "Requirement already satisfied: click-plugins>=1.0 in c:\\users\\goldferret\\pycharmprojects\\ndmn-jupyter-notebook\\venv\\lib\\site-packages (from fiona>=1.8.21->geopandas) (1.1.1)\n",
      "Requirement already satisfied: cligj>=0.5 in c:\\users\\goldferret\\pycharmprojects\\ndmn-jupyter-notebook\\venv\\lib\\site-packages (from fiona>=1.8.21->geopandas) (0.7.2)\n",
      "Requirement already satisfied: google-api-core!=2.0.*,!=2.1.*,!=2.2.*,!=2.3.0,<3.0.0.dev0,>=1.31.5 in c:\\users\\goldferret\\pycharmprojects\\ndmn-jupyter-notebook\\venv\\lib\\site-packages (from google-api-python-client>=1.12.1->earthengine-api) (2.21.0)\n",
      "Requirement already satisfied: uritemplate<5,>=3.0.1 in c:\\users\\goldferret\\pycharmprojects\\ndmn-jupyter-notebook\\venv\\lib\\site-packages (from google-api-python-client>=1.12.1->earthengine-api) (4.1.1)\n",
      "Requirement already satisfied: cachetools<6.0,>=2.0.0 in c:\\users\\goldferret\\pycharmprojects\\ndmn-jupyter-notebook\\venv\\lib\\site-packages (from google-auth>=1.4.1->earthengine-api) (5.5.0)\n",
      "Requirement already satisfied: pyasn1-modules>=0.2.1 in c:\\users\\goldferret\\pycharmprojects\\ndmn-jupyter-notebook\\venv\\lib\\site-packages (from google-auth>=1.4.1->earthengine-api) (0.4.1)\n",
      "Requirement already satisfied: rsa<5,>=3.1.4 in c:\\users\\goldferret\\pycharmprojects\\ndmn-jupyter-notebook\\venv\\lib\\site-packages (from google-auth>=1.4.1->earthengine-api) (4.9)\n",
      "Requirement already satisfied: ipywidgets in c:\\users\\goldferret\\pycharmprojects\\ndmn-jupyter-notebook\\venv\\lib\\site-packages (from ipyfilechooser>=0.6.0->geemap) (8.1.5)\n",
      "Requirement already satisfied: jupyter-leaflet<0.20,>=0.19 in c:\\users\\goldferret\\pycharmprojects\\ndmn-jupyter-notebook\\venv\\lib\\site-packages (from ipyleaflet>=0.19.2->geemap) (0.19.2)\n",
      "Requirement already satisfied: traittypes<3,>=0.2.1 in c:\\users\\goldferret\\pycharmprojects\\ndmn-jupyter-notebook\\venv\\lib\\site-packages (from ipyleaflet>=0.19.2->geemap) (0.2.1)\n",
      "Requirement already satisfied: MarkupSafe>=2.0 in c:\\users\\goldferret\\pycharmprojects\\ndmn-jupyter-notebook\\venv\\lib\\site-packages (from jinja2>=2.9->folium) (3.0.1)\n",
      "Requirement already satisfied: six>=1.5 in c:\\users\\goldferret\\pycharmprojects\\ndmn-jupyter-notebook\\venv\\lib\\site-packages (from python-dateutil>=2.8.2->pandas) (1.16.0)\n",
      "Requirement already satisfied: traitlets>=4.3.0 in c:\\users\\goldferret\\pycharmprojects\\ndmn-jupyter-notebook\\venv\\lib\\site-packages (from bqplot->geemap) (5.14.3)\n",
      "Requirement already satisfied: future in c:\\users\\goldferret\\pycharmprojects\\ndmn-jupyter-notebook\\venv\\lib\\site-packages (from geocoder->geemap) (1.0.0)\n",
      "Requirement already satisfied: ratelim in c:\\users\\goldferret\\pycharmprojects\\ndmn-jupyter-notebook\\venv\\lib\\site-packages (from geocoder->geemap) (0.1.6)\n",
      "Requirement already satisfied: google-cloud-core<3.0dev,>=2.3.0 in c:\\users\\goldferret\\pycharmprojects\\ndmn-jupyter-notebook\\venv\\lib\\site-packages (from google-cloud-storage->earthengine-api) (2.4.1)\n",
      "Requirement already satisfied: google-resumable-media>=2.7.2 in c:\\users\\goldferret\\pycharmprojects\\ndmn-jupyter-notebook\\venv\\lib\\site-packages (from google-cloud-storage->earthengine-api) (2.7.2)\n",
      "Requirement already satisfied: google-crc32c<2.0dev,>=1.0 in c:\\users\\goldferret\\pycharmprojects\\ndmn-jupyter-notebook\\venv\\lib\\site-packages (from google-cloud-storage->earthengine-api) (1.6.0)\n",
      "Requirement already satisfied: charset-normalizer<4,>=2 in c:\\users\\goldferret\\pycharmprojects\\ndmn-jupyter-notebook\\venv\\lib\\site-packages (from requests->folium) (3.4.0)\n",
      "Requirement already satisfied: idna<4,>=2.5 in c:\\users\\goldferret\\pycharmprojects\\ndmn-jupyter-notebook\\venv\\lib\\site-packages (from requests->folium) (3.10)\n",
      "Requirement already satisfied: urllib3<3,>=1.21.1 in c:\\users\\goldferret\\pycharmprojects\\ndmn-jupyter-notebook\\venv\\lib\\site-packages (from requests->folium) (2.2.3)\n",
      "Requirement already satisfied: tenacity>=6.2.0 in c:\\users\\goldferret\\pycharmprojects\\ndmn-jupyter-notebook\\venv\\lib\\site-packages (from plotly->geemap) (9.0.0)\n",
      "Requirement already satisfied: pyasn1!=0.5.0,>=0.4.8 in c:\\users\\goldferret\\pycharmprojects\\ndmn-jupyter-notebook\\venv\\lib\\site-packages (from pysnmp->tensor) (0.6.1)\n",
      "Requirement already satisfied: automat>=24.8.0 in c:\\users\\goldferret\\pycharmprojects\\ndmn-jupyter-notebook\\venv\\lib\\site-packages (from Twisted->tensor) (24.8.1)\n",
      "Requirement already satisfied: constantly>=15.1 in c:\\users\\goldferret\\pycharmprojects\\ndmn-jupyter-notebook\\venv\\lib\\site-packages (from Twisted->tensor) (23.10.4)\n",
      "Requirement already satisfied: hyperlink>=17.1.1 in c:\\users\\goldferret\\pycharmprojects\\ndmn-jupyter-notebook\\venv\\lib\\site-packages (from Twisted->tensor) (21.0.0)\n",
      "Requirement already satisfied: incremental>=24.7.0 in c:\\users\\goldferret\\pycharmprojects\\ndmn-jupyter-notebook\\venv\\lib\\site-packages (from Twisted->tensor) (24.7.2)\n",
      "Requirement already satisfied: typing-extensions>=4.2.0 in c:\\users\\goldferret\\pycharmprojects\\ndmn-jupyter-notebook\\venv\\lib\\site-packages (from Twisted->tensor) (4.12.2)\n",
      "Requirement already satisfied: zope-interface>=5 in c:\\users\\goldferret\\pycharmprojects\\ndmn-jupyter-notebook\\venv\\lib\\site-packages (from Twisted->tensor) (7.1.1)\n",
      "Requirement already satisfied: colorama in c:\\users\\goldferret\\pycharmprojects\\ndmn-jupyter-notebook\\venv\\lib\\site-packages (from click~=8.0->fiona>=1.8.21->geopandas) (0.4.6)\n",
      "Requirement already satisfied: googleapis-common-protos<2.0.dev0,>=1.56.2 in c:\\users\\goldferret\\pycharmprojects\\ndmn-jupyter-notebook\\venv\\lib\\site-packages (from google-api-core!=2.0.*,!=2.1.*,!=2.2.*,!=2.3.0,<3.0.0.dev0,>=1.31.5->google-api-python-client>=1.12.1->earthengine-api) (1.65.0)\n",
      "Requirement already satisfied: proto-plus<2.0.0dev,>=1.22.3 in c:\\users\\goldferret\\pycharmprojects\\ndmn-jupyter-notebook\\venv\\lib\\site-packages (from google-api-core!=2.0.*,!=2.1.*,!=2.2.*,!=2.3.0,<3.0.0.dev0,>=1.31.5->google-api-python-client>=1.12.1->earthengine-api) (1.24.0)\n",
      "Requirement already satisfied: comm>=0.1.3 in c:\\users\\goldferret\\pycharmprojects\\ndmn-jupyter-notebook\\venv\\lib\\site-packages (from ipywidgets->ipyfilechooser>=0.6.0->geemap) (0.2.2)\n",
      "Requirement already satisfied: ipython>=6.1.0 in c:\\users\\goldferret\\pycharmprojects\\ndmn-jupyter-notebook\\venv\\lib\\site-packages (from ipywidgets->ipyfilechooser>=0.6.0->geemap) (8.28.0)\n",
      "Requirement already satisfied: widgetsnbextension~=4.0.12 in c:\\users\\goldferret\\pycharmprojects\\ndmn-jupyter-notebook\\venv\\lib\\site-packages (from ipywidgets->ipyfilechooser>=0.6.0->geemap) (4.0.13)\n",
      "Requirement already satisfied: jupyterlab-widgets~=3.0.12 in c:\\users\\goldferret\\pycharmprojects\\ndmn-jupyter-notebook\\venv\\lib\\site-packages (from ipywidgets->ipyfilechooser>=0.6.0->geemap) (3.0.13)\n",
      "Requirement already satisfied: decorator in c:\\users\\goldferret\\pycharmprojects\\ndmn-jupyter-notebook\\venv\\lib\\site-packages (from ratelim->geocoder->geemap) (5.1.1)\n",
      "Requirement already satisfied: jedi>=0.16 in c:\\users\\goldferret\\pycharmprojects\\ndmn-jupyter-notebook\\venv\\lib\\site-packages (from ipython>=6.1.0->ipywidgets->ipyfilechooser>=0.6.0->geemap) (0.19.1)\n",
      "Requirement already satisfied: matplotlib-inline in c:\\users\\goldferret\\pycharmprojects\\ndmn-jupyter-notebook\\venv\\lib\\site-packages (from ipython>=6.1.0->ipywidgets->ipyfilechooser>=0.6.0->geemap) (0.1.7)\n",
      "Requirement already satisfied: prompt-toolkit<3.1.0,>=3.0.41 in c:\\users\\goldferret\\pycharmprojects\\ndmn-jupyter-notebook\\venv\\lib\\site-packages (from ipython>=6.1.0->ipywidgets->ipyfilechooser>=0.6.0->geemap) (3.0.48)\n",
      "Requirement already satisfied: pygments>=2.4.0 in c:\\users\\goldferret\\pycharmprojects\\ndmn-jupyter-notebook\\venv\\lib\\site-packages (from ipython>=6.1.0->ipywidgets->ipyfilechooser>=0.6.0->geemap) (2.18.0)\n",
      "Requirement already satisfied: stack-data in c:\\users\\goldferret\\pycharmprojects\\ndmn-jupyter-notebook\\venv\\lib\\site-packages (from ipython>=6.1.0->ipywidgets->ipyfilechooser>=0.6.0->geemap) (0.6.3)\n",
      "Requirement already satisfied: parso<0.9.0,>=0.8.3 in c:\\users\\goldferret\\pycharmprojects\\ndmn-jupyter-notebook\\venv\\lib\\site-packages (from jedi>=0.16->ipython>=6.1.0->ipywidgets->ipyfilechooser>=0.6.0->geemap) (0.8.4)\n",
      "Requirement already satisfied: wcwidth in c:\\users\\goldferret\\pycharmprojects\\ndmn-jupyter-notebook\\venv\\lib\\site-packages (from prompt-toolkit<3.1.0,>=3.0.41->ipython>=6.1.0->ipywidgets->ipyfilechooser>=0.6.0->geemap) (0.2.13)\n",
      "Requirement already satisfied: executing>=1.2.0 in c:\\users\\goldferret\\pycharmprojects\\ndmn-jupyter-notebook\\venv\\lib\\site-packages (from stack-data->ipython>=6.1.0->ipywidgets->ipyfilechooser>=0.6.0->geemap) (2.1.0)\n",
      "Requirement already satisfied: asttokens>=2.1.0 in c:\\users\\goldferret\\pycharmprojects\\ndmn-jupyter-notebook\\venv\\lib\\site-packages (from stack-data->ipython>=6.1.0->ipywidgets->ipyfilechooser>=0.6.0->geemap) (2.4.1)\n",
      "Requirement already satisfied: pure-eval in c:\\users\\goldferret\\pycharmprojects\\ndmn-jupyter-notebook\\venv\\lib\\site-packages (from stack-data->ipython>=6.1.0->ipywidgets->ipyfilechooser>=0.6.0->geemap) (0.2.3)\n"
     ]
    }
   ],
   "execution_count": 1
  },
  {
   "metadata": {},
   "cell_type": "markdown",
   "source": "### Importing packages",
   "id": "1a77af3218a47514"
  },
  {
   "cell_type": "code",
   "id": "07ebfc57-d195-4ede-b225-49c6e6af56f0",
   "metadata": {
    "ExecuteTime": {
     "end_time": "2024-11-21T22:20:04.473250Z",
     "start_time": "2024-11-21T22:19:59.231830Z"
    }
   },
   "source": [
    "from geopandas import GeoDataFrame\n",
    "from shapely.geometry import Point\n",
    "import geopandas as gpd\n",
    "import pandas as pd\n",
    "import numpy as np\n",
    "import geemap\n",
    "import ee\n",
    "import folium"
   ],
   "outputs": [],
   "execution_count": 2
  },
  {
   "metadata": {},
   "cell_type": "markdown",
   "source": "### Importing our Dataset",
   "id": "1b301195b4ddc7ea"
  },
  {
   "metadata": {
    "ExecuteTime": {
     "end_time": "2024-11-21T22:23:20.022689Z",
     "start_time": "2024-11-21T22:23:11.180445Z"
    }
   },
   "cell_type": "code",
   "source": [
    "# We are importing the observational data from the ZIP file provided (which contains the shape file) into a GeoDataFrame\n",
    "gdf = gpd.read_file('Data/Clasification_Plots.zip')\n",
    "\n",
    "# These display information about the GeoDataFrame to confirm the contains are what we expected\n",
    "display(gdf.crs)\n",
    "display(gdf.columns)"
   ],
   "id": "95e022c3571a50eb",
   "outputs": [
    {
     "data": {
      "text/plain": [
       "<IPython.core.display.HTML object>"
      ],
      "text/html": [
       "\n",
       "            <style>\n",
       "                .geemap-dark {\n",
       "                    --jp-widgets-color: white;\n",
       "                    --jp-widgets-label-color: white;\n",
       "                    --jp-ui-font-color1: white;\n",
       "                    --jp-layout-color2: #454545;\n",
       "                    background-color: #383838;\n",
       "                }\n",
       "\n",
       "                .geemap-dark .jupyter-button {\n",
       "                    --jp-layout-color3: #383838;\n",
       "                }\n",
       "\n",
       "                .geemap-colab {\n",
       "                    background-color: var(--colab-primary-surface-color, white);\n",
       "                }\n",
       "\n",
       "                .geemap-colab .jupyter-button {\n",
       "                    --jp-layout-color3: var(--colab-primary-surface-color, white);\n",
       "                }\n",
       "            </style>\n",
       "            "
      ]
     },
     "metadata": {},
     "output_type": "display_data"
    },
    {
     "data": {
      "text/plain": [
       "<Geographic 2D CRS: EPSG:4326>\n",
       "Name: WGS 84\n",
       "Axis Info [ellipsoidal]:\n",
       "- Lat[north]: Geodetic latitude (degree)\n",
       "- Lon[east]: Geodetic longitude (degree)\n",
       "Area of Use:\n",
       "- name: World.\n",
       "- bounds: (-180.0, -90.0, 180.0, 90.0)\n",
       "Datum: World Geodetic System 1984 ensemble\n",
       "- Ellipsoid: WGS 84\n",
       "- Prime Meridian: Greenwich"
      ]
     },
     "metadata": {},
     "output_type": "display_data"
    },
    {
     "data": {
      "text/plain": [
       "Index(['Source.Nam', 'plotid', 'sampleid', 'lon', 'lat', 'sample_geo', 'Uso',\n",
       "       'Cobertura', 'Vegetacion', 'Herbaceas', 'Pasto_Arb', 'Cultivo',\n",
       "       'Humedal', 'Terreno', 'Agua', 'Otra_clase', 'SAF', 'Cambios15_',\n",
       "       'Gana_Perdi', 'geometry'],\n",
       "      dtype='object')"
      ]
     },
     "metadata": {},
     "output_type": "display_data"
    }
   ],
   "execution_count": 7
  },
  {
   "metadata": {},
   "cell_type": "markdown",
   "source": [
    "## Section 2: English Translations\n",
    "### {subheading}"
   ],
   "id": "df3871676c332f80"
  },
  {
   "metadata": {},
   "cell_type": "code",
   "outputs": [],
   "execution_count": null,
   "source": "# Insert code here for Section 2",
   "id": "3c090ce846caac0a"
  },
  {
   "metadata": {},
   "cell_type": "markdown",
   "source": [
    "## Section 3: Clean Observational Data\n",
    "### {subheading}"
   ],
   "id": "c45b12ced9196845"
  },
  {
   "metadata": {},
   "cell_type": "code",
   "outputs": [],
   "execution_count": null,
   "source": "# Insert code here for Section 3",
   "id": "cd2f9170995eb728"
  },
  {
   "metadata": {},
   "cell_type": "markdown",
   "source": [
    "## Section 4: Extract Medoid and NEM Data\n",
    "### Forewarning\n",
    "\n",
    "The following two sections will take at least an hour to run, and will require setting up a Google Earth Engine project within your Google Drive.\n",
    "Therefore, if you'd prefer to skip this section, please uncomment the code below, run it, and skip to Section 6."
   ],
   "id": "eecea8fee39334d2"
  },
  {
   "metadata": {},
   "cell_type": "code",
   "outputs": [],
   "execution_count": null,
   "source": "# Insert code here that imports a saved GeoDataFrame with Medoid, NEM, and Predictor Data",
   "id": "8e1236efc5050778"
  },
  {
   "metadata": {},
   "cell_type": "markdown",
   "source": "TODO: Add comments about what the cell above does",
   "id": "9fab24346eebfea3"
  },
  {
   "metadata": {},
   "cell_type": "code",
   "outputs": [],
   "execution_count": null,
   "source": "# Insert code here from John's notebook on Medoid and NEM Data",
   "id": "b5c79482e8deb8ee"
  },
  {
   "metadata": {},
   "cell_type": "markdown",
   "source": [
    "## Section 5: Create and Extract Predictor Surfaces\n",
    "### {subheading}"
   ],
   "id": "932901314d557499"
  },
  {
   "metadata": {},
   "cell_type": "code",
   "outputs": [],
   "execution_count": null,
   "source": "# Insert code here from John's notebook on Predictor Values and Surfaces",
   "id": "aea3c02622e4da09"
  },
  {
   "metadata": {},
   "cell_type": "markdown",
   "source": [
    "## Section 6: Clean Remote Sensing Data\n",
    "### {subheading}"
   ],
   "id": "d294bdba2a8c3e29"
  },
  {
   "metadata": {},
   "cell_type": "code",
   "outputs": [],
   "execution_count": null,
   "source": "# Insert code here that cleans the Remote Sensing Data and discusses any observations",
   "id": "c16a394e468c4ff2"
  },
  {
   "metadata": {},
   "cell_type": "markdown",
   "source": [
    "## Section 7: Preprocessing\n",
    "### {subheading}"
   ],
   "id": "3c9ce13c58e66350"
  },
  {
   "metadata": {},
   "cell_type": "code",
   "outputs": [],
   "execution_count": null,
   "source": "# Insert code here that prepares the data for modeling",
   "id": "bccd88d154816103"
  },
  {
   "metadata": {},
   "cell_type": "markdown",
   "source": [
    "## Section 8: Build a Predictive Model\n",
    "### {subheading}"
   ],
   "id": "6e76da53c2b0220f"
  },
  {
   "metadata": {},
   "cell_type": "code",
   "outputs": [],
   "execution_count": null,
   "source": "# Insert code here that builds the Predictive Model",
   "id": "640534879beb049b"
  }
 ],
 "metadata": {
  "kernelspec": {
   "display_name": "Python 3 (ipykernel)",
   "language": "python",
   "name": "python3"
  },
  "language_info": {
   "codemirror_mode": {
    "name": "ipython",
    "version": 3
   },
   "file_extension": ".py",
   "mimetype": "text/x-python",
   "name": "python",
   "nbconvert_exporter": "python",
   "pygments_lexer": "ipython3",
   "version": "3.11.5"
  }
 },
 "nbformat": 4,
 "nbformat_minor": 5
}
