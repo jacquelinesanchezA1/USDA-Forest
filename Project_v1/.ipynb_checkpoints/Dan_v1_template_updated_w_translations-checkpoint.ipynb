{
 "cells": [
  {
   "cell_type": "markdown",
   "id": "6129cb775fb263c1",
   "metadata": {},
   "source": [
    "# Costa Rica Pipeline Notebook\n",
    "## {Insert info on notebook purpose}\n",
    "\n",
    "### Project objective:\n",
    "- {TODO}\n",
    "\n",
    "#### Notebook sections:\n",
    "1. Setup\n",
    "2. English Translations\n",
    "3. Clean Observational data\n",
    "4. Extract Medoid and NEM data (provide file of data in case they don't want to run it for hours)\n",
    "5. Create and Extract Predictor surfaces (pred2)\n",
    "6. Clean Remote Sensing data\n",
    "7. Preprocessing\n",
    "8. Build a predictive model\n",
    "\n",
    "#### Data sources\n",
    "- {TODO}"
   ]
  },
  {
   "cell_type": "markdown",
   "id": "93f55ba3397ddaee",
   "metadata": {},
   "source": [
    "## Section 1: Setup\n",
    "### Installing software"
   ]
  },
  {
   "cell_type": "code",
   "execution_count": 1,
   "id": "2c92524a-c64c-4c4b-b233-daaddf0be7f8",
   "metadata": {
    "ExecuteTime": {
     "end_time": "2024-11-22T01:46:44.240105Z",
     "start_time": "2024-11-22T01:46:40.819432Z"
    },
    "scrolled": true
   },
   "outputs": [],
   "source": [
    "# !pip install pandas numpy geopandas seaborn scikit-learn tensor folium folium matplotlib mapclassify earthengine-api geemap"
   ]
  },
  {
   "cell_type": "markdown",
   "id": "1a77af3218a47514",
   "metadata": {},
   "source": [
    "### Importing packages"
   ]
  },
  {
   "cell_type": "code",
   "execution_count": 2,
   "id": "07ebfc57-d195-4ede-b225-49c6e6af56f0",
   "metadata": {
    "ExecuteTime": {
     "end_time": "2024-11-22T01:46:44.312690Z",
     "start_time": "2024-11-22T01:46:44.306283Z"
    }
   },
   "outputs": [],
   "source": [
    "# Geospatial libraries for handling and visualizing geospatial data\n",
    "from geopandas import GeoDataFrame\n",
    "from shapely.geometry import Point\n",
    "import geopandas as gpd\n",
    "import folium\n",
    "import geemap\n",
    "import ee\n",
    "\n",
    "# general-purpose data manipulation libraries\n",
    "import pandas as pd\n",
    "import numpy as np\n",
    "\n",
    "# data visualization and graphing purposes\n",
    "import matplotlib.pyplot as plt\n",
    "import seaborn as sb \n",
    "\n",
    "\n",
    "import pprint"
   ]
  },
  {
   "cell_type": "markdown",
   "id": "1b301195b4ddc7ea",
   "metadata": {},
   "source": [
    "### Importing our Dataset"
   ]
  },
  {
   "cell_type": "code",
   "execution_count": 3,
   "id": "95e022c3571a50eb",
   "metadata": {
    "ExecuteTime": {
     "end_time": "2024-11-22T01:46:53.330257Z",
     "start_time": "2024-11-22T01:46:44.347678Z"
    }
   },
   "outputs": [
    {
     "data": {
      "text/html": [
       "\n",
       "            <style>\n",
       "                .geemap-dark {\n",
       "                    --jp-widgets-color: white;\n",
       "                    --jp-widgets-label-color: white;\n",
       "                    --jp-ui-font-color1: white;\n",
       "                    --jp-layout-color2: #454545;\n",
       "                    background-color: #383838;\n",
       "                }\n",
       "\n",
       "                .geemap-dark .jupyter-button {\n",
       "                    --jp-layout-color3: #383838;\n",
       "                }\n",
       "\n",
       "                .geemap-colab {\n",
       "                    background-color: var(--colab-primary-surface-color, white);\n",
       "                }\n",
       "\n",
       "                .geemap-colab .jupyter-button {\n",
       "                    --jp-layout-color3: var(--colab-primary-surface-color, white);\n",
       "                }\n",
       "            </style>\n",
       "            "
      ],
      "text/plain": [
       "<IPython.core.display.HTML object>"
      ]
     },
     "metadata": {},
     "output_type": "display_data"
    },
    {
     "data": {
      "text/plain": [
       "<Geographic 2D CRS: EPSG:4326>\n",
       "Name: WGS 84\n",
       "Axis Info [ellipsoidal]:\n",
       "- Lat[north]: Geodetic latitude (degree)\n",
       "- Lon[east]: Geodetic longitude (degree)\n",
       "Area of Use:\n",
       "- name: World.\n",
       "- bounds: (-180.0, -90.0, 180.0, 90.0)\n",
       "Datum: World Geodetic System 1984 ensemble\n",
       "- Ellipsoid: WGS 84\n",
       "- Prime Meridian: Greenwich"
      ]
     },
     "metadata": {},
     "output_type": "display_data"
    },
    {
     "data": {
      "text/plain": [
       "Index(['Source.Nam', 'plotid', 'sampleid', 'lon', 'lat', 'sample_geo', 'Uso',\n",
       "       'Cobertura', 'Vegetacion', 'Herbaceas', 'Pasto_Arb', 'Cultivo',\n",
       "       'Humedal', 'Terreno', 'Agua', 'Otra_clase', 'SAF', 'Cambios15_',\n",
       "       'Gana_Perdi', 'geometry'],\n",
       "      dtype='object')"
      ]
     },
     "metadata": {},
     "output_type": "display_data"
    }
   ],
   "source": [
    "# We are importing the observational data from the ZIP file provided (which contains the shape file) into a GeoDataFrame\n",
    "gdf = gpd.read_file('Data/Clasification_Plots.zip')\n",
    "\n",
    "# These display information about the GeoDataFrame to confirm the contains are what we expected\n",
    "display(gdf.crs)\n",
    "display(gdf.columns)"
   ]
  },
  {
   "cell_type": "code",
   "execution_count": 4,
   "id": "7ec59a03c89f6dfd",
   "metadata": {
    "ExecuteTime": {
     "end_time": "2024-11-22T01:46:53.496764Z",
     "start_time": "2024-11-22T01:46:53.473488Z"
    }
   },
   "outputs": [
    {
     "data": {
      "text/html": [
       "\n",
       "            <style>\n",
       "                .geemap-dark {\n",
       "                    --jp-widgets-color: white;\n",
       "                    --jp-widgets-label-color: white;\n",
       "                    --jp-ui-font-color1: white;\n",
       "                    --jp-layout-color2: #454545;\n",
       "                    background-color: #383838;\n",
       "                }\n",
       "\n",
       "                .geemap-dark .jupyter-button {\n",
       "                    --jp-layout-color3: #383838;\n",
       "                }\n",
       "\n",
       "                .geemap-colab {\n",
       "                    background-color: var(--colab-primary-surface-color, white);\n",
       "                }\n",
       "\n",
       "                .geemap-colab .jupyter-button {\n",
       "                    --jp-layout-color3: var(--colab-primary-surface-color, white);\n",
       "                }\n",
       "            </style>\n",
       "            "
      ],
      "text/plain": [
       "<IPython.core.display.HTML object>"
      ]
     },
     "metadata": {},
     "output_type": "display_data"
    },
    {
     "data": {
      "text/plain": [
       "{'Otra_clase': [None,\n",
       "  'Edificado / Desarrollado',\n",
       "  'Suelo desnudo',\n",
       "  'Nubes',\n",
       "  'Sombra de nubes',\n",
       "  'Paramo',\n",
       "  'Playas y arenales']}"
      ]
     },
     "metadata": {},
     "output_type": "display_data"
    },
    {
     "data": {
      "text/plain": [
       "{'Cobertura': ['Vegetacion',\n",
       "  'Sin vegetacion',\n",
       "  'Agua',\n",
       "  'Sin informacion',\n",
       "  'Nubes y sombras',\n",
       "  None]}"
      ]
     },
     "metadata": {},
     "output_type": "display_data"
    }
   ],
   "source": [
    "# Extra analysis, remove later\n",
    "unique_values = {'Otra_clase': gdf['Otra_clase'].unique().tolist()}\n",
    "display(unique_values)\n",
    "\n",
    "unique_values = {'Cobertura': gdf['Cobertura'].unique().tolist()}\n",
    "display(unique_values)"
   ]
  },
  {
   "cell_type": "markdown",
   "id": "df3871676c332f80",
   "metadata": {},
   "source": [
    "## Section 2: English Translations\n",
    "### {subheading}"
   ]
  },
  {
   "cell_type": "code",
   "execution_count": 5,
   "id": "3c090ce846caac0a",
   "metadata": {
    "ExecuteTime": {
     "end_time": "2024-11-22T01:46:53.641011Z",
     "start_time": "2024-11-22T01:46:53.635930Z"
    }
   },
   "outputs": [
    {
     "data": {
      "text/html": [
       "\n",
       "            <style>\n",
       "                .geemap-dark {\n",
       "                    --jp-widgets-color: white;\n",
       "                    --jp-widgets-label-color: white;\n",
       "                    --jp-ui-font-color1: white;\n",
       "                    --jp-layout-color2: #454545;\n",
       "                    background-color: #383838;\n",
       "                }\n",
       "\n",
       "                .geemap-dark .jupyter-button {\n",
       "                    --jp-layout-color3: #383838;\n",
       "                }\n",
       "\n",
       "                .geemap-colab {\n",
       "                    background-color: var(--colab-primary-surface-color, white);\n",
       "                }\n",
       "\n",
       "                .geemap-colab .jupyter-button {\n",
       "                    --jp-layout-color3: var(--colab-primary-surface-color, white);\n",
       "                }\n",
       "            </style>\n",
       "            "
      ],
      "text/plain": [
       "<IPython.core.display.HTML object>"
      ]
     },
     "metadata": {},
     "output_type": "display_data"
    }
   ],
   "source": [
    "# Insert code here for Section 2\n",
    "k_clms = ['plotid','sampleid','Uso','Cobertura','Vegetacion','Herbaceas', 'Pasto_Arb', 'Cultivo','Humedal', 'Terreno','Agua','Otra_clase','SAF','Cambios15_','Gana_Perdi','geometry']\n",
    "gdf_s=gdf[k_clms]\n",
    "# gdf_s\n",
    "\n",
    "\n",
    "# new column names\n",
    "english_translations_predictors = {\n",
    "    'Uso': 'Use',\n",
    "    'Cobertura': 'CoverType',\n",
    "    'Vegetacion': 'Vegetations',\n",
    "    'Herbaceas': 'Herbaceous',\n",
    "    'Pasto_Arb': 'GrasslandShrub',\n",
    "    'Cultivo': 'CropsType',\n",
    "    'Humedal': 'WetlandArea',\n",
    "    'Terreno': 'LandType',\n",
    "    'Agua': 'WaterBodyType',\n",
    "    'Otra_clase': 'OtherClass',\n",
    "    'SAF': 'SAF',  \n",
    "    'Cambios15_': 'Changes_15',\n",
    "    'Gana_Perdi': 'Gain_Loss',\n",
    "}\n",
    "\n",
    "# Create a new GeoDataFrame with selected columns and translations\n",
    "gdf_s = gdf[k_clms].copy()  # Creating a new GeoDataFrame\n",
    "gdf_s.rename(columns=english_translations_predictors, inplace=True)  # Renaming columns\n",
    "# Save the new GeoDataFrame to gdf_e\n",
    "gdf_e = gdf_s.copy()"
   ]
  },
  {
   "cell_type": "code",
   "execution_count": 6,
   "id": "314b31d4",
   "metadata": {},
   "outputs": [
    {
     "data": {
      "text/html": [
       "\n",
       "            <style>\n",
       "                .geemap-dark {\n",
       "                    --jp-widgets-color: white;\n",
       "                    --jp-widgets-label-color: white;\n",
       "                    --jp-ui-font-color1: white;\n",
       "                    --jp-layout-color2: #454545;\n",
       "                    background-color: #383838;\n",
       "                }\n",
       "\n",
       "                .geemap-dark .jupyter-button {\n",
       "                    --jp-layout-color3: #383838;\n",
       "                }\n",
       "\n",
       "                .geemap-colab {\n",
       "                    background-color: var(--colab-primary-surface-color, white);\n",
       "                }\n",
       "\n",
       "                .geemap-colab .jupyter-button {\n",
       "                    --jp-layout-color3: var(--colab-primary-surface-color, white);\n",
       "                }\n",
       "            </style>\n",
       "            "
      ],
      "text/plain": [
       "<IPython.core.display.HTML object>"
      ]
     },
     "metadata": {},
     "output_type": "display_data"
    }
   ],
   "source": [
    "# # verify if everything has been named properly\n",
    "# gdf_e.head()\n",
    "# gdf_e.dtypes # each feature is categorical so, we need to further translate the unique values for the geo df"
   ]
  },
  {
   "cell_type": "code",
   "execution_count": 7,
   "id": "83fe1113",
   "metadata": {},
   "outputs": [
    {
     "data": {
      "text/html": [
       "\n",
       "            <style>\n",
       "                .geemap-dark {\n",
       "                    --jp-widgets-color: white;\n",
       "                    --jp-widgets-label-color: white;\n",
       "                    --jp-ui-font-color1: white;\n",
       "                    --jp-layout-color2: #454545;\n",
       "                    background-color: #383838;\n",
       "                }\n",
       "\n",
       "                .geemap-dark .jupyter-button {\n",
       "                    --jp-layout-color3: #383838;\n",
       "                }\n",
       "\n",
       "                .geemap-colab {\n",
       "                    background-color: var(--colab-primary-surface-color, white);\n",
       "                }\n",
       "\n",
       "                .geemap-colab .jupyter-button {\n",
       "                    --jp-layout-color3: var(--colab-primary-surface-color, white);\n",
       "                }\n",
       "            </style>\n",
       "            "
      ],
      "text/plain": [
       "<IPython.core.display.HTML object>"
      ]
     },
     "metadata": {},
     "output_type": "display_data"
    },
    {
     "name": "stdout",
     "output_type": "stream",
     "text": [
      "Use                 [Bosque, Pastos, Humedal, Otras clases, Agricultura, Plantacion forestal, Sin informacion, None]\n",
      "CoverType                                 [Vegetacion, Sin vegetacion, Agua, Sin informacion, Nubes y sombras, None]\n",
      "Vegetations                           [Arboles, Herbaceas, None, Palmas, Arbustos, Otra vegetacion, Saran, Plastico]\n",
      "Herbaceous                                                              [None, Gramineas, Otras Herbaceas, Musaceas]\n",
      "GrasslandShrub                 [None, Pastos mezclados (70-90%), Pastos Puros (90-100%), Pastos Combinados (50-70%)]\n",
      "CropsType                              [None, Pina, Otro, Arroz, Citricos, Cana, Palma, Banano, Melon, Sandia, Cafe]\n",
      "WetlandArea                                 [None, Pantano (Palustre), Cuerpos de agua, Yolillal, Salinera, Manglar]\n",
      "LandType                                               [None, Otras superficies, Terreno descubierto, Suelo desnudo]\n",
      "WaterBodyType                                                                       [None, Continentales, Mar�timas]\n",
      "OtherClass        [None, Edificado / Desarrollado, Suelo desnudo, Nubes, Sombra de nubes, Paramo, Playas y arenales]\n",
      "SAF                            [None, Cultivo Puro (90-100%), Cultivo mezclado (70-90%), Cultivo Combinado (50-70%)]\n",
      "Changes_15                                                                           [No se determina, No, Si, None]\n",
      "Gain_Loss                                                              [None, Perdida de Bosque, Ganancia de Bosque]\n",
      "dtype: object\n"
     ]
    }
   ],
   "source": [
    "# set display options to show more content\n",
    "pd.set_option('display.max_colwidth', None)  # Allows full width of content in each column\n",
    "pd.set_option('display.max_rows', None)      # Show all rows (if there are not too many unique values)\n",
    "\n",
    "# Now, get and display unique values for each categorical feature\n",
    "unique_values = gdf_s.select_dtypes(include=['object', 'category']).apply(lambda x: x.unique())\n",
    "\n",
    "# Display the result\n",
    "print(unique_values)"
   ]
  },
  {
   "cell_type": "markdown",
   "id": "22e5150c",
   "metadata": {},
   "source": [
    "### Spanish to English Translation for each Feature unique value in the `gdf_s`\n",
    "Renanming each predictor according to their respective English translation"
   ]
  },
  {
   "cell_type": "code",
   "execution_count": 8,
   "id": "9d88cb1f",
   "metadata": {},
   "outputs": [
    {
     "data": {
      "text/html": [
       "\n",
       "            <style>\n",
       "                .geemap-dark {\n",
       "                    --jp-widgets-color: white;\n",
       "                    --jp-widgets-label-color: white;\n",
       "                    --jp-ui-font-color1: white;\n",
       "                    --jp-layout-color2: #454545;\n",
       "                    background-color: #383838;\n",
       "                }\n",
       "\n",
       "                .geemap-dark .jupyter-button {\n",
       "                    --jp-layout-color3: #383838;\n",
       "                }\n",
       "\n",
       "                .geemap-colab {\n",
       "                    background-color: var(--colab-primary-surface-color, white);\n",
       "                }\n",
       "\n",
       "                .geemap-colab .jupyter-button {\n",
       "                    --jp-layout-color3: var(--colab-primary-surface-color, white);\n",
       "                }\n",
       "            </style>\n",
       "            "
      ],
      "text/plain": [
       "<IPython.core.display.HTML object>"
      ]
     },
     "metadata": {},
     "output_type": "display_data"
    }
   ],
   "source": [
    "# Translation dictionaries for each categorical predictor\n",
    "translation_dicts = {\n",
    "    'Use': { # num of missing values: 216\n",
    "        'Bosque': 'Forest',\n",
    "        'Pastos': 'Grasslands',\n",
    "        'Humedal': 'Wetlands',\n",
    "        'Otras clases': 'Other classes',\n",
    "        'Agricultura': 'Agriculture',\n",
    "        'Plantacion forestal': 'Forest plantation',\n",
    "        'Sin informacion': 'No information',\n",
    "        'None': 'None'\n",
    "    },\n",
    "    'CoverType': { # num of missing values: 216\n",
    "        'Vegetacion': 'Vegetation',\n",
    "        'Sin vegetacion': 'No vegetation',\n",
    "        'Agua': 'Water',\n",
    "        'Sin informacion': 'No information',\n",
    "        'Nubes y sombras': 'Clouds and shadows',\n",
    "        'None': 'None'\n",
    "    },\n",
    "     'Changes_15': {# num of missing values: 216\n",
    "        'No se determina': 'Not determined',\n",
    "        'No': 'No',\n",
    "        'Si': 'Yes',\n",
    "        'None': 'None'\n",
    "    },\n",
    "    'Vegetations': {\n",
    "        'Arboles': 'Trees',\n",
    "        'Herbaceas': 'Herbaceous plants',\n",
    "        'None': 'None',\n",
    "        'Palmas': 'Palms',\n",
    "        'Arbustos': 'Shrubs',\n",
    "        'Otra vegetacion': 'Other vegetation',\n",
    "        'Saran': 'Saran (plastic cover)',\n",
    "        'Plastico': 'Plastic'\n",
    "    },\n",
    "    'Herbaceous': {\n",
    "        'None': 'None',\n",
    "        'Gramineas': 'Grasses',\n",
    "        'Otras Herbaceas': 'Other Herbaceous',\n",
    "        'Musaceas': 'Plantains'\n",
    "    },\n",
    "    'GrasslandShrub': {\n",
    "        'None': 'None',\n",
    "        'Pastos mezclados (70-90%)': 'Mixed Pasture (70-90%)',\n",
    "        'Pastos Puros (90-100%)': 'Pure Pasture (90-100%)',\n",
    "        'Pastos Combinados (50-70%)': 'Combined Pasture (50-70%)'\n",
    "    },\n",
    "    'CropsType': { # 10 different crop types \n",
    "        'None': 'None',\n",
    "        'Pina': 'Pineapple',\n",
    "        'Otro': 'Other',\n",
    "        'Arroz': 'Rice',\n",
    "        'Citricos': 'Citrus',\n",
    "        'Cana': 'Sugarcane',\n",
    "        'Palma': 'Palm',\n",
    "        'Banano': 'Banana',\n",
    "        'Melon': 'Melon',\n",
    "        'Sandia': 'Watermelon',\n",
    "        'Cafe': 'Coffee'\n",
    "    },\n",
    "     'WaterBodyType': { # 2 types of water bodies\n",
    "        'None': 'None',\n",
    "        'Continentales': 'Continental',\n",
    "        'Mar�timas': 'Marine'\n",
    "    },\n",
    "    \n",
    "    'WetlandArea': { # 5 wetland area types \n",
    "        'None': 'None',\n",
    "        'Pantano (Palustre)': 'Swamp (Marsh)',\n",
    "        'Cuerpos de agua': 'Water bodies',\n",
    "        'Yolillal': 'Yolillal_Plants',\n",
    "        'Salinera': 'Salt marsh',\n",
    "        'Manglar': 'Mangrove'\n",
    "    },\n",
    "    'LandType': { \n",
    "        'None': 'None',\n",
    "        'Otras superficies': 'Other surfaces', # forested areas? \n",
    "        'Terreno descubierto': 'Exposed land', #  land degradation (soil is exposed)\n",
    "        'Suelo desnudo': 'Bare Land' # lacks cover (deforestation, desert)\n",
    "    },\n",
    "    'OtherClass': {\n",
    "        'None': 'None',\n",
    "        'Edificado / Desarrollado': 'Built/Developed',\n",
    "        'Suelo desnudo': 'Bare Land',\n",
    "        'Nubes': 'Clouds',\n",
    "        'Sombra de nubes': 'Cloud shadow',\n",
    "        'Paramo': 'Páramo (high-altitude ecosystem)',\n",
    "        'Playas y arenales': 'Beaches and sandbanks'\n",
    "    },\n",
    "    'SAF': {\n",
    "        'None': 'None',\n",
    "        'Cultivo Puro (90-100%)': 'Pure crop (90-100%)',\n",
    "        'Cultivo mezclado (70-90%)': 'Mixed crop (70-90%)',\n",
    "        'Cultivo Combinado (50-70%)': 'Combined crop (50-70%)'\n",
    "    },\n",
    "    'Gain_Loss': {\n",
    "        'None': 'None',# third category no gain or loss \n",
    "        'Perdida de Bosque': 'Forest loss',\n",
    "        'Ganancia de Bosque': 'Forest gain'\n",
    "    }\n",
    "}\n",
    "\n",
    "# Loop through each column and replace the Spanish values with the English translations\n",
    "for col, trans_dict in translation_dicts.items():\n",
    "    gdf_e[col] = gdf_e[col].replace(trans_dict)"
   ]
  },
  {
   "cell_type": "code",
   "execution_count": 9,
   "id": "5d9e54d5",
   "metadata": {},
   "outputs": [
    {
     "data": {
      "text/html": [
       "\n",
       "            <style>\n",
       "                .geemap-dark {\n",
       "                    --jp-widgets-color: white;\n",
       "                    --jp-widgets-label-color: white;\n",
       "                    --jp-ui-font-color1: white;\n",
       "                    --jp-layout-color2: #454545;\n",
       "                    background-color: #383838;\n",
       "                }\n",
       "\n",
       "                .geemap-dark .jupyter-button {\n",
       "                    --jp-layout-color3: #383838;\n",
       "                }\n",
       "\n",
       "                .geemap-colab {\n",
       "                    background-color: var(--colab-primary-surface-color, white);\n",
       "                }\n",
       "\n",
       "                .geemap-colab .jupyter-button {\n",
       "                    --jp-layout-color3: var(--colab-primary-surface-color, white);\n",
       "                }\n",
       "            </style>\n",
       "            "
      ],
      "text/plain": [
       "<IPython.core.display.HTML object>"
      ]
     },
     "metadata": {},
     "output_type": "display_data"
    },
    {
     "name": "stdout",
     "output_type": "stream",
     "text": [
      "Unique values for Use:\n",
      "['Forest' 'Grasslands' 'Wetlands' 'Other classes' 'Agriculture'\n",
      " 'Forest plantation' 'No information' None]\n",
      "\n",
      "\n",
      "Unique values for CoverType:\n",
      "['Vegetation' 'No vegetation' 'Water' 'No information'\n",
      " 'Clouds and shadows' None]\n",
      "\n",
      "\n",
      "Unique values for Vegetations:\n",
      "['Trees' 'Herbaceous plants' None 'Palms' 'Shrubs' 'Other vegetation'\n",
      " 'Saran (plastic cover)' 'Plastic']\n",
      "\n",
      "\n",
      "Unique values for Herbaceous:\n",
      "[None 'Grasses' 'Other Herbaceous' 'Plantains']\n",
      "\n",
      "\n",
      "Unique values for GrasslandShrub:\n",
      "[None 'Mixed Pasture (70-90%)' 'Pure Pasture (90-100%)'\n",
      " 'Combined Pasture (50-70%)']\n",
      "\n",
      "\n",
      "Unique values for CropsType:\n",
      "[None 'Pineapple' 'Other' 'Rice' 'Citrus' 'Sugarcane' 'Palm' 'Banana'\n",
      " 'Melon' 'Watermelon' 'Coffee']\n",
      "\n",
      "\n",
      "Unique values for WetlandArea:\n",
      "[None 'Swamp (Marsh)' 'Water bodies' 'Yolillal_Plants' 'Salt marsh'\n",
      " 'Mangrove']\n",
      "\n",
      "\n",
      "Unique values for LandType:\n",
      "[None 'Other surfaces' 'Exposed land' 'Bare Land']\n",
      "\n",
      "\n",
      "Unique values for WaterBodyType:\n",
      "[None 'Continental' 'Marine']\n",
      "\n",
      "\n",
      "Unique values for OtherClass:\n",
      "[None 'Built/Developed' 'Bare Land' 'Clouds' 'Cloud shadow'\n",
      " 'Páramo (high-altitude ecosystem)' 'Beaches and sandbanks']\n",
      "\n",
      "\n",
      "Unique values for SAF:\n",
      "[None 'Pure crop (90-100%)' 'Mixed crop (70-90%)' 'Combined crop (50-70%)']\n",
      "\n",
      "\n",
      "Unique values for Changes_15:\n",
      "['Not determined' 'No' 'Yes' None]\n",
      "\n",
      "\n",
      "Unique values for Gain_Loss:\n",
      "[None 'Forest loss' 'Forest gain']\n",
      "\n",
      "\n"
     ]
    }
   ],
   "source": [
    "# Now the original columns will be replaced with the translated English values\n",
    "# Display the unique translated values for each column\n",
    "for col in gdf_e.select_dtypes(include=['object', 'category']).columns:\n",
    "    print(f\"Unique values for {col}:\")\n",
    "    print(gdf_e[col].unique())\n",
    "    print(\"\\n\")"
   ]
  },
  {
   "cell_type": "markdown",
   "id": "f226d1d5",
   "metadata": {},
   "source": [
    "### New translated gdf is named \n",
    "∴ `gdf_e`"
   ]
  },
  {
   "cell_type": "markdown",
   "id": "c45b12ced9196845",
   "metadata": {},
   "source": [
    "## Section 3: Clean Observational Data"
   ]
  },
  {
   "cell_type": "markdown",
   "id": "2f255273",
   "metadata": {},
   "source": [
    "### Heat Matrix (to view the correlation relationship between all of the predictors) "
   ]
  },
  {
   "cell_type": "code",
   "execution_count": 10,
   "id": "a690535d",
   "metadata": {},
   "outputs": [
    {
     "data": {
      "text/html": [
       "\n",
       "            <style>\n",
       "                .geemap-dark {\n",
       "                    --jp-widgets-color: white;\n",
       "                    --jp-widgets-label-color: white;\n",
       "                    --jp-ui-font-color1: white;\n",
       "                    --jp-layout-color2: #454545;\n",
       "                    background-color: #383838;\n",
       "                }\n",
       "\n",
       "                .geemap-dark .jupyter-button {\n",
       "                    --jp-layout-color3: #383838;\n",
       "                }\n",
       "\n",
       "                .geemap-colab {\n",
       "                    background-color: var(--colab-primary-surface-color, white);\n",
       "                }\n",
       "\n",
       "                .geemap-colab .jupyter-button {\n",
       "                    --jp-layout-color3: var(--colab-primary-surface-color, white);\n",
       "                }\n",
       "            </style>\n",
       "            "
      ],
      "text/plain": [
       "<IPython.core.display.HTML object>"
      ]
     },
     "metadata": {},
     "output_type": "display_data"
    },
    {
     "data": {
      "image/png": "[encoded data removed]",
      "text/plain": [
       "<Figure size 1000x800 with 2 Axes>"
      ]
     },
     "metadata": {},
     "output_type": "display_data"
    }
   ],
   "source": [
    "# categorical missingness\n",
    "categorical_cols = gdf_e.select_dtypes(include=['object']).columns\n",
    "categorical_missing = gdf_e[categorical_cols].isnull()\n",
    "\n",
    "# numerical missingness\n",
    "numerical_cols = gdf_e.select_dtypes(include=['float64', 'int64']).columns\n",
    "numerical_missing = gdf_e[numerical_cols].isnull()\n",
    "\n",
    "# Plot for categorical missingness\n",
    "plt.figure(figsize=(10, 8))\n",
    "sb.heatmap(categorical_missing.corr(), annot=True, cmap='coolwarm', fmt='.2f', cbar=True)\n",
    "plt.title(\"Correlation of Missing Values (Categorical)\")\n",
    "plt.show()"
   ]
  },
  {
   "cell_type": "markdown",
   "id": "f24a6854",
   "metadata": {},
   "source": [
    "### Groups based on some signficance"
   ]
  },
  {
   "cell_type": "markdown",
   "id": "eea585f6",
   "metadata": {},
   "source": [
    "### Col: Changes_15 \n",
    "- Vegetations\n",
    "- CoverType\n",
    "- Use"
   ]
  },
  {
   "cell_type": "code",
   "execution_count": 11,
   "id": "02fa4bb5",
   "metadata": {},
   "outputs": [
    {
     "data": {
      "text/html": [
       "\n",
       "            <style>\n",
       "                .geemap-dark {\n",
       "                    --jp-widgets-color: white;\n",
       "                    --jp-widgets-label-color: white;\n",
       "                    --jp-ui-font-color1: white;\n",
       "                    --jp-layout-color2: #454545;\n",
       "                    background-color: #383838;\n",
       "                }\n",
       "\n",
       "                .geemap-dark .jupyter-button {\n",
       "                    --jp-layout-color3: #383838;\n",
       "                }\n",
       "\n",
       "                .geemap-colab {\n",
       "                    background-color: var(--colab-primary-surface-color, white);\n",
       "                }\n",
       "\n",
       "                .geemap-colab .jupyter-button {\n",
       "                    --jp-layout-color3: var(--colab-primary-surface-color, white);\n",
       "                }\n",
       "            </style>\n",
       "            "
      ],
      "text/plain": [
       "<IPython.core.display.HTML object>"
      ]
     },
     "metadata": {},
     "output_type": "display_data"
    },
    {
     "name": "stdout",
     "output_type": "stream",
     "text": [
      "['Trees' 'Herbaceous plants' None 'Palms' 'Shrubs' 'Other vegetation'\n",
      " 'Saran (plastic cover)' 'Plastic']\n",
      "['Vegetation' 'No vegetation' 'Water' 'No information'\n",
      " 'Clouds and shadows' None]\n",
      "['Not determined' 'No' 'Yes' None]\n"
     ]
    }
   ],
   "source": [
    "# to get unique values of a specific column, for example 'Vegetations'\n",
    "unique_vegetations = gdf_e['Vegetations'].unique()\n",
    "print(unique_vegetations)\n",
    "\n",
    "unique_vegetations = gdf_e['CoverType'].unique()\n",
    "print(unique_vegetations)\n",
    "\n",
    "unique_vegetations = gdf_e['Changes_15'].unique()\n",
    "print(unique_vegetations)"
   ]
  },
  {
   "cell_type": "code",
   "execution_count": null,
   "id": "11160d8e",
   "metadata": {},
   "outputs": [],
   "source": [
    "# creating a boxplot for Changes_15 based on Vegetations\n",
    "plt.figure(figsize=(10, 6))\n",
    "sb.boxplot(x='Vegetations', y='Changes_15', data=gdf_e)\n",
    "plt.title('Boxplot of Changes_15 by Vegetations')\n",
    "plt.xlabel('Vegetations')\n",
    "plt.ylabel('Changes_15')\n",
    "plt.xticks(rotation=45)  # Rotate x-axis labels for better visibility\n",
    "plt.tight_layout()\n",
    "plt.show()\n",
    "\n",
    "# creating a boxplot for Changes_15 based on CoverType\n",
    "plt.figure(figsize=(10, 6))\n",
    "sb.boxplot(x='CoverType', y='Changes_15', data=gdf_e)\n",
    "plt.title('Boxplot of Changes_15 by CoverType')\n",
    "plt.xlabel('CoverType')\n",
    "plt.ylabel('Changes_15')\n",
    "plt.xticks(rotation=45)\n",
    "plt.tight_layout()\n",
    "plt.show()\n",
    "\n",
    "# creating a boxplot for Changes_15 based on Use\n",
    "plt.figure(figsize=(10, 6))\n",
    "sb.boxplot(x='Use', y='Changes_15', data=gdf_e)\n",
    "plt.title('Boxplot of Changes_15 by Use')\n",
    "plt.xlabel('Use')\n",
    "plt.ylabel('Changes_15')\n",
    "plt.xticks(rotation=45)\n",
    "plt.tight_layout()\n",
    "plt.show()"
   ]
  },
  {
   "cell_type": "markdown",
   "id": "35a1b540",
   "metadata": {},
   "source": [
    "### Viewing all of the missing value counts for each predictor"
   ]
  },
  {
   "cell_type": "code",
   "execution_count": null,
   "id": "89395786",
   "metadata": {},
   "outputs": [],
   "source": [
    "# count missing values for each column\n",
    "missing_values = gdf_e.isnull().sum()\n",
    "\n",
    "# sort the result by the count of missing values (ascending by default)\n",
    "sorted_missing_values = missing_values.sort_values(ascending = False)\n",
    "\n",
    "# display the result\n",
    "print(\"Missing values in each column (sorted):\")\n",
    "print(sorted_missing_values)\n",
    "print(f'the total number of entries form the original geodataframe: {gdf_e.shape}')"
   ]
  },
  {
   "cell_type": "markdown",
   "id": "ef2737b6",
   "metadata": {},
   "source": [
    "### Uso's Null Values & Cobertura's 'Sin informacion'"
   ]
  },
  {
   "cell_type": "code",
   "execution_count": null,
   "id": "cd2f9170995eb728",
   "metadata": {
    "ExecuteTime": {
     "end_time": "2024-11-22T01:46:53.797880Z",
     "start_time": "2024-11-22T01:46:53.699686Z"
    }
   },
   "outputs": [],
   "source": [
    "# Creates a subset of the data that only contains columns that had null/empty values (from previous output)\n",
    "# and the columns we are interested in (i.e. not Cambios15_ and Gana_Perdi)\n",
    "subset_gdf = gdf[['Uso', 'Cobertura', 'Vegetacion', 'Herbaceas', 'Pasto_Arb', 'Cultivo', 'Humedal', 'Terreno', 'Agua', 'Otra_clase', 'SAF']]\n",
    "\n",
    "# Search for the number of rows that contain all na values\n",
    "na_rows=subset_gdf[subset_gdf.isna().all(axis=1)]\n",
    "print('number of rows with all na =',na_rows.shape[0])\n",
    "\n",
    "# Display the dataframe of the rows which contain all na values (for confirmation)\n",
    "display(na_rows)"
   ]
  },
  {
   "cell_type": "code",
   "execution_count": null,
   "id": "fa9b081d8b46a338",
   "metadata": {
    "ExecuteTime": {
     "end_time": "2024-11-22T01:46:53.834240Z",
     "start_time": "2024-11-22T01:46:53.814079Z"
    }
   },
   "outputs": [],
   "source": [
    "# Creates a subset of our 'subset_gdf' where Uso and Cobertura have the value 'Sin informacion'\n",
    "# We do this because we want to check if these rows have any useful information (as 'Sin informacion' means no information)\n",
    "filtered_rows = subset_gdf[subset_gdf['Uso'] == 'Sin informacion']\n",
    "filtered_rows = filtered_rows[filtered_rows['Cobertura'] == 'Sin informacion']\n",
    "\n",
    "# Creates a dictionary of the unique values of all the columns in filtered_rows\n",
    "unique_values = {col: filtered_rows[col].unique().tolist() for col in filtered_rows.columns}\n",
    "\n",
    "# Check the unique values of the columns in filtered_rows\n",
    "pprint.pprint(unique_values, sort_dicts=False)\n",
    "# Since the rest of the columns have no values, this shows us that these rows are not important to keep "
   ]
  },
  {
   "cell_type": "code",
   "execution_count": null,
   "id": "49671368bd381287",
   "metadata": {
    "ExecuteTime": {
     "end_time": "2024-11-22T01:46:54.199644Z",
     "start_time": "2024-11-22T01:46:53.964027Z"
    }
   },
   "outputs": [],
   "source": [
    "# Create a subset of 'gdf' without the na_rows previously found\n",
    "gdf_cleaned = gdf.drop(na_rows.index)\n",
    "\n",
    "# Drops the rows from 'gdf_cleaned' that had 'Sin informacion' and null/empty values (i.e. filtered_rows)\n",
    "gdf_cleaned = gdf_cleaned.drop(filtered_rows.index)\n",
    "\n",
    "# Time to check the null presence and counts in each column\n",
    "nulls_in_columns = gdf_cleaned.isna().any()\n",
    "null_counts = gdf_cleaned.isna().sum()\n",
    "\n",
    "# Print the results in a visually aligned format\n",
    "print(f\"{'Column':<20}{'Contains Nulls':<15}\\t\\t\\t{'Null Count':<10}\")\n",
    "print(\"-\" * 55)\n",
    "\n",
    "for column in gdf_cleaned.columns:\n",
    "    has_null = nulls_in_columns[column]\n",
    "    null_count = null_counts[column]\n",
    "    print(f\"{column:<20}{str(has_null):<15}\\t\\t\\t{null_count:<10}\")\n",
    "    \n",
    "# Notice that now there are no nulls in 'Uso', 'Cobertura', and 'Cambios15_' (coincidentally).\n",
    "# The next smallest null count is from 'Vegetacion', so that's what we're going to look at next.\n",
    "# Furthermore, another reason why the 'Vegetacion' column is interesting is because it is used in every type of 'Uso'; meaning, it's supposed to be a must to fill-in."
   ]
  },
  {
   "cell_type": "markdown",
   "id": "15af45d7643efa39",
   "metadata": {},
   "source": [
    "### Looking into Vegetacion"
   ]
  },
  {
   "cell_type": "code",
   "execution_count": null,
   "id": "32b0586589198b2c",
   "metadata": {
    "ExecuteTime": {
     "end_time": "2024-11-22T01:46:54.339665Z",
     "start_time": "2024-11-22T01:46:54.222590Z"
    }
   },
   "outputs": [],
   "source": [
    "# Creates a subset of the data that only contains columns that had null/empty values (from previous output) and the columns we are interested in\n",
    "subset_gdf = gdf_cleaned[['Vegetacion', 'Herbaceas', 'Pasto_Arb', 'Cultivo', 'Humedal', 'Terreno', 'Agua', 'Otra_clase', 'SAF']]\n",
    "sliced_gdf = gdf_cleaned[['Uso', 'Cobertura', 'Vegetacion', 'Herbaceas', 'Pasto_Arb', 'Cultivo', 'Humedal', 'Terreno', 'Agua', 'Otra_clase', 'SAF', 'Cambios15_', 'Gana_Perdi']]\n",
    "\n",
    "# Search for the number of rows that contain all na values\n",
    "na_rows=subset_gdf[subset_gdf.isna().all(axis=1)]\n",
    "print('number of rows with all na =',na_rows.shape[0])\n",
    "# Display the dataframe of the rows which contain all na values (for confirmation)\n",
    "display(sliced_gdf.loc[na_rows.index])\n",
    "\n",
    "# Creates a dictionary of the unique values of all the columns in filtered_rows\n",
    "#unique_values = {col: sliced_gdf.loc[na_rows.index][col].unique().tolist() for col in sliced_gdf.loc[na_rows.index].columns}\n",
    "\n",
    "# Check the unique values of the columns in filtered_rows\n",
    "#pprint.pprint(unique_values, sort_dicts=False)\n",
    "\n",
    "# Ask the question, should we be keeping these records in the dataframe?\n",
    "# They provide no data outside of 'Uso' and 'Cobertura', and even then the data is limited to 'Sin informacion', 'Bosque', and 'Nubes y sombras'. "
   ]
  },
  {
   "cell_type": "code",
   "execution_count": null,
   "id": "20b34fce2a1612b6",
   "metadata": {
    "ExecuteTime": {
     "end_time": "2024-11-22T01:46:54.373151Z",
     "start_time": "2024-11-22T01:46:54.366890Z"
    }
   },
   "outputs": [],
   "source": [
    "# Insert code here for Section 3"
   ]
  },
  {
   "cell_type": "markdown",
   "id": "96fd4fa0",
   "metadata": {},
   "source": [
    "# WaterBodyType (Agua) Processing"
   ]
  },
  {
   "cell_type": "markdown",
   "id": "0076646e",
   "metadata": {},
   "source": [
    "### Imputing the rest of the features to perform Random Forest to predict and fill  WaterBodyType missing values "
   ]
  },
  {
   "cell_type": "code",
   "execution_count": null,
   "id": "9b314011",
   "metadata": {},
   "outputs": [],
   "source": [
    "# Libraries for the pre-processing pipeline v1 (basic imputation using mode (for categorical values))\n",
    "from sklearn.compose import ColumnTransformer\n",
    "from sklearn.pipeline import Pipeline\n",
    "from sklearn.impute import SimpleImputer"
   ]
  },
  {
   "cell_type": "code",
   "execution_count": null,
   "id": "b28c5998",
   "metadata": {},
   "outputs": [],
   "source": [
    "# replace non-standard missing values with np.nan\n",
    "gdf_e.replace([\"None\", None, \"\"], np.nan, inplace=True)\n",
    "\n",
    "# exclude the geometry column for processing\n",
    "gdf_e_non_geometry = gdf_e.drop(columns=[\"geometry\"])\n",
    "\n",
    "# define preprocessing pipeline\n",
    "def create_preprocessing_pipeline():\n",
    "    # Select categorical and numerical features, excluding 'WaterBodyType'\n",
    "    categorical_features = gdf_e_non_geometry.select_dtypes(include=['object']).columns\n",
    "    numerical_features = gdf_e_non_geometry.select_dtypes(include=['float64', 'int64']).columns\n",
    "\n",
    "    # remove 'WaterBodyType' from the list of features to impute\n",
    "    categorical_features = categorical_features[categorical_features != 'WaterBodyType']\n",
    "    numerical_features = numerical_features[numerical_features != 'WaterBodyType']\n",
    "\n",
    "    # create imputers for categorical and numerical features\n",
    "    numerical_imputer = SimpleImputer(strategy='mean')\n",
    "    categorical_imputer = SimpleImputer(strategy='most_frequent')\n",
    "\n",
    "    # create column transformer to handle different feature types\n",
    "    preprocessor = ColumnTransformer(\n",
    "        transformers=[\n",
    "            ('num', numerical_imputer, numerical_features),\n",
    "            ('cat', categorical_imputer, categorical_features)\n",
    "        ]\n",
    "    )\n",
    "\n",
    "    return preprocessor\n",
    "\n",
    "# create the preprocessing pipeline\n",
    "preprocessor = create_preprocessing_pipeline()\n",
    "\n",
    "# apply the preprocessing pipeline to the non-geometry data\n",
    "geo_df_preprocessed = preprocessor.fit_transform(gdf_e_non_geometry)\n",
    "\n",
    "# check the number of columns in the preprocessed data\n",
    "print(\"Number of columns in preprocessed data:\", geo_df_preprocessed.shape[1])\n",
    "\n",
    "# convert the preprocessed data back into a DataFrame with correct column names\n",
    "processed_df = pd.DataFrame(\n",
    "    geo_df_preprocessed,\n",
    "    columns=gdf_e_non_geometry.drop(columns=['WaterBodyType']).columns  # Exclude 'WaterBodyType' from columns\n",
    ")\n",
    "\n",
    "# reattach the original 'WaterBodyType' column (non-imputed)\n",
    "processed_df[\"WaterBodyType\"] = gdf_e[\"WaterBodyType\"].values\n",
    "\n",
    "# reattach the geometry column\n",
    "processed_df[\"geometry\"] = gdf_e[\"geometry\"].values\n",
    "\n",
    "# save the processed DataFrame to a new variable\n",
    "imputer_gdf_e = processed_df.copy()\n",
    "\n",
    "# validate the output\n",
    "print(\"Missing values after processing:\")\n",
    "processed_missing_check = imputer_gdf_e.isnull().sum()\n",
    "sorted_processed_missings = processed_missing_check.sort_values(ascending=False)\n",
    "print(sorted_processed_missings)\n",
    "\n",
    "# print the first 5 rows of the original and processed DataFrames for comparison\n",
    "print(\"Original DataFrame (First 5 rows):\")\n",
    "print(gdf_e.head())\n",
    "\n",
    "print(\"**************************************************************************\")\n",
    "print(\"\\nProcessed DataFrame (First 5 rows):\")\n",
    "print(imputer_gdf_e.head())"
   ]
  },
  {
   "cell_type": "markdown",
   "id": "0fbe0321",
   "metadata": {},
   "source": [
    "What I have done here is impute the remaining categorical/object-type features with their mode (the most frequent value) to address the missing data. While this approach is not the most efficient, I believe we could achieve better results by focusing on our main feature of interest and imputing data using a smaller subset of the gdf, specifically leveraging highly correlated features. This strategy could potentially address the larger issue of the high number of missing values in the water source data more effectively."
   ]
  },
  {
   "cell_type": "markdown",
   "id": "43f55674",
   "metadata": {},
   "source": [
    "Verifying if the values for the rest of the features were imputed"
   ]
  },
  {
   "cell_type": "code",
   "execution_count": null,
   "id": "9d6f57c0",
   "metadata": {},
   "outputs": [],
   "source": [
    "print(imputer_gdf_e.isnull().sum())  # Check if there are any missing values\n",
    "imputer_gdf_e.shape"
   ]
  },
  {
   "cell_type": "markdown",
   "id": "9a2a8d6a",
   "metadata": {},
   "source": [
    "It looks like they were indeed imputed"
   ]
  },
  {
   "cell_type": "markdown",
   "id": "f23506ee",
   "metadata": {},
   "source": [
    "### Creating a Random Forest imputer function "
   ]
  },
  {
   "cell_type": "code",
   "execution_count": null,
   "id": "65a72d55",
   "metadata": {},
   "outputs": [],
   "source": [
    "# libaries for the random forest function imputer\n",
    "from sklearn.preprocessing import LabelEncoder\n",
    "from sklearn.model_selection import train_test_split\n",
    "from sklearn.ensemble import RandomForestClassifier"
   ]
  },
  {
   "cell_type": "code",
   "execution_count": null,
   "id": "778b808b",
   "metadata": {},
   "outputs": [],
   "source": [
    "# Step 1: Handle missing values in 'WaterBodyType' if needed\n",
    "imputer_gdf_e['WaterBodyType'] = imputer_gdf_e['WaterBodyType'].fillna('Unknown')\n",
    "\n",
    "# Step 2: Identify categorical columns (non-numeric, excluding 'WaterBodyType')\n",
    "categorical_columns = imputer_gdf_e.select_dtypes(include=['object']).columns\n",
    "\n",
    "# Step 3: Encode categorical columns\n",
    "label_encoders = {}\n",
    "for col in categorical_columns:\n",
    "    if col != 'WaterBodyType':  # Make sure not to encode the target column\n",
    "        le = LabelEncoder()\n",
    "        imputer_gdf_e[col] = le.fit_transform(imputer_gdf_e[col])\n",
    "        label_encoders[col] = le  # Store the encoder for future inverse_transform if needed\n",
    "\n",
    "# Step 4: Encode the target column 'WaterBodyType'\n",
    "target_encoder = LabelEncoder()\n",
    "imputer_gdf_e['WaterBodyType'] = target_encoder.fit_transform(imputer_gdf_e['WaterBodyType'])\n",
    "\n",
    "# Step 5: Split the data into features (X) and target (y)\n",
    "X = imputer_gdf_e.drop(columns=['WaterBodyType'])  # Drop the target column from the features\n",
    "y = imputer_gdf_e['WaterBodyType']  # Target column\n",
    "\n",
    "# Step 6: Remove any non-numeric columns from the feature set (including 'geometry' or other object types)\n",
    "X = X.select_dtypes(include=['number'])  # Only keep numeric columns in X\n",
    "\n",
    "# Step 7: Split into train and test sets\n",
    "X_train, X_test, y_train, y_test = train_test_split(X, y, test_size=0.2, random_state=42)\n",
    "\n",
    "# Step 8: Train Random Forest model\n",
    "rf_imputer = RandomForestClassifier(n_estimators=100, random_state=42)\n",
    "rf_imputer.fit(X_train, y_train)\n",
    "\n",
    "# Step 9: Predict missing 'WaterBodyType' values\n",
    "waterbody_type_imputed = rf_imputer.predict(X_test)\n",
    "\n",
    "# Step 10: Optionally, inverse transform to get the original 'WaterBodyType' labels\n",
    "waterbody_type_imputed_labels = target_encoder.inverse_transform(waterbody_type_imputed)\n",
    "\n",
    "# Convert predictions to a pandas Series with the same index as X_test\n",
    "predicted_waterbody_type = pd.Series(\n",
    "    target_encoder.inverse_transform(waterbody_type_imputed),\n",
    "    index=X_test.index,\n",
    "    name='PredictedWaterBodyType'\n",
    ")\n",
    "\n",
    "# concatenate the predictions with the original GeoDataFrame\n",
    "imputer_gdf_e_with_predictions = pd.concat([imputer_gdf_e, predicted_waterbody_type], axis=1)\n",
    "\n",
    "# Step 11: Revert encoded categorical columns to original string values\n",
    "for col, le in label_encoders.items():\n",
    "    imputer_gdf_e_with_predictions[col] = le.inverse_transform(imputer_gdf_e_with_predictions[col])\n",
    "\n",
    "# revert the target column (WaterBodyType) back to its original form\n",
    "imputer_gdf_e_with_predictions['WaterBodyType'] = target_encoder.inverse_transform(imputer_gdf_e_with_predictions['WaterBodyType'])\n",
    "\n",
    "# print the head of the updated GeoDataFrame\n",
    "print(imputer_gdf_e_with_predictions.head())\n"
   ]
  },
  {
   "cell_type": "code",
   "execution_count": null,
   "id": "a155ae9e",
   "metadata": {},
   "outputs": [],
   "source": [
    "from sklearn.metrics import accuracy_score, confusion_matrix, classification_report\n",
    "\n",
    "# Step 1: Make predictions on the test set\n",
    "y_pred = rf_imputer.predict(X_test)\n",
    "\n",
    "# Step 2: Calculate accuracy\n",
    "accuracy = accuracy_score(y_test, y_pred)\n",
    "print(f\"Accuracy: {accuracy:.4f}\")\n",
    "\n",
    "# Step 3: Generate the confusion matrix\n",
    "conf_matrix = confusion_matrix(y_test, y_pred)\n",
    "print(\"\\nConfusion Matrix:\")\n",
    "print(conf_matrix)\n",
    "\n",
    "# Step 4: Generate a classification report\n",
    "class_report = classification_report(y_test, y_pred)\n",
    "print(\"\\nClassification Report:\")\n",
    "print(class_report)"
   ]
  },
  {
   "cell_type": "code",
   "execution_count": null,
   "id": "710e6da1",
   "metadata": {},
   "outputs": [],
   "source": [
    "# checking for missing values in the gdf\n",
    "water_null = imputer_gdf_e_with_predictions.isnull().sum()\n",
    "\n",
    "sorted_water_null = water_null.sort_values(ascending = False)\n",
    "\n",
    "print(sorted_water_null)"
   ]
  },
  {
   "cell_type": "markdown",
   "id": "3f386551",
   "metadata": {},
   "source": [
    "Verifying how different is it from the original gdf"
   ]
  },
  {
   "cell_type": "code",
   "execution_count": null,
   "id": "a33c23e1",
   "metadata": {},
   "outputs": [],
   "source": [
    "# looking at the original gdf with previous missing values \n",
    "original_null_count = gdf_e.isnull().sum()\n",
    "sorted_orginal_null_count = original_null_count.sort_values(ascending = False)\n",
    "print(sorted_orginal_null_count)"
   ]
  },
  {
   "cell_type": "code",
   "execution_count": null,
   "id": "7040df0c",
   "metadata": {},
   "outputs": [],
   "source": [
    "print(f'The Random Forest application dropped the number of missing values of WaterBodyType by {((100273-80928)/100273) * 100}%')"
   ]
  },
  {
   "cell_type": "markdown",
   "id": "eecea8fee39334d2",
   "metadata": {},
   "source": [
    "## Section 4: Extract Medoid and NEM Data\n",
    "### Forewarning\n",
    "\n",
    "The following two sections will take at least an hour to run, and will require setting up a Google Earth Engine project within your Google Drive.\n",
    "Therefore, if you'd prefer to skip this section, please uncomment the code below, run it, and skip to Section 6."
   ]
  },
  {
   "cell_type": "code",
   "execution_count": null,
   "id": "8e1236efc5050778",
   "metadata": {
    "ExecuteTime": {
     "end_time": "2024-11-22T01:46:54.455597Z",
     "start_time": "2024-11-22T01:46:54.451148Z"
    }
   },
   "outputs": [],
   "source": [
    "# Insert code here that imports a saved GeoDataFrame with Medoid, NEM, and Predictor Data"
   ]
  },
  {
   "cell_type": "markdown",
   "id": "9fab24346eebfea3",
   "metadata": {},
   "source": [
    "TODO: Add comments about what the cell above does"
   ]
  },
  {
   "cell_type": "code",
   "execution_count": null,
   "id": "b5c79482e8deb8ee",
   "metadata": {
    "ExecuteTime": {
     "end_time": "2024-11-22T01:46:54.513336Z",
     "start_time": "2024-11-22T01:46:54.508238Z"
    }
   },
   "outputs": [],
   "source": [
    "# Insert code here from John's notebook on Medoid and NEM Data"
   ]
  },
  {
   "cell_type": "markdown",
   "id": "932901314d557499",
   "metadata": {},
   "source": [
    "## Section 5: Create and Extract Predictor Surfaces\n",
    "### {subheading}"
   ]
  },
  {
   "cell_type": "code",
   "execution_count": null,
   "id": "aea3c02622e4da09",
   "metadata": {
    "ExecuteTime": {
     "end_time": "2024-11-22T01:46:54.572856Z",
     "start_time": "2024-11-22T01:46:54.567865Z"
    }
   },
   "outputs": [],
   "source": [
    "# Insert code here from John's notebook on Predictor Values and Surfaces"
   ]
  },
  {
   "cell_type": "markdown",
   "id": "d294bdba2a8c3e29",
   "metadata": {},
   "source": [
    "## Section 6: Clean Remote Sensing Data\n",
    "### {subheading}"
   ]
  },
  {
   "cell_type": "code",
   "execution_count": null,
   "id": "c16a394e468c4ff2",
   "metadata": {
    "ExecuteTime": {
     "end_time": "2024-11-22T01:46:54.611222Z",
     "start_time": "2024-11-22T01:46:54.606855Z"
    }
   },
   "outputs": [],
   "source": [
    "# Insert code here that cleans the Remote Sensing Data and discusses any observations"
   ]
  },
  {
   "cell_type": "markdown",
   "id": "3c9ce13c58e66350",
   "metadata": {},
   "source": [
    "## Section 7: Preprocessing\n",
    "### {subheading}"
   ]
  },
  {
   "cell_type": "code",
   "execution_count": null,
   "id": "bccd88d154816103",
   "metadata": {
    "ExecuteTime": {
     "end_time": "2024-11-22T01:46:54.643255Z",
     "start_time": "2024-11-22T01:46:54.637155Z"
    }
   },
   "outputs": [],
   "source": [
    "# Insert code here that prepares the data for modeling"
   ]
  },
  {
   "cell_type": "markdown",
   "id": "6e76da53c2b0220f",
   "metadata": {},
   "source": [
    "## Section 8: Build a Predictive Model\n",
    "### {subheading}"
   ]
  },
  {
   "cell_type": "code",
   "execution_count": null,
   "id": "640534879beb049b",
   "metadata": {
    "ExecuteTime": {
     "end_time": "2024-11-22T01:46:54.677948Z",
     "start_time": "2024-11-22T01:46:54.672793Z"
    }
   },
   "outputs": [],
   "source": [
    "# Insert code here that builds the Predictive Model"
   ]
  }
 ],
 "metadata": {
  "kernelspec": {
   "display_name": "Python 3 (ipykernel)",
   "language": "python",
   "name": "python3"
  },
  "language_info": {
   "codemirror_mode": {
    "name": "ipython",
    "version": 3
   },
   "file_extension": ".py",
   "mimetype": "text/x-python",
   "name": "python",
   "nbconvert_exporter": "python",
   "pygments_lexer": "ipython3",
   "version": "3.11.0"
  }
 },
 "nbformat": 4,
 "nbformat_minor": 5
}
