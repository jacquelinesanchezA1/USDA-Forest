{
 "cells": [
  {
   "cell_type": "code",
   "execution_count": 2,
   "id": "2c92524a-c64c-4c4b-b233-daaddf0be7f8",
   "metadata": {
    "scrolled": true
   },
   "outputs": [
    {
     "name": "stdout",
     "output_type": "stream",
     "text": [
      "Collecting pandas\n",
      "  Obtaining dependency information for pandas from https://files.pythonhosted.org/packages/cd/5f/4dba1d39bb9c38d574a9a22548c540177f78ea47b32f99c0ff2ec499fac5/pandas-2.2.3-cp311-cp311-manylinux_2_17_x86_64.manylinux2014_x86_64.whl.metadata\n",
      "  Using cached pandas-2.2.3-cp311-cp311-manylinux_2_17_x86_64.manylinux2014_x86_64.whl.metadata (89 kB)\n",
      "Collecting numpy\n",
      "  Obtaining dependency information for numpy from https://files.pythonhosted.org/packages/7a/f0/80811e836484262b236c684a75dfc4ba0424bc670e765afaa911468d9f39/numpy-2.1.3-cp311-cp311-manylinux_2_17_x86_64.manylinux2014_x86_64.whl.metadata\n",
      "  Using cached numpy-2.1.3-cp311-cp311-manylinux_2_17_x86_64.manylinux2014_x86_64.whl.metadata (62 kB)\n",
      "Collecting geopandas\n",
      "  Obtaining dependency information for geopandas from https://files.pythonhosted.org/packages/c4/64/7d344cfcef5efddf9cf32f59af7f855828e9d74b5f862eddf5bfd9f25323/geopandas-1.0.1-py3-none-any.whl.metadata\n",
      "  Using cached geopandas-1.0.1-py3-none-any.whl.metadata (2.2 kB)\n",
      "Collecting seaborn\n",
      "  Obtaining dependency information for seaborn from https://files.pythonhosted.org/packages/83/11/00d3c3dfc25ad54e731d91449895a79e4bf2384dc3ac01809010ba88f6d5/seaborn-0.13.2-py3-none-any.whl.metadata\n",
      "  Using cached seaborn-0.13.2-py3-none-any.whl.metadata (5.4 kB)\n",
      "Collecting scikit-learn\n",
      "  Obtaining dependency information for scikit-learn from https://files.pythonhosted.org/packages/49/21/3723de321531c9745e40f1badafd821e029d346155b6c79704e0b7197552/scikit_learn-1.5.2-cp311-cp311-manylinux_2_17_x86_64.manylinux2014_x86_64.whl.metadata\n",
      "  Using cached scikit_learn-1.5.2-cp311-cp311-manylinux_2_17_x86_64.manylinux2014_x86_64.whl.metadata (13 kB)\n",
      "Collecting tensor\n",
      "  Using cached tensor-0.3.6-py3-none-any.whl\n",
      "Collecting folium\n",
      "  Obtaining dependency information for folium from https://files.pythonhosted.org/packages/03/12/45a714482b9aa23cf708c5d07810d8133c4277b9d28db55e51352a0cb2da/folium-0.18.0-py2.py3-none-any.whl.metadata\n",
      "  Using cached folium-0.18.0-py2.py3-none-any.whl.metadata (3.8 kB)\n",
      "Collecting matplotlib\n",
      "  Obtaining dependency information for matplotlib from https://files.pythonhosted.org/packages/01/75/6c7ce560e95714a10fcbb3367d1304975a1a3e620f72af28921b796403f3/matplotlib-3.9.2-cp311-cp311-manylinux_2_17_x86_64.manylinux2014_x86_64.whl.metadata\n",
      "  Using cached matplotlib-3.9.2-cp311-cp311-manylinux_2_17_x86_64.manylinux2014_x86_64.whl.metadata (11 kB)\n",
      "Collecting mapclassify\n",
      "  Obtaining dependency information for mapclassify from https://files.pythonhosted.org/packages/e7/e9/d7531a07454927788642373ae253ad6dd8714fec375a789031418ecebf2d/mapclassify-2.8.1-py3-none-any.whl.metadata\n",
      "  Using cached mapclassify-2.8.1-py3-none-any.whl.metadata (2.8 kB)\n",
      "Requirement already satisfied: python-dateutil>=2.8.2 in /opt/conda/lib/python3.11/site-packages (from pandas) (2.8.2)\n",
      "Requirement already satisfied: pytz>=2020.1 in /opt/conda/lib/python3.11/site-packages (from pandas) (2023.3.post1)\n",
      "Collecting tzdata>=2022.7 (from pandas)\n",
      "  Obtaining dependency information for tzdata>=2022.7 from https://files.pythonhosted.org/packages/a6/ab/7e5f53c3b9d14972843a647d8d7a853969a58aecc7559cb3267302c94774/tzdata-2024.2-py2.py3-none-any.whl.metadata\n",
      "  Using cached tzdata-2024.2-py2.py3-none-any.whl.metadata (1.4 kB)\n",
      "Collecting pyogrio>=0.7.2 (from geopandas)\n",
      "  Obtaining dependency information for pyogrio>=0.7.2 from https://files.pythonhosted.org/packages/ae/15/501aa4823c142232169d54255ab343f28c4ea9e7fa489b8433dcc873a942/pyogrio-0.10.0-cp311-cp311-manylinux_2_28_x86_64.whl.metadata\n",
      "  Using cached pyogrio-0.10.0-cp311-cp311-manylinux_2_28_x86_64.whl.metadata (5.5 kB)\n",
      "Requirement already satisfied: packaging in /opt/conda/lib/python3.11/site-packages (from geopandas) (23.1)\n",
      "Collecting pyproj>=3.3.0 (from geopandas)\n",
      "  Obtaining dependency information for pyproj>=3.3.0 from https://files.pythonhosted.org/packages/3c/e5/2cb256148c730b9c3f74bfb3c03904f5070499c6dcaea153073a9642c6c6/pyproj-3.7.0-cp311-cp311-manylinux_2_17_x86_64.manylinux2014_x86_64.whl.metadata\n",
      "  Using cached pyproj-3.7.0-cp311-cp311-manylinux_2_17_x86_64.manylinux2014_x86_64.whl.metadata (31 kB)\n",
      "Collecting shapely>=2.0.0 (from geopandas)\n",
      "  Obtaining dependency information for shapely>=2.0.0 from https://files.pythonhosted.org/packages/25/aa/53f145e5a610a49af9ac49f2f1be1ec8659ebd5c393d66ac94e57c83b00e/shapely-2.0.6-cp311-cp311-manylinux_2_17_x86_64.manylinux2014_x86_64.whl.metadata\n",
      "  Using cached shapely-2.0.6-cp311-cp311-manylinux_2_17_x86_64.manylinux2014_x86_64.whl.metadata (7.0 kB)\n",
      "Collecting scipy>=1.6.0 (from scikit-learn)\n",
      "  Obtaining dependency information for scipy>=1.6.0 from https://files.pythonhosted.org/packages/93/6b/701776d4bd6bdd9b629c387b5140f006185bd8ddea16788a44434376b98f/scipy-1.14.1-cp311-cp311-manylinux_2_17_x86_64.manylinux2014_x86_64.whl.metadata\n",
      "  Using cached scipy-1.14.1-cp311-cp311-manylinux_2_17_x86_64.manylinux2014_x86_64.whl.metadata (60 kB)\n",
      "Collecting joblib>=1.2.0 (from scikit-learn)\n",
      "  Obtaining dependency information for joblib>=1.2.0 from https://files.pythonhosted.org/packages/91/29/df4b9b42f2be0b623cbd5e2140cafcaa2bef0759a00b7b70104dcfe2fb51/joblib-1.4.2-py3-none-any.whl.metadata\n",
      "  Using cached joblib-1.4.2-py3-none-any.whl.metadata (5.4 kB)\n",
      "Collecting threadpoolctl>=3.1.0 (from scikit-learn)\n",
      "  Obtaining dependency information for threadpoolctl>=3.1.0 from https://files.pythonhosted.org/packages/4b/2c/ffbf7a134b9ab11a67b0cf0726453cedd9c5043a4fe7a35d1cefa9a1bcfb/threadpoolctl-3.5.0-py3-none-any.whl.metadata\n",
      "  Using cached threadpoolctl-3.5.0-py3-none-any.whl.metadata (13 kB)\n",
      "Collecting Twisted (from tensor)\n",
      "  Obtaining dependency information for Twisted from https://files.pythonhosted.org/packages/f9/7c/f80f6853d702782edb357190c42c3973f13c547a5f68ab1b17e6415061b8/twisted-24.10.0-py3-none-any.whl.metadata\n",
      "  Using cached twisted-24.10.0-py3-none-any.whl.metadata (20 kB)\n",
      "Requirement already satisfied: PyYaml in /opt/conda/lib/python3.11/site-packages (from tensor) (6.0.1)\n",
      "Collecting protobuf (from tensor)\n",
      "  Obtaining dependency information for protobuf from https://files.pythonhosted.org/packages/5d/ae/3257b09328c0b4e59535e497b0c7537d4954038bdd53a2f0d2f49d15a7c4/protobuf-5.28.3-cp38-abi3-manylinux2014_x86_64.whl.metadata\n",
      "  Using cached protobuf-5.28.3-cp38-abi3-manylinux2014_x86_64.whl.metadata (592 bytes)\n",
      "Collecting construct (from tensor)\n",
      "  Obtaining dependency information for construct from https://files.pythonhosted.org/packages/b2/fb/08b3f4bf05da99aba8ffea52a558758def16e8516bc75ca94ff73587e7d3/construct-2.10.70-py3-none-any.whl.metadata\n",
      "  Using cached construct-2.10.70-py3-none-any.whl.metadata (4.2 kB)\n",
      "Collecting pysnmp (from tensor)\n",
      "  Obtaining dependency information for pysnmp from https://files.pythonhosted.org/packages/54/91/40089e62a2f8b6665394ea745daed4a2953f45d957da1b46d461aba5a272/pysnmp-7.1.13-py3-none-any.whl.metadata\n",
      "  Using cached pysnmp-7.1.13-py3-none-any.whl.metadata (4.3 kB)\n",
      "Collecting branca>=0.6.0 (from folium)\n",
      "  Obtaining dependency information for branca>=0.6.0 from https://files.pythonhosted.org/packages/fc/be/720f85abacd654ec86f1431bc7c004eae74417bd9d0e7a2bc43601062627/branca-0.8.0-py3-none-any.whl.metadata\n",
      "  Using cached branca-0.8.0-py3-none-any.whl.metadata (1.5 kB)\n",
      "Requirement already satisfied: jinja2>=2.9 in /opt/conda/lib/python3.11/site-packages (from folium) (3.1.2)\n",
      "Requirement already satisfied: requests in /opt/conda/lib/python3.11/site-packages (from folium) (2.31.0)\n",
      "Collecting xyzservices (from folium)\n",
      "  Obtaining dependency information for xyzservices from https://files.pythonhosted.org/packages/4c/d3/e07ce413d16ef64e885bea37551eac4c5ca3ddd440933f9c94594273d0d9/xyzservices-2024.9.0-py3-none-any.whl.metadata\n",
      "  Using cached xyzservices-2024.9.0-py3-none-any.whl.metadata (4.1 kB)\n",
      "Collecting contourpy>=1.0.1 (from matplotlib)\n",
      "  Obtaining dependency information for contourpy>=1.0.1 from https://files.pythonhosted.org/packages/85/fc/7fa5d17daf77306840a4e84668a48ddff09e6bc09ba4e37e85ffc8e4faa3/contourpy-1.3.1-cp311-cp311-manylinux_2_17_x86_64.manylinux2014_x86_64.whl.metadata\n",
      "  Using cached contourpy-1.3.1-cp311-cp311-manylinux_2_17_x86_64.manylinux2014_x86_64.whl.metadata (5.4 kB)\n",
      "Collecting cycler>=0.10 (from matplotlib)\n",
      "  Obtaining dependency information for cycler>=0.10 from https://files.pythonhosted.org/packages/e7/05/c19819d5e3d95294a6f5947fb9b9629efb316b96de511b418c53d245aae6/cycler-0.12.1-py3-none-any.whl.metadata\n",
      "  Using cached cycler-0.12.1-py3-none-any.whl.metadata (3.8 kB)\n",
      "Collecting fonttools>=4.22.0 (from matplotlib)\n",
      "  Obtaining dependency information for fonttools>=4.22.0 from https://files.pythonhosted.org/packages/47/2b/9bf7527260d265281dd812951aa22f3d1c331bcc91e86e7038dc6b9737cb/fonttools-4.55.0-cp311-cp311-manylinux_2_17_x86_64.manylinux2014_x86_64.whl.metadata\n",
      "  Using cached fonttools-4.55.0-cp311-cp311-manylinux_2_17_x86_64.manylinux2014_x86_64.whl.metadata (164 kB)\n",
      "Collecting kiwisolver>=1.3.1 (from matplotlib)\n",
      "  Obtaining dependency information for kiwisolver>=1.3.1 from https://files.pythonhosted.org/packages/a7/4b/2db7af3ed3af7c35f388d5f53c28e155cd402a55432d800c543dc6deb731/kiwisolver-1.4.7-cp311-cp311-manylinux_2_17_x86_64.manylinux2014_x86_64.whl.metadata\n",
      "  Using cached kiwisolver-1.4.7-cp311-cp311-manylinux_2_17_x86_64.manylinux2014_x86_64.whl.metadata (6.3 kB)\n",
      "Collecting pillow>=8 (from matplotlib)\n",
      "  Obtaining dependency information for pillow>=8 from https://files.pythonhosted.org/packages/39/63/b3fc299528d7df1f678b0666002b37affe6b8751225c3d9c12cf530e73ed/pillow-11.0.0-cp311-cp311-manylinux_2_28_x86_64.whl.metadata\n",
      "  Using cached pillow-11.0.0-cp311-cp311-manylinux_2_28_x86_64.whl.metadata (9.1 kB)\n",
      "Collecting pyparsing>=2.3.1 (from matplotlib)\n",
      "  Obtaining dependency information for pyparsing>=2.3.1 from https://files.pythonhosted.org/packages/be/ec/2eb3cd785efd67806c46c13a17339708ddc346cbb684eade7a6e6f79536a/pyparsing-3.2.0-py3-none-any.whl.metadata\n",
      "  Using cached pyparsing-3.2.0-py3-none-any.whl.metadata (5.0 kB)\n",
      "Collecting networkx>=2.7 (from mapclassify)\n",
      "  Obtaining dependency information for networkx>=2.7 from https://files.pythonhosted.org/packages/b9/54/dd730b32ea14ea797530a4479b2ed46a6fb250f682a9cfb997e968bf0261/networkx-3.4.2-py3-none-any.whl.metadata\n",
      "  Using cached networkx-3.4.2-py3-none-any.whl.metadata (6.3 kB)\n",
      "Requirement already satisfied: MarkupSafe>=2.0 in /opt/conda/lib/python3.11/site-packages (from jinja2>=2.9->folium) (2.1.3)\n",
      "Requirement already satisfied: certifi in /opt/conda/lib/python3.11/site-packages (from pyogrio>=0.7.2->geopandas) (2023.7.22)\n",
      "Requirement already satisfied: six>=1.5 in /opt/conda/lib/python3.11/site-packages (from python-dateutil>=2.8.2->pandas) (1.16.0)\n",
      "Collecting pyasn1!=0.5.0,>=0.4.8 (from pysnmp->tensor)\n",
      "  Obtaining dependency information for pyasn1!=0.5.0,>=0.4.8 from https://files.pythonhosted.org/packages/c8/f1/d6a797abb14f6283c0ddff96bbdd46937f64122b8c925cab503dd37f8214/pyasn1-0.6.1-py3-none-any.whl.metadata\n",
      "  Using cached pyasn1-0.6.1-py3-none-any.whl.metadata (8.4 kB)\n",
      "Requirement already satisfied: charset-normalizer<4,>=2 in /opt/conda/lib/python3.11/site-packages (from requests->folium) (3.2.0)\n",
      "Requirement already satisfied: idna<4,>=2.5 in /opt/conda/lib/python3.11/site-packages (from requests->folium) (3.4)\n",
      "Requirement already satisfied: urllib3<3,>=1.21.1 in /opt/conda/lib/python3.11/site-packages (from requests->folium) (2.0.4)\n",
      "Requirement already satisfied: attrs>=22.2.0 in /opt/conda/lib/python3.11/site-packages (from Twisted->tensor) (23.1.0)\n",
      "Collecting automat>=24.8.0 (from Twisted->tensor)\n",
      "  Obtaining dependency information for automat>=24.8.0 from https://files.pythonhosted.org/packages/af/cc/55a32a2c98022d88812b5986d2a92c4ff3ee087e83b712ebc703bba452bf/Automat-24.8.1-py3-none-any.whl.metadata\n",
      "  Using cached Automat-24.8.1-py3-none-any.whl.metadata (8.4 kB)\n",
      "Collecting constantly>=15.1 (from Twisted->tensor)\n",
      "  Obtaining dependency information for constantly>=15.1 from https://files.pythonhosted.org/packages/b8/40/c199d095151addf69efdb4b9ca3a4f20f70e20508d6222bffb9b76f58573/constantly-23.10.4-py3-none-any.whl.metadata\n",
      "  Using cached constantly-23.10.4-py3-none-any.whl.metadata (1.8 kB)\n",
      "Collecting hyperlink>=17.1.1 (from Twisted->tensor)\n",
      "  Obtaining dependency information for hyperlink>=17.1.1 from https://files.pythonhosted.org/packages/6e/aa/8caf6a0a3e62863cbb9dab27135660acba46903b703e224f14f447e57934/hyperlink-21.0.0-py2.py3-none-any.whl.metadata\n",
      "  Using cached hyperlink-21.0.0-py2.py3-none-any.whl.metadata (1.5 kB)\n",
      "Collecting incremental>=24.7.0 (from Twisted->tensor)\n",
      "  Obtaining dependency information for incremental>=24.7.0 from https://files.pythonhosted.org/packages/0d/38/221e5b2ae676a3938c2c1919131410c342b6efc2baffeda395dd66eeca8f/incremental-24.7.2-py3-none-any.whl.metadata\n",
      "  Using cached incremental-24.7.2-py3-none-any.whl.metadata (8.1 kB)\n",
      "Requirement already satisfied: typing-extensions>=4.2.0 in /opt/conda/lib/python3.11/site-packages (from Twisted->tensor) (4.7.1)\n",
      "Collecting zope-interface>=5 (from Twisted->tensor)\n",
      "  Obtaining dependency information for zope-interface>=5 from https://files.pythonhosted.org/packages/b1/60/abc01b59a41762cf785be8e997a7301e3cb93d19e066a35f10fb31ac0277/zope.interface-7.1.1-cp311-cp311-manylinux_2_5_x86_64.manylinux1_x86_64.manylinux_2_17_x86_64.manylinux2014_x86_64.whl.metadata\n",
      "  Using cached zope.interface-7.1.1-cp311-cp311-manylinux_2_5_x86_64.manylinux1_x86_64.manylinux_2_17_x86_64.manylinux2014_x86_64.whl.metadata (44 kB)\n",
      "Requirement already satisfied: setuptools>=61.0 in /opt/conda/lib/python3.11/site-packages (from incremental>=24.7.0->Twisted->tensor) (68.1.2)\n",
      "Using cached pandas-2.2.3-cp311-cp311-manylinux_2_17_x86_64.manylinux2014_x86_64.whl (13.1 MB)\n",
      "Using cached numpy-2.1.3-cp311-cp311-manylinux_2_17_x86_64.manylinux2014_x86_64.whl (16.3 MB)\n",
      "Using cached geopandas-1.0.1-py3-none-any.whl (323 kB)\n",
      "Using cached seaborn-0.13.2-py3-none-any.whl (294 kB)\n",
      "Using cached scikit_learn-1.5.2-cp311-cp311-manylinux_2_17_x86_64.manylinux2014_x86_64.whl (13.3 MB)\n",
      "Using cached folium-0.18.0-py2.py3-none-any.whl (108 kB)\n",
      "Using cached matplotlib-3.9.2-cp311-cp311-manylinux_2_17_x86_64.manylinux2014_x86_64.whl (8.3 MB)\n",
      "Using cached mapclassify-2.8.1-py3-none-any.whl (59 kB)\n",
      "Using cached branca-0.8.0-py3-none-any.whl (25 kB)\n",
      "Using cached contourpy-1.3.1-cp311-cp311-manylinux_2_17_x86_64.manylinux2014_x86_64.whl (326 kB)\n",
      "Using cached cycler-0.12.1-py3-none-any.whl (8.3 kB)\n",
      "Using cached fonttools-4.55.0-cp311-cp311-manylinux_2_17_x86_64.manylinux2014_x86_64.whl (4.9 MB)\n",
      "Using cached joblib-1.4.2-py3-none-any.whl (301 kB)\n",
      "Using cached kiwisolver-1.4.7-cp311-cp311-manylinux_2_17_x86_64.manylinux2014_x86_64.whl (1.4 MB)\n",
      "Using cached networkx-3.4.2-py3-none-any.whl (1.7 MB)\n",
      "Using cached pillow-11.0.0-cp311-cp311-manylinux_2_28_x86_64.whl (4.4 MB)\n",
      "Using cached pyogrio-0.10.0-cp311-cp311-manylinux_2_28_x86_64.whl (24.1 MB)\n",
      "Using cached pyparsing-3.2.0-py3-none-any.whl (106 kB)\n",
      "Using cached pyproj-3.7.0-cp311-cp311-manylinux_2_17_x86_64.manylinux2014_x86_64.whl (9.5 MB)\n",
      "Using cached scipy-1.14.1-cp311-cp311-manylinux_2_17_x86_64.manylinux2014_x86_64.whl (41.2 MB)\n",
      "Using cached shapely-2.0.6-cp311-cp311-manylinux_2_17_x86_64.manylinux2014_x86_64.whl (2.5 MB)\n",
      "Using cached threadpoolctl-3.5.0-py3-none-any.whl (18 kB)\n",
      "Using cached tzdata-2024.2-py2.py3-none-any.whl (346 kB)\n",
      "Using cached construct-2.10.70-py3-none-any.whl (63 kB)\n",
      "Using cached protobuf-5.28.3-cp38-abi3-manylinux2014_x86_64.whl (316 kB)\n",
      "Using cached pysnmp-7.1.13-py3-none-any.whl (340 kB)\n",
      "Using cached twisted-24.10.0-py3-none-any.whl (3.2 MB)\n",
      "Using cached xyzservices-2024.9.0-py3-none-any.whl (85 kB)\n",
      "Using cached Automat-24.8.1-py3-none-any.whl (42 kB)\n",
      "Using cached constantly-23.10.4-py3-none-any.whl (13 kB)\n",
      "Using cached hyperlink-21.0.0-py2.py3-none-any.whl (74 kB)\n",
      "Using cached incremental-24.7.2-py3-none-any.whl (20 kB)\n",
      "Using cached pyasn1-0.6.1-py3-none-any.whl (83 kB)\n",
      "Using cached zope.interface-7.1.1-cp311-cp311-manylinux_2_5_x86_64.manylinux1_x86_64.manylinux_2_17_x86_64.manylinux2014_x86_64.whl (259 kB)\n",
      "Installing collected packages: zope-interface, xyzservices, tzdata, threadpoolctl, pyproj, pyparsing, pyasn1, protobuf, pillow, numpy, networkx, kiwisolver, joblib, incremental, hyperlink, fonttools, cycler, construct, constantly, automat, Twisted, shapely, scipy, pysnmp, pyogrio, pandas, contourpy, branca, tensor, scikit-learn, matplotlib, geopandas, folium, seaborn, mapclassify\n",
      "Successfully installed Twisted-24.10.0 automat-24.8.1 branca-0.8.0 constantly-23.10.4 construct-2.10.70 contourpy-1.3.1 cycler-0.12.1 folium-0.18.0 fonttools-4.55.0 geopandas-1.0.1 hyperlink-21.0.0 incremental-24.7.2 joblib-1.4.2 kiwisolver-1.4.7 mapclassify-2.8.1 matplotlib-3.9.2 networkx-3.4.2 numpy-2.1.3 pandas-2.2.3 pillow-11.0.0 protobuf-5.28.3 pyasn1-0.6.1 pyogrio-0.10.0 pyparsing-3.2.0 pyproj-3.7.0 pysnmp-7.1.13 scikit-learn-1.5.2 scipy-1.14.1 seaborn-0.13.2 shapely-2.0.6 tensor-0.3.6 threadpoolctl-3.5.0 tzdata-2024.2 xyzservices-2024.9.0 zope-interface-7.1.1\n",
      "Note: you may need to restart the kernel to use updated packages.\n"
     ]
    }
   ],
   "source": [
    "pip install pandas numpy geopandas seaborn scikit-learn tensor folium folium matplotlib mapclassify"
   ]
  },
  {
   "cell_type": "code",
   "execution_count": 3,
   "id": "07ebfc57-d195-4ede-b225-49c6e6af56f0",
   "metadata": {},
   "outputs": [
    {
     "name": "stdout",
     "output_type": "stream",
     "text": [
      "0    POINT (-84.90887419133645 10.874761552334505)\n",
      "1    POINT (-84.90887419133645 10.875185000000002)\n",
      "2    POINT (-84.90887419133645 10.875608447064252)\n",
      "3            POINT (-84.908443 10.874761552334505)\n",
      "4            POINT (-84.908443 10.875185000000002)\n",
      "Name: geometry, dtype: object\n"
     ]
    }
   ],
   "source": [
    "from geopandas import GeoDataFrame\n",
    "from shapely.geometry import Point\n",
    "import geopandas as gpd\n",
    "import pandas as pd\n",
    "df= pd.read_csv('CostaRica_EE_updatedData.csv')\n",
    "print(df['geometry'].head())"
   ]
  },
  {
   "cell_type": "code",
   "execution_count": 4,
   "id": "2da87e9e-07d2-4d6a-80e5-bd744df65379",
   "metadata": {},
   "outputs": [],
   "source": [
    "import folium\n",
    "df['geometry'] = df['geometry'].apply(\n",
    "    lambda coord: coord if isinstance(coord, Point) else Point(float(coord.replace('POINT (', '').replace(')', '').split()[0]), \n",
    "                                                              float(coord.replace('POINT (', '').replace(')', '').split()[1]))\n",
    ")\n",
    "#add notes\n",
    "#Here we change the format of geometry so we can create a geodataframe \n",
    "\n",
    "# Convert the DataFrame to a GeoDataFrame\n",
    "gdf = gpd.GeoDataFrame(df, geometry='geometry')\n",
    "#gdf.explore(cmap=\"Blues\")\n",
    "#print(gdf['geometry'].head())"
   ]
  },
  {
   "cell_type": "code",
   "execution_count": 13,
   "id": "7cf0952f-2ccd-4a6c-84f8-9a895838fa99",
   "metadata": {},
   "outputs": [
    {
     "name": "stdout",
     "output_type": "stream",
     "text": [
      "   Unnamed: 0  plotid  sampleid Vegetacion  Herbaceas  \\\n",
      "0           0    2900     11597    Arboles        NaN   \n",
      "1           1    2900     11598  Herbaceas  Gramineas   \n",
      "2           2    2900     11599  Herbaceas  Gramineas   \n",
      "3           3    2900     11600    Arboles        NaN   \n",
      "4           4    2900     11601    Arboles        NaN   \n",
      "\n",
      "                   Pasto_Arb Cultivo Humedal Terreno Agua  ...      ndvi  \\\n",
      "0                        NaN     NaN     NaN     NaN  NaN  ...  0.806129   \n",
      "1  Pastos mezclados (70-90%)     NaN     NaN     NaN  NaN  ...  0.778854   \n",
      "2  Pastos mezclados (70-90%)     NaN     NaN     NaN  NaN  ...  0.802353   \n",
      "3                        NaN     NaN     NaN     NaN  NaN  ...  0.837203   \n",
      "4                        NaN     NaN     NaN     NaN  NaN  ...  0.834810   \n",
      "\n",
      "  ocs_1mMed sand_1mMed      savi silt_1mMed     slope      topDiv   wetness  \\\n",
      "0      69.0     352.00  0.537483     274.05  4.994698  1323.71474 -0.032644   \n",
      "1      69.0     395.65  0.541566     257.85  1.323483  1323.71474 -0.048439   \n",
      "2      69.0     395.65  0.413164     257.85  2.645557  1323.71474 -0.009717   \n",
      "3      69.0     352.00  0.514825     274.05  2.978611  1323.71474 -0.005730   \n",
      "4      69.0     395.65  0.492115     257.85  5.060336  1323.71474 -0.006400   \n",
      "\n",
      "      Uso   Cobertura  \n",
      "0  Bosque  Vegetacion  \n",
      "1  Pastos  Vegetacion  \n",
      "2  Pastos  Vegetacion  \n",
      "3  Bosque  Vegetacion  \n",
      "4  Bosque  Vegetacion  \n",
      "\n",
      "[5 rows x 45 columns]\n"
     ]
    }
   ],
   "source": [
    "tdf = gpd.read_file('Clasification_Plots.shp')\n",
    "uso= tdf['Uso']\n",
    "cob = tdf['Cobertura']\n",
    "\n",
    "df['Uso'] = uso\n",
    "df['Cobertura'] = cob\n",
    "x= df.head()\n",
    "print(x)"
   ]
  },
  {
   "cell_type": "code",
   "execution_count": 5,
   "id": "9b952502-5d0f-416c-a842-01d7d721ff83",
   "metadata": {},
   "outputs": [
    {
     "name": "stdout",
     "output_type": "stream",
     "text": [
      "number of rows with na = 101160\n",
      "number of rows that have empty values = 0\n",
      "number of rows that have zero values = 0\n"
     ]
    }
   ],
   "source": [
    "na_rows=gdf[gdf.isna().any(axis=1)]\n",
    "print('number of rows with na =',na_rows.shape[0])\n",
    "\n",
    "#search for empty values\n",
    "emp_rows=gdf[(gdf=='').any(axis=1)]\n",
    "print('number of rows that have empty values =',emp_rows.shape[0])\n",
    "\n",
    "#what about zero values?\n",
    "zero_rows=gdf[(gdf==0).any(axis=1)]\n",
    "print('number of rows that have zero values =',emp_rows.shape[0])"
   ]
  },
  {
   "cell_type": "markdown",
   "id": "1062a1f1-5712-46e7-a537-ea7a96f5970a",
   "metadata": {},
   "source": [
    "# Describing each column Statistically "
   ]
  },
  {
   "cell_type": "code",
   "execution_count": 7,
   "id": "3b719d5f-3cb0-4a45-84e4-5bdc497f6bf6",
   "metadata": {},
   "outputs": [
    {
     "name": "stdout",
     "output_type": "stream",
     "text": [
      "Summary stats for continuous variables...\n"
     ]
    },
    {
     "data": {
      "text/html": [
       "<div>\n",
       "<style scoped>\n",
       "    .dataframe tbody tr th:only-of-type {\n",
       "        vertical-align: middle;\n",
       "    }\n",
       "\n",
       "    .dataframe tbody tr th {\n",
       "        vertical-align: top;\n",
       "    }\n",
       "\n",
       "    .dataframe thead th {\n",
       "        text-align: right;\n",
       "    }\n",
       "</style>\n",
       "<table border=\"1\" class=\"dataframe\">\n",
       "  <thead>\n",
       "    <tr style=\"text-align: right;\">\n",
       "      <th></th>\n",
       "      <th>Unnamed: 0</th>\n",
       "      <th>plotid</th>\n",
       "      <th>sampleid</th>\n",
       "      <th>BLUE</th>\n",
       "      <th>GREEN</th>\n",
       "      <th>NIR</th>\n",
       "      <th>RED</th>\n",
       "      <th>SWIR1</th>\n",
       "      <th>SWIR2</th>\n",
       "      <th>altura2</th>\n",
       "      <th>...</th>\n",
       "      <th>lai</th>\n",
       "      <th>mTPI</th>\n",
       "      <th>ndvi</th>\n",
       "      <th>ocs_1mMed</th>\n",
       "      <th>sand_1mMed</th>\n",
       "      <th>savi</th>\n",
       "      <th>silt_1mMed</th>\n",
       "      <th>slope</th>\n",
       "      <th>topDiv</th>\n",
       "      <th>wetness</th>\n",
       "    </tr>\n",
       "  </thead>\n",
       "  <tbody>\n",
       "    <tr>\n",
       "      <th>count</th>\n",
       "      <td>101160.000000</td>\n",
       "      <td>101160.000000</td>\n",
       "      <td>1.011600e+05</td>\n",
       "      <td>101130.000000</td>\n",
       "      <td>101134.000000</td>\n",
       "      <td>101134.000000</td>\n",
       "      <td>101134.000000</td>\n",
       "      <td>101134.000000</td>\n",
       "      <td>101134.000000</td>\n",
       "      <td>97181.000000</td>\n",
       "      <td>...</td>\n",
       "      <td>101160.000000</td>\n",
       "      <td>100982.000000</td>\n",
       "      <td>100792.000000</td>\n",
       "      <td>101160.000000</td>\n",
       "      <td>101160.000000</td>\n",
       "      <td>101134.000000</td>\n",
       "      <td>101160.000000</td>\n",
       "      <td>101160.000000</td>\n",
       "      <td>100982.000000</td>\n",
       "      <td>101134.000000</td>\n",
       "    </tr>\n",
       "    <tr>\n",
       "      <th>mean</th>\n",
       "      <td>50579.500000</td>\n",
       "      <td>86794.497420</td>\n",
       "      <td>3.471790e+05</td>\n",
       "      <td>0.028622</td>\n",
       "      <td>0.054576</td>\n",
       "      <td>0.326286</td>\n",
       "      <td>0.040583</td>\n",
       "      <td>0.167247</td>\n",
       "      <td>0.077850</td>\n",
       "      <td>22.636585</td>\n",
       "      <td>...</td>\n",
       "      <td>0.424042</td>\n",
       "      <td>8129.081104</td>\n",
       "      <td>0.788556</td>\n",
       "      <td>66.426354</td>\n",
       "      <td>308.684732</td>\n",
       "      <td>0.488191</td>\n",
       "      <td>301.557198</td>\n",
       "      <td>11.868206</td>\n",
       "      <td>1324.070991</td>\n",
       "      <td>-0.014940</td>\n",
       "    </tr>\n",
       "    <tr>\n",
       "      <th>std</th>\n",
       "      <td>29202.520953</td>\n",
       "      <td>258528.659228</td>\n",
       "      <td>1.034115e+06</td>\n",
       "      <td>0.055628</td>\n",
       "      <td>0.053711</td>\n",
       "      <td>0.094669</td>\n",
       "      <td>0.055446</td>\n",
       "      <td>0.060418</td>\n",
       "      <td>0.040518</td>\n",
       "      <td>9.236450</td>\n",
       "      <td>...</td>\n",
       "      <td>0.198097</td>\n",
       "      <td>37.876898</td>\n",
       "      <td>0.150143</td>\n",
       "      <td>19.969865</td>\n",
       "      <td>64.429899</td>\n",
       "      <td>0.121552</td>\n",
       "      <td>57.613569</td>\n",
       "      <td>10.272339</td>\n",
       "      <td>0.305253</td>\n",
       "      <td>0.048696</td>\n",
       "    </tr>\n",
       "    <tr>\n",
       "      <th>min</th>\n",
       "      <td>0.000000</td>\n",
       "      <td>2.000000</td>\n",
       "      <td>5.000000e+00</td>\n",
       "      <td>-0.188642</td>\n",
       "      <td>-0.069182</td>\n",
       "      <td>-0.008353</td>\n",
       "      <td>-0.080238</td>\n",
       "      <td>-0.000982</td>\n",
       "      <td>0.000777</td>\n",
       "      <td>0.000000</td>\n",
       "      <td>...</td>\n",
       "      <td>0.000000</td>\n",
       "      <td>7891.000000</td>\n",
       "      <td>-0.974632</td>\n",
       "      <td>0.000000</td>\n",
       "      <td>0.000000</td>\n",
       "      <td>-0.142855</td>\n",
       "      <td>0.000000</td>\n",
       "      <td>0.000000</td>\n",
       "      <td>1323.644835</td>\n",
       "      <td>-0.277014</td>\n",
       "    </tr>\n",
       "    <tr>\n",
       "      <th>25%</th>\n",
       "      <td>25289.750000</td>\n",
       "      <td>2830.750000</td>\n",
       "      <td>1.132300e+04</td>\n",
       "      <td>0.016480</td>\n",
       "      <td>0.037215</td>\n",
       "      <td>0.267527</td>\n",
       "      <td>0.020220</td>\n",
       "      <td>0.129010</td>\n",
       "      <td>0.051542</td>\n",
       "      <td>16.000000</td>\n",
       "      <td>...</td>\n",
       "      <td>0.245000</td>\n",
       "      <td>8116.000000</td>\n",
       "      <td>0.748902</td>\n",
       "      <td>55.000000</td>\n",
       "      <td>282.450000</td>\n",
       "      <td>0.425665</td>\n",
       "      <td>281.800000</td>\n",
       "      <td>3.380156</td>\n",
       "      <td>1323.770864</td>\n",
       "      <td>-0.036506</td>\n",
       "    </tr>\n",
       "    <tr>\n",
       "      <th>50%</th>\n",
       "      <td>50579.500000</td>\n",
       "      <td>5636.500000</td>\n",
       "      <td>2.254700e+04</td>\n",
       "      <td>0.022998</td>\n",
       "      <td>0.047225</td>\n",
       "      <td>0.325250</td>\n",
       "      <td>0.028910</td>\n",
       "      <td>0.162120</td>\n",
       "      <td>0.068180</td>\n",
       "      <td>22.000000</td>\n",
       "      <td>...</td>\n",
       "      <td>0.500000</td>\n",
       "      <td>8128.000000</td>\n",
       "      <td>0.839014</td>\n",
       "      <td>63.000000</td>\n",
       "      <td>309.600000</td>\n",
       "      <td>0.506732</td>\n",
       "      <td>302.850000</td>\n",
       "      <td>8.711405</td>\n",
       "      <td>1324.046264</td>\n",
       "      <td>-0.005657</td>\n",
       "    </tr>\n",
       "    <tr>\n",
       "      <th>75%</th>\n",
       "      <td>75869.250000</td>\n",
       "      <td>8445.250000</td>\n",
       "      <td>3.378300e+04</td>\n",
       "      <td>0.030697</td>\n",
       "      <td>0.061738</td>\n",
       "      <td>0.384732</td>\n",
       "      <td>0.047005</td>\n",
       "      <td>0.200757</td>\n",
       "      <td>0.095432</td>\n",
       "      <td>30.000000</td>\n",
       "      <td>...</td>\n",
       "      <td>0.615000</td>\n",
       "      <td>8139.000000</td>\n",
       "      <td>0.882352</td>\n",
       "      <td>73.000000</td>\n",
       "      <td>341.350000</td>\n",
       "      <td>0.571769</td>\n",
       "      <td>327.650000</td>\n",
       "      <td>17.920089</td>\n",
       "      <td>1324.330226</td>\n",
       "      <td>0.010607</td>\n",
       "    </tr>\n",
       "    <tr>\n",
       "      <th>max</th>\n",
       "      <td>101159.000000</td>\n",
       "      <td>910231.000000</td>\n",
       "      <td>3.640929e+06</td>\n",
       "      <td>1.063955</td>\n",
       "      <td>1.024878</td>\n",
       "      <td>0.980080</td>\n",
       "      <td>1.010193</td>\n",
       "      <td>0.562135</td>\n",
       "      <td>0.481972</td>\n",
       "      <td>51.000000</td>\n",
       "      <td>...</td>\n",
       "      <td>0.670000</td>\n",
       "      <td>8390.000000</td>\n",
       "      <td>0.999941</td>\n",
       "      <td>150.000000</td>\n",
       "      <td>778.050000</td>\n",
       "      <td>0.902410</td>\n",
       "      <td>599.550000</td>\n",
       "      <td>72.676102</td>\n",
       "      <td>1324.630000</td>\n",
       "      <td>0.733936</td>\n",
       "    </tr>\n",
       "  </tbody>\n",
       "</table>\n",
       "<p>8 rows × 31 columns</p>\n",
       "</div>"
      ],
      "text/plain": [
       "          Unnamed: 0         plotid      sampleid           BLUE  \\\n",
       "count  101160.000000  101160.000000  1.011600e+05  101130.000000   \n",
       "mean    50579.500000   86794.497420  3.471790e+05       0.028622   \n",
       "std     29202.520953  258528.659228  1.034115e+06       0.055628   \n",
       "min         0.000000       2.000000  5.000000e+00      -0.188642   \n",
       "25%     25289.750000    2830.750000  1.132300e+04       0.016480   \n",
       "50%     50579.500000    5636.500000  2.254700e+04       0.022998   \n",
       "75%     75869.250000    8445.250000  3.378300e+04       0.030697   \n",
       "max    101159.000000  910231.000000  3.640929e+06       1.063955   \n",
       "\n",
       "               GREEN            NIR            RED          SWIR1  \\\n",
       "count  101134.000000  101134.000000  101134.000000  101134.000000   \n",
       "mean        0.054576       0.326286       0.040583       0.167247   \n",
       "std         0.053711       0.094669       0.055446       0.060418   \n",
       "min        -0.069182      -0.008353      -0.080238      -0.000982   \n",
       "25%         0.037215       0.267527       0.020220       0.129010   \n",
       "50%         0.047225       0.325250       0.028910       0.162120   \n",
       "75%         0.061738       0.384732       0.047005       0.200757   \n",
       "max         1.024878       0.980080       1.010193       0.562135   \n",
       "\n",
       "               SWIR2       altura2  ...            lai           mTPI  \\\n",
       "count  101134.000000  97181.000000  ...  101160.000000  100982.000000   \n",
       "mean        0.077850     22.636585  ...       0.424042    8129.081104   \n",
       "std         0.040518      9.236450  ...       0.198097      37.876898   \n",
       "min         0.000777      0.000000  ...       0.000000    7891.000000   \n",
       "25%         0.051542     16.000000  ...       0.245000    8116.000000   \n",
       "50%         0.068180     22.000000  ...       0.500000    8128.000000   \n",
       "75%         0.095432     30.000000  ...       0.615000    8139.000000   \n",
       "max         0.481972     51.000000  ...       0.670000    8390.000000   \n",
       "\n",
       "                ndvi      ocs_1mMed     sand_1mMed           savi  \\\n",
       "count  100792.000000  101160.000000  101160.000000  101134.000000   \n",
       "mean        0.788556      66.426354     308.684732       0.488191   \n",
       "std         0.150143      19.969865      64.429899       0.121552   \n",
       "min        -0.974632       0.000000       0.000000      -0.142855   \n",
       "25%         0.748902      55.000000     282.450000       0.425665   \n",
       "50%         0.839014      63.000000     309.600000       0.506732   \n",
       "75%         0.882352      73.000000     341.350000       0.571769   \n",
       "max         0.999941     150.000000     778.050000       0.902410   \n",
       "\n",
       "          silt_1mMed          slope         topDiv        wetness  \n",
       "count  101160.000000  101160.000000  100982.000000  101134.000000  \n",
       "mean      301.557198      11.868206    1324.070991      -0.014940  \n",
       "std        57.613569      10.272339       0.305253       0.048696  \n",
       "min         0.000000       0.000000    1323.644835      -0.277014  \n",
       "25%       281.800000       3.380156    1323.770864      -0.036506  \n",
       "50%       302.850000       8.711405    1324.046264      -0.005657  \n",
       "75%       327.650000      17.920089    1324.330226       0.010607  \n",
       "max       599.550000      72.676102    1324.630000       0.733936  \n",
       "\n",
       "[8 rows x 31 columns]"
      ]
     },
     "metadata": {},
     "output_type": "display_data"
    }
   ],
   "source": [
    "print('Summary stats for continuous variables...') \n",
    "display(gdf.describe()) \n",
    "#Describe takes the normal distribution of each column \n",
    "#Count is number of instances \n",
    "#mean describes the average number \n",
    "#Describes how far you deviate from the mean \n",
    "#min is the lowest value \n",
    "#Max is largest value in column\n",
    "\n",
    "#Can we make visuals to help decide if we need to remove outliers"
   ]
  },
  {
   "cell_type": "code",
   "execution_count": 10,
   "id": "31dd6299-7c57-439e-90ce-17ed9ddd0d1b",
   "metadata": {},
   "outputs": [
    {
     "name": "stdout",
     "output_type": "stream",
     "text": [
      "Unnamed: 0       int64\n",
      "plotid           int64\n",
      "sampleid         int64\n",
      "Vegetacion      object\n",
      "Herbaceas       object\n",
      "Pasto_Arb       object\n",
      "Cultivo         object\n",
      "Humedal         object\n",
      "Terreno         object\n",
      "Agua            object\n",
      "Otra_clase      object\n",
      "SAF             object\n",
      "Cambios15_      object\n",
      "Gana_Perdi      object\n",
      "geometry      geometry\n",
      "BLUE           float64\n",
      "GREEN          float64\n",
      "NIR            float64\n",
      "RED            float64\n",
      "SWIR1          float64\n",
      "SWIR2          float64\n",
      "altura2        float64\n",
      "aspect         float64\n",
      "aspectcos      float64\n",
      "aspectdeg      float64\n",
      "aspectsin      float64\n",
      "brightness     float64\n",
      "clay_1mMed     float64\n",
      "diff           float64\n",
      "elevation      float64\n",
      "evi            float64\n",
      "fpar           float64\n",
      "hand30_100     float64\n",
      "lai            float64\n",
      "mTPI           float64\n",
      "ndvi           float64\n",
      "ocs_1mMed      float64\n",
      "sand_1mMed     float64\n",
      "savi           float64\n",
      "silt_1mMed     float64\n",
      "slope          float64\n",
      "topDiv         float64\n",
      "wetness        float64\n",
      "dtype: object\n",
      "\n",
      "\n",
      "Unnamed: 0         0\n",
      "plotid             0\n",
      "sampleid           0\n",
      "Vegetacion      7002\n",
      "Herbaceas      76695\n",
      "Pasto_Arb      77869\n",
      "Cultivo        92762\n",
      "Humedal        97234\n",
      "Terreno        95602\n",
      "Agua          100273\n",
      "Otra_clase     95711\n",
      "SAF            92762\n",
      "Cambios15_       216\n",
      "Gana_Perdi     97928\n",
      "geometry           0\n",
      "BLUE              30\n",
      "GREEN             26\n",
      "NIR               26\n",
      "RED               26\n",
      "SWIR1             26\n",
      "SWIR2             26\n",
      "altura2         3979\n",
      "aspect             0\n",
      "aspectcos          0\n",
      "aspectdeg          0\n",
      "aspectsin          0\n",
      "brightness        26\n",
      "clay_1mMed         0\n",
      "diff              26\n",
      "elevation          0\n",
      "evi               30\n",
      "fpar               0\n",
      "hand30_100         3\n",
      "lai                0\n",
      "mTPI             178\n",
      "ndvi             368\n",
      "ocs_1mMed          0\n",
      "sand_1mMed         0\n",
      "savi              26\n",
      "silt_1mMed         0\n",
      "slope              0\n",
      "topDiv           178\n",
      "wetness           26\n",
      "dtype: int64\n"
     ]
    }
   ],
   "source": [
    "print(gdf.dtypes)\n",
    "na_count = gdf.isna().sum()\n",
    "print(\"\\n\")\n",
    "print(na_count)\n",
    "#We are looking for the data types in each column and then we take a look at the number of missing values for each colomn\n",
    "#x =gdf.head()\n",
    "#print(x)"
   ]
  },
  {
   "cell_type": "code",
   "execution_count": 16,
   "id": "e9b3dcef-9477-4194-90e2-0b4203fe77f5",
   "metadata": {},
   "outputs": [],
   "source": [
    "#filling  all the numeric values that are missing with the mean from the column\n",
    "columns_to_fill = ['BLUE', 'GREEN', 'NIR', 'RED', 'SWIR1', 'SWIR2', 'altura2', 'brightness', 'diff', 'evi', 'hand30_100','mTPI', 'ndvi', 'savi', 'topDiv','wetness']  # Specify the columns to fill\n",
    "for column in columns_to_fill:\n",
    "    gdf[column] = gdf[column].fillna(gdf[column].mean())\n",
    "#Numeric varaibles are able to be replaced with "
   ]
  },
  {
   "cell_type": "code",
   "execution_count": 17,
   "id": "8a9a42c5-b7b5-467d-b192-2dcc3f060379",
   "metadata": {},
   "outputs": [
    {
     "name": "stdout",
     "output_type": "stream",
     "text": [
      "[nan 'Gramineas' 'Otras Herbaceas' 'Musaceas']\n"
     ]
    }
   ],
   "source": [
    "unique_values = df['Herbaceas'].unique()\n",
    "print(unique_values)\n",
    "#Gramineas: Grasses\n",
    "#Otras Herbaceas: Other Herbaceous (plants)\n",
    "#Musaceas: Bananas (referring to the family Musaceae, which includes banana plants)"
   ]
  },
  {
   "cell_type": "code",
   "execution_count": 200,
   "id": "2c026f66-1582-4b4e-8bfe-0baf9e2dce54",
   "metadata": {},
   "outputs": [
    {
     "name": "stdout",
     "output_type": "stream",
     "text": [
      "[nan 'Pastos mezclados (70-90%)' 'Pastos Puros (90-100%)'\n",
      " 'Pastos Combinados (50-70%)']\n"
     ]
    }
   ],
   "source": [
    "unique_values = df['Pasto_Arb'].unique()\n",
    "print(unique_values)\n",
    "#Pastures typically consist of grasses and legumes, which are cultivated or naturally occurring plants that provide food for grazing animals.\n",
    "#Management: Pastures can be managed through practices like rotation grazing, where animals are moved between different pasture areas to prevent overgrazing and allow for regrowth.\n",
    "#Pastos mezclados (70-90%): Mixed Pastures (70-90%)\n",
    "#Pastos Puros (90-100%): Pure Pastures (90-100%)\n",
    "#Pastos Combinados (50-70%): Combined Pastures (50-70%)"
   ]
  },
  {
   "cell_type": "code",
   "execution_count": 125,
   "id": "2a4c54f8-09ef-4363-93f2-e4029cfaf496",
   "metadata": {},
   "outputs": [
    {
     "name": "stdout",
     "output_type": "stream",
     "text": [
      "[nan 'Pina' 'Otro' 'Arroz' 'Citricos' 'Cana' 'Palma' 'Banano' 'Melon'\n",
      " 'Sandia' 'Cafe']\n"
     ]
    }
   ],
   "source": [
    "unique_values = df['Cultivo'].unique()\n",
    "print(unique_values)\n",
    "#Piña: Pineapple\n",
    "#Otro: Other\n",
    "#Arroz: Rice\n",
    "#Cítricos: Citrus (fruits)\n",
    "#Caña: Sugarcane\n",
    "#Palma: Palm (often referring to palm trees)\n",
    "#Banano: Banana\n",
    "#Melón: Melon\n",
    "#Sandía: Watermelon\n",
    "#Café: Coffee\n",
    "\n",
    "\n",
    "#example. NA not a crop "
   ]
  },
  {
   "cell_type": "code",
   "execution_count": 126,
   "id": "e5dfeb79-5cd8-462d-9b6f-384ac31535da",
   "metadata": {},
   "outputs": [
    {
     "name": "stdout",
     "output_type": "stream",
     "text": [
      "[nan 'Pantano (Palustre)' 'Cuerpos de agua' 'Yolillal' 'Salinera'\n",
      " 'Manglar']\n"
     ]
    }
   ],
   "source": [
    "unique_values = df['Humedal'].unique()\n",
    "print(unique_values)\n",
    "#Pantano (Palustre): Swamp (Marsh)\n",
    "#Cuerpos de agua: Bodies of water\n",
    "#Yolillal: (This term refers to a specific type of wetland or habitat, often associated with palm species in tropical areas. It may not have a direct translation.)\n",
    "#Salinera: Salt flat or Saline area\n",
    "#Manglar - Mangrove:\n",
    "#Mangroves are coastal ecosystems found in tropical and subtropical regions, where saltwater from the ocean meets freshwater from rivers. They are directly associated with the ocean and serve as a transition zone between land and sea, providing vital habitats for many marine and terrestrial species."
   ]
  },
  {
   "cell_type": "code",
   "execution_count": 127,
   "id": "2611c62c-67d7-413c-9ed0-37b298049d4f",
   "metadata": {},
   "outputs": [
    {
     "name": "stdout",
     "output_type": "stream",
     "text": [
      "[nan 'Otras superficies' 'Terreno descubierto' 'Suelo desnudo']\n"
     ]
    }
   ],
   "source": [
    "unique_values = df['Terreno'].unique()\n",
    "print(unique_values)\n",
    "#Otras superficies: Other surfaces\n",
    "#Terreno descubierto: Exposed land or Bare ground\n",
    "#Suelo desnudo: Bare soil"
   ]
  },
  {
   "cell_type": "code",
   "execution_count": 128,
   "id": "ca61480d-9e72-4849-a23e-c96da39bff76",
   "metadata": {},
   "outputs": [
    {
     "name": "stdout",
     "output_type": "stream",
     "text": [
      "[nan 'Continentales' 'Mar�timas']\n"
     ]
    }
   ],
   "source": [
    "unique_values = df['Agua'].unique()\n",
    "print(unique_values)"
   ]
  },
  {
   "cell_type": "code",
   "execution_count": 129,
   "id": "e4682836-bef2-4b1a-917d-f063a34d98b7",
   "metadata": {},
   "outputs": [],
   "source": [
    "#filtered_gdf = gdf[gdf['Agua'] == 'Continentales']\n",
    "\n",
    "# Print the first 100 rows (or fewer if less than 100 exist)\n",
    "#print(filtered_gdf.head(10))"
   ]
  },
  {
   "cell_type": "code",
   "execution_count": 130,
   "id": "232deaa2-279c-4dd1-b09d-9c7ac769ee2e",
   "metadata": {},
   "outputs": [
    {
     "name": "stdout",
     "output_type": "stream",
     "text": [
      "[nan 'Edificado / Desarrollado' 'Suelo desnudo' 'Nubes' 'Sombra de nubes'\n",
      " 'Paramo' 'Playas y arenales']\n"
     ]
    }
   ],
   "source": [
    "unique_values = df['Otra_clase'].unique()\n",
    "print(unique_values)\n",
    "#dificado / Desarrollado: Built-up / Developed (referring to developed or urbanized land)\n",
    "#Suelo desnudo: Bare soil\n",
    "#Nubes: Clouds\n",
    "#Sombra de nubes: Cloud shadow\n",
    "#Páramo: Páramo (a high-altitude ecosystem in tropical regions, typically above the treeline, found in the Andes mountains, characterized by unique vegetation and climate)\n",
    "#Playas y arenales: Beaches and sandy areas"
   ]
  },
  {
   "cell_type": "code",
   "execution_count": 71,
   "id": "c6b1afd2-f0aa-4086-a411-6b4a8630d8be",
   "metadata": {},
   "outputs": [
    {
     "name": "stdout",
     "output_type": "stream",
     "text": [
      "[nan 'Cultivo Puro (90-100%)' 'Cultivo mezclado (70-90%)'\n",
      " 'Cultivo Combinado (50-70%)']\n"
     ]
    }
   ],
   "source": [
    "unique_values = df['SAF'].unique()\n",
    "print(unique_values)\n",
    "#Cultivo Puro (90-100%): Pure Crop (90-100%) (indicates fields primarily or exclusively planted with one crop)\n",
    "#Cultivo mezclado (70-90%): Mixed Crop (70-90%) (fields mostly planted with one crop but mixed with a smaller proportion of other crops)\n",
    "#Cultivo Combinado (50-70%): Combined Crop (50-70%) (fields with a balanced mix of different crops, but where one may still be dominant)"
   ]
  },
  {
   "cell_type": "code",
   "execution_count": 72,
   "id": "e7f3d6f1-c770-4dbb-9c4f-4575eb616771",
   "metadata": {},
   "outputs": [
    {
     "name": "stdout",
     "output_type": "stream",
     "text": [
      "['No se determina' 'No' 'Si' nan]\n"
     ]
    }
   ],
   "source": [
    "unique_values = df['Cambios15_'].unique()\n",
    "print(unique_values)"
   ]
  },
  {
   "cell_type": "code",
   "execution_count": 73,
   "id": "139259b3-30a0-45c0-ab2b-9e62c9b322d1",
   "metadata": {},
   "outputs": [
    {
     "name": "stdout",
     "output_type": "stream",
     "text": [
      "[nan 'Perdida de Bosque' 'Ganancia de Bosque']\n"
     ]
    }
   ],
   "source": [
    "unique_values = df['Gana_Perdi'].unique()\n",
    "print(unique_values)"
   ]
  },
  {
   "cell_type": "code",
   "execution_count": 74,
   "id": "f288940d-b935-45f6-a9ad-064a9ddbf742",
   "metadata": {},
   "outputs": [
    {
     "name": "stdout",
     "output_type": "stream",
     "text": [
      "['Otra vegetacion' nan 'Herbaceas' 'Arboles' 'Arbustos' 'Palmas' 'Saran'\n",
      " 'Plastico']\n"
     ]
    }
   ],
   "source": [
    "#lets try and make connections\n",
    "# Specify the columns you want to analyze\n",
    "target_column = 'Vegetacion'  # Column you want to examine\n",
    "condition_column = 'Cultivo'  # Column that should not have NaNs\n",
    "\n",
    "# Filter rows where 'condition_column' is not NaN\n",
    "filtered_gdf = gdf[gdf[condition_column].notna()]\n",
    "\n",
    "# Display the first 10 values in the 'Vegetacion' column for these filtered rows\n",
    "x= filtered_gdf[target_column].head(10000)\n",
    "\n",
    "# Display all unique values in the 'Vegetacion' column for these filtered rows\n",
    "print(x.unique())\n"
   ]
  },
  {
   "cell_type": "code",
   "execution_count": 28,
   "id": "b8527eff-a52d-4f82-bb31-5cc4083aea7c",
   "metadata": {},
   "outputs": [
    {
     "name": "stdout",
     "output_type": "stream",
     "text": [
      "['Pastos Combinados (50-70%)' 'Pastos mezclados (70-90%)' nan\n",
      " 'Pastos Puros (90-100%)']\n"
     ]
    }
   ],
   "source": [
    "# Example: Filter rows based on a condition in another column\n",
    "condition_column = 'Herbaceas'  # The column where you have a condition\n",
    "target_column = 'Pasto_Arb'        # The column you want to examine\n",
    "condition_value = 'Musaceas'     # The specific value in the condition column\n",
    "#Gramineas' 'Otras Herbaceas' 'Musaceas'\n",
    "# Filter rows where `condition_column` equals `condition_value`\n",
    "filtered_gdf = gdf[gdf[condition_column] == condition_value]\n",
    "\n",
    "# Display the unique values in `target_column` for these filtered rows\n",
    "print(filtered_gdf[target_column].unique())\n"
   ]
  },
  {
   "cell_type": "code",
   "execution_count": 18,
   "id": "cdf10ad5-acde-4bbd-89fd-36ef85110988",
   "metadata": {},
   "outputs": [],
   "source": [
    "import numpy as np\n",
    "gdf2 = gdf.copy()  # Make a copy of the original GeoDataFrame\n",
    "gdf2['Cultivo'] = gdf2['Cultivo'].replace(np.nan, 'noCrop')  \n",
    "#Turning all the nan's in cultivo to \"Not  crop\" because nan just means their not crops"
   ]
  },
  {
   "cell_type": "code",
   "execution_count": 19,
   "id": "06b19243-0d1e-4038-ba90-7cb58fd6d2a2",
   "metadata": {},
   "outputs": [
    {
     "name": "stdout",
     "output_type": "stream",
     "text": [
      "0\n",
      "['noCrop' 'Pina' 'Otro' 'Arroz' 'Citricos' 'Cana' 'Palma' 'Banano' 'Melon'\n",
      " 'Sandia' 'Cafe']\n"
     ]
    }
   ],
   "source": [
    "na_count = gdf2['Cultivo'].isna().sum()\n",
    "print(na_count)\n",
    "#checking theres no nans\n",
    "unique_values = gdf2['Cultivo'].unique()\n",
    "print(unique_values)\n",
    "#Making a copy for our Crop classifier \n",
    "#all nans are gone now \n",
    "gdfCrop=gdf2.copy()"
   ]
  },
  {
   "cell_type": "code",
   "execution_count": 20,
   "id": "5d735e21-3e36-4367-bb44-33218d1f92dc",
   "metadata": {},
   "outputs": [],
   "source": [
    "#LABEL ENCODER \n",
    "#from sklearn.preprocessing import LabelEncoder\n",
    "#le = LabelEncoder()\n",
    "#gdf1['Cultivo'] = le.fit_transform(gdf1['Cultivo'])\n",
    "#gdf1.head()"
   ]
  },
  {
   "cell_type": "code",
   "execution_count": 21,
   "id": "08383594-ed9f-4421-8f8f-1beb42d95974",
   "metadata": {},
   "outputs": [
    {
     "name": "stdout",
     "output_type": "stream",
     "text": [
      "Index(['Unnamed: 0', 'plotid', 'sampleid', 'Vegetacion', 'Herbaceas',\n",
      "       'Pasto_Arb', 'Cultivo', 'Humedal', 'Terreno', 'Agua', 'Otra_clase',\n",
      "       'SAF', 'Cambios15_', 'Gana_Perdi', 'geometry', 'BLUE', 'GREEN', 'NIR',\n",
      "       'RED', 'SWIR1', 'SWIR2', 'altura2', 'aspect', 'aspectcos', 'aspectdeg',\n",
      "       'aspectsin', 'brightness', 'clay_1mMed', 'diff', 'elevation', 'evi',\n",
      "       'fpar', 'hand30_100', 'lai', 'mTPI', 'ndvi', 'ocs_1mMed', 'sand_1mMed',\n",
      "       'savi', 'silt_1mMed', 'slope', 'topDiv', 'wetness'],\n",
      "      dtype='object')\n"
     ]
    }
   ],
   "source": [
    "print(gdf.columns)"
   ]
  },
  {
   "cell_type": "code",
   "execution_count": 30,
   "id": "870859d7-bd37-4b21-b82f-8e2634c695be",
   "metadata": {
    "scrolled": true
   },
   "outputs": [],
   "source": [
    "# Step 2: Separate features and target\n",
    "gdfCrop_sampled = gdfCrop.sample(n=10000, random_state=42)\n",
    "y = gdfCrop_sampled['Cultivo']\n",
    "X = gdfCrop_sampled[['BLUE', 'GREEN', 'NIR',\n",
    "       'RED', 'SWIR1', 'SWIR2', 'altura2', 'aspect', 'aspectcos', 'aspectdeg',\n",
    "       'aspectsin', 'brightness', 'clay_1mMed', 'diff', 'elevation', 'evi',\n",
    "       'fpar', 'hand30_100', 'lai', 'mTPI', 'ndvi', 'ocs_1mMed', 'sand_1mMed',\n",
    "       'savi', 'silt_1mMed', 'slope', 'topDiv', 'wetness']]"
   ]
  },
  {
   "cell_type": "code",
   "execution_count": 31,
   "id": "9dc59059-2ffd-45d9-979a-dba0af454ea1",
   "metadata": {},
   "outputs": [
    {
     "name": "stdout",
     "output_type": "stream",
     "text": [
      "Accuracy: 0.94\n",
      "Classification Report:\n",
      "               precision    recall  f1-score   support\n",
      "\n",
      "       Arroz       0.22      0.25      0.24         8\n",
      "      Banano       0.64      0.60      0.62        15\n",
      "        Cafe       0.50      0.11      0.18         9\n",
      "        Cana       0.50      0.12      0.20         8\n",
      "    Citricos       0.00      0.00      0.00         2\n",
      "       Melon       0.00      0.00      0.00         8\n",
      "        Otro       0.00      0.00      0.00        48\n",
      "       Palma       0.80      0.19      0.31        21\n",
      "        Pina       1.00      0.35      0.52        20\n",
      "      Sandia       0.00      0.00      0.00         1\n",
      "      noCrop       0.95      1.00      0.97      1860\n",
      "\n",
      "    accuracy                           0.94      2000\n",
      "   macro avg       0.42      0.24      0.28      2000\n",
      "weighted avg       0.91      0.94      0.92      2000\n",
      "\n",
      "OOB r-squared = 0.93\n"
     ]
    },
    {
     "name": "stderr",
     "output_type": "stream",
     "text": [
      "/opt/conda/lib/python3.11/site-packages/sklearn/metrics/_classification.py:1531: UndefinedMetricWarning: Precision is ill-defined and being set to 0.0 in labels with no predicted samples. Use `zero_division` parameter to control this behavior.\n",
      "  _warn_prf(average, modifier, f\"{metric.capitalize()} is\", len(result))\n",
      "/opt/conda/lib/python3.11/site-packages/sklearn/metrics/_classification.py:1531: UndefinedMetricWarning: Precision is ill-defined and being set to 0.0 in labels with no predicted samples. Use `zero_division` parameter to control this behavior.\n",
      "  _warn_prf(average, modifier, f\"{metric.capitalize()} is\", len(result))\n",
      "/opt/conda/lib/python3.11/site-packages/sklearn/metrics/_classification.py:1531: UndefinedMetricWarning: Precision is ill-defined and being set to 0.0 in labels with no predicted samples. Use `zero_division` parameter to control this behavior.\n",
      "  _warn_prf(average, modifier, f\"{metric.capitalize()} is\", len(result))\n"
     ]
    }
   ],
   "source": [
    "from sklearn.model_selection import train_test_split\n",
    "from sklearn.ensemble import RandomForestClassifier\n",
    "from sklearn.metrics import accuracy_score, classification_report\n",
    "import pandas as pd\n",
    "\n",
    "\n",
    "#Split the data\n",
    "X_train, X_test, y_train, y_test = train_test_split(X, y, test_size=0.2, random_state=42)\n",
    "\n",
    "# Step 4: Train the RandomForestClassifier\n",
    "rndf = RandomForestClassifier(oob_score=True,random_state=0)\n",
    "rndf.fit(X_train, y_train)\n",
    "\n",
    "# Step 5: Evaluate the model\n",
    "y_pred = rndf.predict(X_test)\n",
    "accuracy = accuracy_score(y_test, y_pred)\n",
    "\n",
    "print(f\"Accuracy: {accuracy:.2f}\")\n",
    "print(\"Classification Report:\\n\", classification_report(y_test, y_pred))\n",
    "print('OOB r-squared =',rndf.oob_score_)\n",
    "#pd.DataFrame(clf.feature_importances_,index=X,columns=['importance']).sort_values(by='importance').plot(kind='barh', title='Variable Importance')"
   ]
  },
  {
   "cell_type": "code",
   "execution_count": 32,
   "id": "812e50ba-61fb-4df3-9a3c-bcb9f5c951e2",
   "metadata": {},
   "outputs": [],
   "source": [
    "# Precision: Precision is the proportion of true positive predictions among all positive predictions for a class. \n",
    "#It measures how many selected items are relevant.\n",
    "#Recall: Recall is the proportion of true positive predictions among all actual instances of that class. \n",
    "#It measures how many relevant items are selected.\n",
    "#Precision: How accurate the model's positive predictions are for that class.\n",
    "#Recall: How many actual instances of that class were correctly predicted.\n",
    "#F1-Score: A balance between precision and recall, giving an overall measure of performance.\n",
    "#Support: The total number of actual samples in each class."
   ]
  },
  {
   "cell_type": "code",
   "execution_count": 33,
   "id": "2b473bc4-89e1-4be0-a854-6a1bc1e72ede",
   "metadata": {},
   "outputs": [
    {
     "data": {
      "image/png": "[encoded data removed]",
      "text/plain": [
       "<Figure size 800x600 with 2 Axes>"
      ]
     },
     "metadata": {},
     "output_type": "display_data"
    }
   ],
   "source": [
    "from sklearn.metrics import confusion_matrix\n",
    "import seaborn as sns\n",
    "import matplotlib.pyplot as plt\n",
    "\n",
    "# Add Confusion Matrix\n",
    "cm = confusion_matrix(y_test, y_pred)\n",
    "\n",
    "# Plot the confusion matrix using Seaborn for better visualization\n",
    "plt.figure(figsize=(8, 6))\n",
    "sns.heatmap(cm, annot=True, fmt='d', cmap='Blues', xticklabels=rndf.classes_, yticklabels=rndf.classes_)\n",
    "plt.xlabel('Predicted')\n",
    "plt.ylabel('True')\n",
    "plt.title('Confusion Matrix')\n",
    "plt.show()"
   ]
  },
  {
   "cell_type": "code",
   "execution_count": 34,
   "id": "23214422-2184-42ba-8646-f6b041159153",
   "metadata": {},
   "outputs": [],
   "source": [
    "#import pickle\n",
    "\n",
    "#let's store our models\n",
    "#pickle.dump(rndf ,open('rndf.mdl','wb'))#random forest regression\n",
    "#to load our model back into ram we can call the load method for each saved model\n",
    "#rndf = pickle.load(open('rndf.mdl', 'rb'))"
   ]
  },
  {
   "cell_type": "code",
   "execution_count": 35,
   "id": "63dcd623-f3d7-453c-837c-ca837279991d",
   "metadata": {},
   "outputs": [
    {
     "name": "stdout",
     "output_type": "stream",
     "text": [
      "Cultivo\n",
      "noCrop      91.37\n",
      "Otro         2.62\n",
      "Palma        1.47\n",
      "Pina         1.19\n",
      "Banano       1.04\n",
      "Arroz        0.70\n",
      "Cana         0.55\n",
      "Cafe         0.53\n",
      "Melon        0.33\n",
      "Citricos     0.19\n",
      "Sandia       0.01\n",
      "Name: proportion, dtype: float64\n"
     ]
    }
   ],
   "source": [
    "value_percentages = gdfCrop_sampled['Cultivo'].value_counts(normalize=True) * 100\n",
    "print(value_percentages)"
   ]
  },
  {
   "cell_type": "code",
   "execution_count": 36,
   "id": "863f3e42-0a58-4088-8fd8-c00c55faf290",
   "metadata": {
    "scrolled": true
   },
   "outputs": [
    {
     "name": "stdout",
     "output_type": "stream",
     "text": [
      "Collecting earthengine-api\n",
      "  Obtaining dependency information for earthengine-api from https://files.pythonhosted.org/packages/cd/93/2d6f467b9accd999839ac712fb614559d575d9774b962dd6c97258bc5029/earthengine_api-1.3.1-py3-none-any.whl.metadata\n",
      "  Downloading earthengine_api-1.3.1-py3-none-any.whl.metadata (1.8 kB)\n",
      "Collecting geemap\n",
      "  Obtaining dependency information for geemap from https://files.pythonhosted.org/packages/c3/52/359a313cef0f80f45e2032d4182d8627ff003cfc05451b13a53e0edb3ea9/geemap-0.35.1-py2.py3-none-any.whl.metadata\n",
      "  Downloading geemap-0.35.1-py2.py3-none-any.whl.metadata (12 kB)\n",
      "Collecting google-cloud-storage (from earthengine-api)\n",
      "  Obtaining dependency information for google-cloud-storage from https://files.pythonhosted.org/packages/fc/da/95db7bd4f0bd1644378ac1702c565c0210b004754d925a74f526a710c087/google_cloud_storage-2.18.2-py2.py3-none-any.whl.metadata\n",
      "  Using cached google_cloud_storage-2.18.2-py2.py3-none-any.whl.metadata (9.1 kB)\n",
      "Collecting google-api-python-client>=1.12.1 (from earthengine-api)\n",
      "  Obtaining dependency information for google-api-python-client>=1.12.1 from https://files.pythonhosted.org/packages/98/25/7364974d83e85f68155cc11ca1762e6e6d155afda0ea27bac4eb356dca6c/google_api_python_client-2.152.0-py2.py3-none-any.whl.metadata\n",
      "  Downloading google_api_python_client-2.152.0-py2.py3-none-any.whl.metadata (6.7 kB)\n",
      "Collecting google-auth>=1.4.1 (from earthengine-api)\n",
      "  Obtaining dependency information for google-auth>=1.4.1 from https://files.pythonhosted.org/packages/2d/9a/3d5087d27865c2f0431b942b5c4500b7d1b744dd3262fdc973a4c39d099e/google_auth-2.36.0-py2.py3-none-any.whl.metadata\n",
      "  Downloading google_auth-2.36.0-py2.py3-none-any.whl.metadata (4.7 kB)\n",
      "Collecting google-auth-httplib2>=0.0.3 (from earthengine-api)\n",
      "  Obtaining dependency information for google-auth-httplib2>=0.0.3 from https://files.pythonhosted.org/packages/be/8a/fe34d2f3f9470a27b01c9e76226965863f153d5fbe276f83608562e49c04/google_auth_httplib2-0.2.0-py2.py3-none-any.whl.metadata\n",
      "  Using cached google_auth_httplib2-0.2.0-py2.py3-none-any.whl.metadata (2.2 kB)\n",
      "Collecting httplib2<1dev,>=0.9.2 (from earthengine-api)\n",
      "  Obtaining dependency information for httplib2<1dev,>=0.9.2 from https://files.pythonhosted.org/packages/a8/6c/d2fbdaaa5959339d53ba38e94c123e4e84b8fbc4b84beb0e70d7c1608486/httplib2-0.22.0-py3-none-any.whl.metadata\n",
      "  Using cached httplib2-0.22.0-py3-none-any.whl.metadata (2.6 kB)\n",
      "Requirement already satisfied: requests in /opt/conda/lib/python3.11/site-packages (from earthengine-api) (2.31.0)\n",
      "Collecting bqplot (from geemap)\n",
      "  Obtaining dependency information for bqplot from https://files.pythonhosted.org/packages/ad/f5/717a355a47e8ba28ff9fcbe63d3014b55a8d20f3983582205085e85e2869/bqplot-0.12.43-py2.py3-none-any.whl.metadata\n",
      "  Using cached bqplot-0.12.43-py2.py3-none-any.whl.metadata (6.4 kB)\n",
      "Collecting colour (from geemap)\n",
      "  Obtaining dependency information for colour from https://files.pythonhosted.org/packages/74/46/e81907704ab203206769dee1385dc77e1407576ff8f50a0681d0a6b541be/colour-0.1.5-py2.py3-none-any.whl.metadata\n",
      "  Using cached colour-0.1.5-py2.py3-none-any.whl.metadata (18 kB)\n",
      "Collecting eerepr>=0.0.4 (from geemap)\n",
      "  Obtaining dependency information for eerepr>=0.0.4 from https://files.pythonhosted.org/packages/0b/71/5a5e36ad755e3e3081b43acf9ac2a50d1f6f88211aa278bb80114d0b6cd6/eerepr-0.0.4-py3-none-any.whl.metadata\n",
      "  Using cached eerepr-0.0.4-py3-none-any.whl.metadata (4.0 kB)\n",
      "Requirement already satisfied: folium>=0.17.0 in /opt/conda/lib/python3.11/site-packages (from geemap) (0.18.0)\n",
      "Collecting geocoder (from geemap)\n",
      "  Obtaining dependency information for geocoder from https://files.pythonhosted.org/packages/4f/6b/13166c909ad2f2d76b929a4227c952630ebaf0d729f6317eb09cbceccbab/geocoder-1.38.1-py2.py3-none-any.whl.metadata\n",
      "  Using cached geocoder-1.38.1-py2.py3-none-any.whl.metadata (14 kB)\n",
      "Collecting ipyevents (from geemap)\n",
      "  Obtaining dependency information for ipyevents from https://files.pythonhosted.org/packages/af/49/5692d363a82838282f5c33a787922f07115d7ba4b452391e51db95c9d247/ipyevents-2.0.2-py3-none-any.whl.metadata\n",
      "  Using cached ipyevents-2.0.2-py3-none-any.whl.metadata (2.9 kB)\n",
      "Collecting ipyfilechooser>=0.6.0 (from geemap)\n",
      "  Obtaining dependency information for ipyfilechooser>=0.6.0 from https://files.pythonhosted.org/packages/00/60/249e3444fcd9c833704741769981cd02fe2c7ce94126b1394e7a3b26e543/ipyfilechooser-0.6.0-py3-none-any.whl.metadata\n",
      "  Using cached ipyfilechooser-0.6.0-py3-none-any.whl.metadata (6.4 kB)\n",
      "Collecting ipyleaflet>=0.19.2 (from geemap)\n",
      "  Obtaining dependency information for ipyleaflet>=0.19.2 from https://files.pythonhosted.org/packages/56/6f/00d60e93a316a178ae04457ceea5bcbb4e2d7e7e469882ac59ec4cccfb8c/ipyleaflet-0.19.2-py3-none-any.whl.metadata\n",
      "  Using cached ipyleaflet-0.19.2-py3-none-any.whl.metadata (5.3 kB)\n",
      "Collecting ipytree (from geemap)\n",
      "  Obtaining dependency information for ipytree from https://files.pythonhosted.org/packages/e4/03/35cf1742598d784e96153175233318a2332f71863e55ad1007c9264c1a7a/ipytree-0.2.2-py2.py3-none-any.whl.metadata\n",
      "  Using cached ipytree-0.2.2-py2.py3-none-any.whl.metadata (849 bytes)\n",
      "Requirement already satisfied: matplotlib in /opt/conda/lib/python3.11/site-packages (from geemap) (3.9.2)\n",
      "Requirement already satisfied: numpy in /opt/conda/lib/python3.11/site-packages (from geemap) (2.1.3)\n",
      "Requirement already satisfied: pandas in /opt/conda/lib/python3.11/site-packages (from geemap) (2.2.3)\n",
      "Collecting plotly (from geemap)\n",
      "  Obtaining dependency information for plotly from https://files.pythonhosted.org/packages/e5/ae/580600f441f6fc05218bd6c9d5794f4aef072a7d9093b291f1c50a9db8bc/plotly-5.24.1-py3-none-any.whl.metadata\n",
      "  Using cached plotly-5.24.1-py3-none-any.whl.metadata (7.3 kB)\n",
      "Collecting pyperclip (from geemap)\n",
      "  Using cached pyperclip-1.9.0-py3-none-any.whl\n",
      "Collecting pyshp>=2.3.1 (from geemap)\n",
      "  Obtaining dependency information for pyshp>=2.3.1 from https://files.pythonhosted.org/packages/98/2f/68116db5b36b895c0450e3072b8cb6c2fac0359279b182ea97014d3c8ac0/pyshp-2.3.1-py2.py3-none-any.whl.metadata\n",
      "  Using cached pyshp-2.3.1-py2.py3-none-any.whl.metadata (55 kB)\n",
      "Collecting python-box (from geemap)\n",
      "  Obtaining dependency information for python-box from https://files.pythonhosted.org/packages/04/5f/1ed110a22b5ff5e430fbbd1655afff6f833f1af83333a8815f22f47fc0ce/python_box-7.2.0-cp311-cp311-manylinux_2_17_x86_64.manylinux2014_x86_64.whl.metadata\n",
      "  Using cached python_box-7.2.0-cp311-cp311-manylinux_2_17_x86_64.manylinux2014_x86_64.whl.metadata (7.8 kB)\n",
      "Collecting scooby (from geemap)\n",
      "  Obtaining dependency information for scooby from https://files.pythonhosted.org/packages/2f/4b/ea1c1c4ecaa97baf8001568d502eaff1bbc3d5c1b48cce3f3fd5a77b8f52/scooby-0.10.0-py3-none-any.whl.metadata\n",
      "  Using cached scooby-0.10.0-py3-none-any.whl.metadata (15 kB)\n",
      "Requirement already satisfied: branca>=0.6.0 in /opt/conda/lib/python3.11/site-packages (from folium>=0.17.0->geemap) (0.8.0)\n",
      "Requirement already satisfied: jinja2>=2.9 in /opt/conda/lib/python3.11/site-packages (from folium>=0.17.0->geemap) (3.1.2)\n",
      "Requirement already satisfied: xyzservices in /opt/conda/lib/python3.11/site-packages (from folium>=0.17.0->geemap) (2024.9.0)\n",
      "Collecting google-api-core!=2.0.*,!=2.1.*,!=2.2.*,!=2.3.0,<3.0.0.dev0,>=1.31.5 (from google-api-python-client>=1.12.1->earthengine-api)\n",
      "  Obtaining dependency information for google-api-core!=2.0.*,!=2.1.*,!=2.2.*,!=2.3.0,<3.0.0.dev0,>=1.31.5 from https://files.pythonhosted.org/packages/17/a4/c26886d57d90032c5f74c2e80aefdc38ec58551fc46bd4ce79fb2c9389fa/google_api_core-2.23.0-py3-none-any.whl.metadata\n",
      "  Downloading google_api_core-2.23.0-py3-none-any.whl.metadata (3.0 kB)\n",
      "Collecting uritemplate<5,>=3.0.1 (from google-api-python-client>=1.12.1->earthengine-api)\n",
      "  Obtaining dependency information for uritemplate<5,>=3.0.1 from https://files.pythonhosted.org/packages/81/c0/7461b49cd25aeece13766f02ee576d1db528f1c37ce69aee300e075b485b/uritemplate-4.1.1-py2.py3-none-any.whl.metadata\n",
      "  Using cached uritemplate-4.1.1-py2.py3-none-any.whl.metadata (2.9 kB)\n",
      "Collecting cachetools<6.0,>=2.0.0 (from google-auth>=1.4.1->earthengine-api)\n",
      "  Obtaining dependency information for cachetools<6.0,>=2.0.0 from https://files.pythonhosted.org/packages/a4/07/14f8ad37f2d12a5ce41206c21820d8cb6561b728e51fad4530dff0552a67/cachetools-5.5.0-py3-none-any.whl.metadata\n",
      "  Using cached cachetools-5.5.0-py3-none-any.whl.metadata (5.3 kB)\n",
      "Collecting pyasn1-modules>=0.2.1 (from google-auth>=1.4.1->earthengine-api)\n",
      "  Obtaining dependency information for pyasn1-modules>=0.2.1 from https://files.pythonhosted.org/packages/77/89/bc88a6711935ba795a679ea6ebee07e128050d6382eaa35a0a47c8032bdc/pyasn1_modules-0.4.1-py3-none-any.whl.metadata\n",
      "  Using cached pyasn1_modules-0.4.1-py3-none-any.whl.metadata (3.5 kB)\n",
      "Collecting rsa<5,>=3.1.4 (from google-auth>=1.4.1->earthengine-api)\n",
      "  Obtaining dependency information for rsa<5,>=3.1.4 from https://files.pythonhosted.org/packages/49/97/fa78e3d2f65c02c8e1268b9aba606569fe97f6c8f7c2d74394553347c145/rsa-4.9-py3-none-any.whl.metadata\n",
      "  Using cached rsa-4.9-py3-none-any.whl.metadata (4.2 kB)\n",
      "Requirement already satisfied: pyparsing!=3.0.0,!=3.0.1,!=3.0.2,!=3.0.3,<4,>=2.4.2 in /opt/conda/lib/python3.11/site-packages (from httplib2<1dev,>=0.9.2->earthengine-api) (3.2.0)\n",
      "Collecting ipywidgets (from ipyfilechooser>=0.6.0->geemap)\n",
      "  Obtaining dependency information for ipywidgets from https://files.pythonhosted.org/packages/22/2d/9c0b76f2f9cc0ebede1b9371b6f317243028ed60b90705863d493bae622e/ipywidgets-8.1.5-py3-none-any.whl.metadata\n",
      "  Using cached ipywidgets-8.1.5-py3-none-any.whl.metadata (2.3 kB)\n",
      "Collecting jupyter-leaflet<0.20,>=0.19 (from ipyleaflet>=0.19.2->geemap)\n",
      "  Obtaining dependency information for jupyter-leaflet<0.20,>=0.19 from https://files.pythonhosted.org/packages/81/7c/3ade59500a358b9018a996d00c26eaede79f76ed362b7051bc5038d4a0d4/jupyter_leaflet-0.19.2-py3-none-any.whl.metadata\n",
      "  Using cached jupyter_leaflet-0.19.2-py3-none-any.whl.metadata (2.4 kB)\n",
      "Collecting traittypes<3,>=0.2.1 (from ipyleaflet>=0.19.2->geemap)\n",
      "  Obtaining dependency information for traittypes<3,>=0.2.1 from https://files.pythonhosted.org/packages/9c/d1/8d5bd662703cc1764d986f6908a608777305946fa634d34c470cd4a1e729/traittypes-0.2.1-py2.py3-none-any.whl.metadata\n",
      "  Using cached traittypes-0.2.1-py2.py3-none-any.whl.metadata (1.0 kB)\n",
      "Requirement already satisfied: traitlets>=4.3.0 in /opt/conda/lib/python3.11/site-packages (from bqplot->geemap) (5.9.0)\n",
      "Requirement already satisfied: python-dateutil>=2.8.2 in /opt/conda/lib/python3.11/site-packages (from pandas->geemap) (2.8.2)\n",
      "Requirement already satisfied: pytz>=2020.1 in /opt/conda/lib/python3.11/site-packages (from pandas->geemap) (2023.3.post1)\n",
      "Requirement already satisfied: tzdata>=2022.7 in /opt/conda/lib/python3.11/site-packages (from pandas->geemap) (2024.2)\n",
      "Collecting click (from geocoder->geemap)\n",
      "  Obtaining dependency information for click from https://files.pythonhosted.org/packages/00/2e/d53fa4befbf2cfa713304affc7ca780ce4fc1fd8710527771b58311a3229/click-8.1.7-py3-none-any.whl.metadata\n",
      "  Using cached click-8.1.7-py3-none-any.whl.metadata (3.0 kB)\n",
      "Collecting future (from geocoder->geemap)\n",
      "  Obtaining dependency information for future from https://files.pythonhosted.org/packages/da/71/ae30dadffc90b9006d77af76b393cb9dfbfc9629f339fc1574a1c52e6806/future-1.0.0-py3-none-any.whl.metadata\n",
      "  Using cached future-1.0.0-py3-none-any.whl.metadata (4.0 kB)\n",
      "Collecting ratelim (from geocoder->geemap)\n",
      "  Obtaining dependency information for ratelim from https://files.pythonhosted.org/packages/f2/98/7e6d147fd16a10a5f821db6e25f192265d6ecca3d82957a4fdd592cad49c/ratelim-0.1.6-py2.py3-none-any.whl.metadata\n",
      "  Using cached ratelim-0.1.6-py2.py3-none-any.whl.metadata (1.4 kB)\n",
      "Requirement already satisfied: six in /opt/conda/lib/python3.11/site-packages (from geocoder->geemap) (1.16.0)\n",
      "Collecting google-cloud-core<3.0dev,>=2.3.0 (from google-cloud-storage->earthengine-api)\n",
      "  Obtaining dependency information for google-cloud-core<3.0dev,>=2.3.0 from https://files.pythonhosted.org/packages/5e/0f/2e2061e3fbcb9d535d5da3f58cc8de4947df1786fe6a1355960feb05a681/google_cloud_core-2.4.1-py2.py3-none-any.whl.metadata\n",
      "  Using cached google_cloud_core-2.4.1-py2.py3-none-any.whl.metadata (2.7 kB)\n",
      "Collecting google-resumable-media>=2.7.2 (from google-cloud-storage->earthengine-api)\n",
      "  Obtaining dependency information for google-resumable-media>=2.7.2 from https://files.pythonhosted.org/packages/82/35/b8d3baf8c46695858cb9d8835a53baa1eeb9906ddaf2f728a5f5b640fd1e/google_resumable_media-2.7.2-py2.py3-none-any.whl.metadata\n",
      "  Using cached google_resumable_media-2.7.2-py2.py3-none-any.whl.metadata (2.2 kB)\n",
      "Collecting google-crc32c<2.0dev,>=1.0 (from google-cloud-storage->earthengine-api)\n",
      "  Obtaining dependency information for google-crc32c<2.0dev,>=1.0 from https://files.pythonhosted.org/packages/67/1e/4870896fc81ec77b1b5ebae7fdd680d5a4d40e19a4b6d724032f996ca77a/google_crc32c-1.6.0-cp311-cp311-manylinux_2_17_x86_64.manylinux2014_x86_64.whl.metadata\n",
      "  Using cached google_crc32c-1.6.0-cp311-cp311-manylinux_2_17_x86_64.manylinux2014_x86_64.whl.metadata (2.3 kB)\n",
      "Requirement already satisfied: charset-normalizer<4,>=2 in /opt/conda/lib/python3.11/site-packages (from requests->earthengine-api) (3.2.0)\n",
      "Requirement already satisfied: idna<4,>=2.5 in /opt/conda/lib/python3.11/site-packages (from requests->earthengine-api) (3.4)\n",
      "Requirement already satisfied: urllib3<3,>=1.21.1 in /opt/conda/lib/python3.11/site-packages (from requests->earthengine-api) (2.0.4)\n",
      "Requirement already satisfied: certifi>=2017.4.17 in /opt/conda/lib/python3.11/site-packages (from requests->earthengine-api) (2023.7.22)\n",
      "Requirement already satisfied: contourpy>=1.0.1 in /opt/conda/lib/python3.11/site-packages (from matplotlib->geemap) (1.3.1)\n",
      "Requirement already satisfied: cycler>=0.10 in /opt/conda/lib/python3.11/site-packages (from matplotlib->geemap) (0.12.1)\n",
      "Requirement already satisfied: fonttools>=4.22.0 in /opt/conda/lib/python3.11/site-packages (from matplotlib->geemap) (4.54.1)\n",
      "Requirement already satisfied: kiwisolver>=1.3.1 in /opt/conda/lib/python3.11/site-packages (from matplotlib->geemap) (1.4.7)\n",
      "Requirement already satisfied: packaging>=20.0 in /opt/conda/lib/python3.11/site-packages (from matplotlib->geemap) (23.1)\n",
      "Requirement already satisfied: pillow>=8 in /opt/conda/lib/python3.11/site-packages (from matplotlib->geemap) (11.0.0)\n",
      "Collecting tenacity>=6.2.0 (from plotly->geemap)\n",
      "  Obtaining dependency information for tenacity>=6.2.0 from https://files.pythonhosted.org/packages/b6/cb/b86984bed139586d01532a587464b5805f12e397594f19f931c4c2fbfa61/tenacity-9.0.0-py3-none-any.whl.metadata\n",
      "  Using cached tenacity-9.0.0-py3-none-any.whl.metadata (1.2 kB)\n",
      "Collecting googleapis-common-protos<2.0.dev0,>=1.56.2 (from google-api-core!=2.0.*,!=2.1.*,!=2.2.*,!=2.3.0,<3.0.0.dev0,>=1.31.5->google-api-python-client>=1.12.1->earthengine-api)\n",
      "  Obtaining dependency information for googleapis-common-protos<2.0.dev0,>=1.56.2 from https://files.pythonhosted.org/packages/a0/0f/c0713fb2b3d28af4b2fded3291df1c4d4f79a00d15c2374a9e010870016c/googleapis_common_protos-1.66.0-py2.py3-none-any.whl.metadata\n",
      "  Downloading googleapis_common_protos-1.66.0-py2.py3-none-any.whl.metadata (1.5 kB)\n",
      "Requirement already satisfied: protobuf!=3.20.0,!=3.20.1,!=4.21.0,!=4.21.1,!=4.21.2,!=4.21.3,!=4.21.4,!=4.21.5,<6.0.0.dev0,>=3.19.5 in /opt/conda/lib/python3.11/site-packages (from google-api-core!=2.0.*,!=2.1.*,!=2.2.*,!=2.3.0,<3.0.0.dev0,>=1.31.5->google-api-python-client>=1.12.1->earthengine-api) (5.28.3)\n",
      "Collecting proto-plus<2.0.0dev,>=1.22.3 (from google-api-core!=2.0.*,!=2.1.*,!=2.2.*,!=2.3.0,<3.0.0.dev0,>=1.31.5->google-api-python-client>=1.12.1->earthengine-api)\n",
      "  Obtaining dependency information for proto-plus<2.0.0dev,>=1.22.3 from https://files.pythonhosted.org/packages/dd/25/0b7cc838ae3d76d46539020ec39fc92bfc9acc29367e58fe912702c2a79e/proto_plus-1.25.0-py3-none-any.whl.metadata\n",
      "  Downloading proto_plus-1.25.0-py3-none-any.whl.metadata (2.2 kB)\n",
      "Requirement already satisfied: comm>=0.1.3 in /opt/conda/lib/python3.11/site-packages (from ipywidgets->ipyfilechooser>=0.6.0->geemap) (0.1.4)\n",
      "Requirement already satisfied: ipython>=6.1.0 in /opt/conda/lib/python3.11/site-packages (from ipywidgets->ipyfilechooser>=0.6.0->geemap) (8.15.0)\n",
      "Collecting widgetsnbextension~=4.0.12 (from ipywidgets->ipyfilechooser>=0.6.0->geemap)\n",
      "  Obtaining dependency information for widgetsnbextension~=4.0.12 from https://files.pythonhosted.org/packages/21/02/88b65cc394961a60c43c70517066b6b679738caf78506a5da7b88ffcb643/widgetsnbextension-4.0.13-py3-none-any.whl.metadata\n",
      "  Using cached widgetsnbextension-4.0.13-py3-none-any.whl.metadata (1.6 kB)\n",
      "Collecting jupyterlab-widgets~=3.0.12 (from ipywidgets->ipyfilechooser>=0.6.0->geemap)\n",
      "  Obtaining dependency information for jupyterlab-widgets~=3.0.12 from https://files.pythonhosted.org/packages/a9/93/858e87edc634d628e5d752ba944c2833133a28fa87bb093e6832ced36a3e/jupyterlab_widgets-3.0.13-py3-none-any.whl.metadata\n",
      "  Using cached jupyterlab_widgets-3.0.13-py3-none-any.whl.metadata (4.1 kB)\n",
      "Requirement already satisfied: MarkupSafe>=2.0 in /opt/conda/lib/python3.11/site-packages (from jinja2>=2.9->folium>=0.17.0->geemap) (2.1.3)\n",
      "Requirement already satisfied: pyasn1<0.7.0,>=0.4.6 in /opt/conda/lib/python3.11/site-packages (from pyasn1-modules>=0.2.1->google-auth>=1.4.1->earthengine-api) (0.6.1)\n",
      "Requirement already satisfied: decorator in /opt/conda/lib/python3.11/site-packages (from ratelim->geocoder->geemap) (5.1.1)\n",
      "Requirement already satisfied: backcall in /opt/conda/lib/python3.11/site-packages (from ipython>=6.1.0->ipywidgets->ipyfilechooser>=0.6.0->geemap) (0.2.0)\n",
      "Requirement already satisfied: jedi>=0.16 in /opt/conda/lib/python3.11/site-packages (from ipython>=6.1.0->ipywidgets->ipyfilechooser>=0.6.0->geemap) (0.19.0)\n",
      "Requirement already satisfied: matplotlib-inline in /opt/conda/lib/python3.11/site-packages (from ipython>=6.1.0->ipywidgets->ipyfilechooser>=0.6.0->geemap) (0.1.6)\n",
      "Requirement already satisfied: pickleshare in /opt/conda/lib/python3.11/site-packages (from ipython>=6.1.0->ipywidgets->ipyfilechooser>=0.6.0->geemap) (0.7.5)\n",
      "Requirement already satisfied: prompt-toolkit!=3.0.37,<3.1.0,>=3.0.30 in /opt/conda/lib/python3.11/site-packages (from ipython>=6.1.0->ipywidgets->ipyfilechooser>=0.6.0->geemap) (3.0.39)\n",
      "Requirement already satisfied: pygments>=2.4.0 in /opt/conda/lib/python3.11/site-packages (from ipython>=6.1.0->ipywidgets->ipyfilechooser>=0.6.0->geemap) (2.16.1)\n",
      "Requirement already satisfied: stack-data in /opt/conda/lib/python3.11/site-packages (from ipython>=6.1.0->ipywidgets->ipyfilechooser>=0.6.0->geemap) (0.6.2)\n",
      "Requirement already satisfied: pexpect>4.3 in /opt/conda/lib/python3.11/site-packages (from ipython>=6.1.0->ipywidgets->ipyfilechooser>=0.6.0->geemap) (4.8.0)\n",
      "Requirement already satisfied: parso<0.9.0,>=0.8.3 in /opt/conda/lib/python3.11/site-packages (from jedi>=0.16->ipython>=6.1.0->ipywidgets->ipyfilechooser>=0.6.0->geemap) (0.8.3)\n",
      "Requirement already satisfied: ptyprocess>=0.5 in /opt/conda/lib/python3.11/site-packages (from pexpect>4.3->ipython>=6.1.0->ipywidgets->ipyfilechooser>=0.6.0->geemap) (0.7.0)\n",
      "Requirement already satisfied: wcwidth in /opt/conda/lib/python3.11/site-packages (from prompt-toolkit!=3.0.37,<3.1.0,>=3.0.30->ipython>=6.1.0->ipywidgets->ipyfilechooser>=0.6.0->geemap) (0.2.6)\n",
      "Requirement already satisfied: executing>=1.2.0 in /opt/conda/lib/python3.11/site-packages (from stack-data->ipython>=6.1.0->ipywidgets->ipyfilechooser>=0.6.0->geemap) (1.2.0)\n",
      "Requirement already satisfied: asttokens>=2.1.0 in /opt/conda/lib/python3.11/site-packages (from stack-data->ipython>=6.1.0->ipywidgets->ipyfilechooser>=0.6.0->geemap) (2.4.0)\n",
      "Requirement already satisfied: pure-eval in /opt/conda/lib/python3.11/site-packages (from stack-data->ipython>=6.1.0->ipywidgets->ipyfilechooser>=0.6.0->geemap) (0.2.2)\n",
      "Downloading earthengine_api-1.3.1-py3-none-any.whl (456 kB)\n",
      "\u001b[2K   \u001b[90m━━━━━━━━━━━━━━━━━━━━━━━━━━━━━━━━━━━━━━━━\u001b[0m \u001b[32m456.2/456.2 kB\u001b[0m \u001b[31m1.2 MB/s\u001b[0m eta \u001b[36m0:00:00\u001b[0m:00:01\u001b[0m\n",
      "\u001b[?25hDownloading geemap-0.35.1-py2.py3-none-any.whl (2.3 MB)\n",
      "\u001b[2K   \u001b[90m━━━━━━━━━━━━━━━━━━━━━━━━━━━━━━━━━━━━━━━━\u001b[0m \u001b[32m2.3/2.3 MB\u001b[0m \u001b[31m3.5 MB/s\u001b[0m eta \u001b[36m0:00:00\u001b[0m0:00:01\u001b[0m\n",
      "\u001b[?25hUsing cached eerepr-0.0.4-py3-none-any.whl (9.7 kB)\n",
      "Downloading google_api_python_client-2.152.0-py2.py3-none-any.whl (12.6 MB)\n",
      "\u001b[2K   \u001b[90m━━━━━━━━━━━━━━━━━━━━━━━━━━━━━━━━━━━━━━━━\u001b[0m \u001b[32m12.6/12.6 MB\u001b[0m \u001b[31m8.6 MB/s\u001b[0m eta \u001b[36m0:00:00\u001b[0m0:00:01\u001b[0m0:01\u001b[0m\n",
      "\u001b[?25hDownloading google_auth-2.36.0-py2.py3-none-any.whl (209 kB)\n",
      "\u001b[2K   \u001b[90m━━━━━━━━━━━━━━━━━━━━━━━━━━━━━━━━━━━━━━━\u001b[0m \u001b[32m209.5/209.5 kB\u001b[0m \u001b[31m519.8 kB/s\u001b[0m eta \u001b[36m0:00:00\u001b[0m00:01\u001b[0m\n",
      "\u001b[?25hUsing cached google_auth_httplib2-0.2.0-py2.py3-none-any.whl (9.3 kB)\n",
      "Using cached httplib2-0.22.0-py3-none-any.whl (96 kB)\n",
      "Using cached ipyfilechooser-0.6.0-py3-none-any.whl (11 kB)\n",
      "Using cached ipyleaflet-0.19.2-py3-none-any.whl (31 kB)\n",
      "Using cached pyshp-2.3.1-py2.py3-none-any.whl (46 kB)\n",
      "Using cached bqplot-0.12.43-py2.py3-none-any.whl (1.2 MB)\n",
      "Using cached colour-0.1.5-py2.py3-none-any.whl (23 kB)\n",
      "Using cached geocoder-1.38.1-py2.py3-none-any.whl (98 kB)\n",
      "Using cached google_cloud_storage-2.18.2-py2.py3-none-any.whl (130 kB)\n",
      "Using cached ipyevents-2.0.2-py3-none-any.whl (101 kB)\n",
      "Using cached ipytree-0.2.2-py2.py3-none-any.whl (1.3 MB)\n",
      "Using cached plotly-5.24.1-py3-none-any.whl (19.1 MB)\n",
      "Using cached python_box-7.2.0-cp311-cp311-manylinux_2_17_x86_64.manylinux2014_x86_64.whl (4.3 MB)\n",
      "Using cached scooby-0.10.0-py3-none-any.whl (18 kB)\n",
      "Using cached cachetools-5.5.0-py3-none-any.whl (9.5 kB)\n",
      "Downloading google_api_core-2.23.0-py3-none-any.whl (156 kB)\n",
      "\u001b[2K   \u001b[90m━━━━━━━━━━━━━━━━━━━━━━━━━━━━━━━━━━━━━━━\u001b[0m \u001b[32m156.6/156.6 kB\u001b[0m \u001b[31m478.8 kB/s\u001b[0m eta \u001b[36m0:00:00\u001b[0m00:01\u001b[0m\n",
      "\u001b[?25hUsing cached google_cloud_core-2.4.1-py2.py3-none-any.whl (29 kB)\n",
      "Using cached google_crc32c-1.6.0-cp311-cp311-manylinux_2_17_x86_64.manylinux2014_x86_64.whl (32 kB)\n",
      "Using cached google_resumable_media-2.7.2-py2.py3-none-any.whl (81 kB)\n",
      "Using cached ipywidgets-8.1.5-py3-none-any.whl (139 kB)\n",
      "Using cached jupyter_leaflet-0.19.2-py3-none-any.whl (1.1 MB)\n",
      "Using cached pyasn1_modules-0.4.1-py3-none-any.whl (181 kB)\n",
      "Using cached rsa-4.9-py3-none-any.whl (34 kB)\n",
      "Using cached tenacity-9.0.0-py3-none-any.whl (28 kB)\n",
      "Using cached traittypes-0.2.1-py2.py3-none-any.whl (8.6 kB)\n",
      "Using cached uritemplate-4.1.1-py2.py3-none-any.whl (10 kB)\n",
      "Using cached click-8.1.7-py3-none-any.whl (97 kB)\n",
      "Using cached future-1.0.0-py3-none-any.whl (491 kB)\n",
      "Using cached ratelim-0.1.6-py2.py3-none-any.whl (4.0 kB)\n",
      "Downloading googleapis_common_protos-1.66.0-py2.py3-none-any.whl (221 kB)\n",
      "\u001b[2K   \u001b[90m━━━━━━━━━━━━━━━━━━━━━━━━━━━━━━━━━━━━━━━\u001b[0m \u001b[32m221.7/221.7 kB\u001b[0m \u001b[31m830.7 kB/s\u001b[0m eta \u001b[36m0:00:00\u001b[0ma \u001b[36m0:00:01\u001b[0m\n",
      "\u001b[?25hUsing cached jupyterlab_widgets-3.0.13-py3-none-any.whl (214 kB)\n",
      "Downloading proto_plus-1.25.0-py3-none-any.whl (50 kB)\n",
      "\u001b[2K   \u001b[90m━━━━━━━━━━━━━━━━━━━━━━━━━━━━━━━━━━━━━━━━\u001b[0m \u001b[32m50.1/50.1 kB\u001b[0m \u001b[31m193.4 kB/s\u001b[0m eta \u001b[36m0:00:00\u001b[0ma \u001b[36m0:00:01\u001b[0m\n",
      "\u001b[?25hUsing cached widgetsnbextension-4.0.13-py3-none-any.whl (2.3 MB)\n",
      "Installing collected packages: pyperclip, colour, widgetsnbextension, uritemplate, traittypes, tenacity, scooby, rsa, ratelim, python-box, pyshp, pyasn1-modules, proto-plus, jupyterlab-widgets, jupyter-leaflet, httplib2, googleapis-common-protos, google-crc32c, future, click, cachetools, plotly, google-resumable-media, google-auth, geocoder, google-auth-httplib2, google-api-core, ipywidgets, google-cloud-core, google-api-python-client, ipytree, ipyleaflet, ipyfilechooser, ipyevents, google-cloud-storage, bqplot, earthengine-api, eerepr, geemap\n",
      "Successfully installed bqplot-0.12.43 cachetools-5.5.0 click-8.1.7 colour-0.1.5 earthengine-api-1.3.1 eerepr-0.0.4 future-1.0.0 geemap-0.35.1 geocoder-1.38.1 google-api-core-2.23.0 google-api-python-client-2.152.0 google-auth-2.36.0 google-auth-httplib2-0.2.0 google-cloud-core-2.4.1 google-cloud-storage-2.18.2 google-crc32c-1.6.0 google-resumable-media-2.7.2 googleapis-common-protos-1.66.0 httplib2-0.22.0 ipyevents-2.0.2 ipyfilechooser-0.6.0 ipyleaflet-0.19.2 ipytree-0.2.2 ipywidgets-8.1.5 jupyter-leaflet-0.19.2 jupyterlab-widgets-3.0.13 plotly-5.24.1 proto-plus-1.25.0 pyasn1-modules-0.4.1 pyperclip-1.9.0 pyshp-2.3.1 python-box-7.2.0 ratelim-0.1.6 rsa-4.9 scooby-0.10.0 tenacity-9.0.0 traittypes-0.2.1 uritemplate-4.1.1 widgetsnbextension-4.0.13\n"
     ]
    }
   ],
   "source": [
    "!pip install earthengine-api geemap\n"
   ]
  },
  {
   "cell_type": "code",
   "execution_count": 37,
   "id": "f972e28b-421d-4c08-ac19-3ba85a64e116",
   "metadata": {},
   "outputs": [
    {
     "data": {
      "text/html": [
       "<p>To authorize access needed by Earth Engine, open the following\n",
       "        URL in a web browser and follow the instructions:</p>\n",
       "        <p><a href=https://code.earthengine.google.com/client-auth?scopes=https%3A//www.googleapis.com/auth/earthengine%20https%3A//www.googleapis.com/auth/cloud-platform%20https%3A//www.googleapis.com/auth/devstorage.full_control&request_id=EavDZwWNyNEVzcbJcftM2L9Ldf7yGr_dnb62tVHXAkQ&tc=8h52gtsw8E6v-BU3AtWj_B5L2EBqwFsE7UvFCRU7odE&cc=atHT5K1dsWKGn_q_mjiVdTeo1ZJzw4ubdAm8nbCucW4>https://code.earthengine.google.com/client-auth?scopes=https%3A//www.googleapis.com/auth/earthengine%20https%3A//www.googleapis.com/auth/cloud-platform%20https%3A//www.googleapis.com/auth/devstorage.full_control&request_id=EavDZwWNyNEVzcbJcftM2L9Ldf7yGr_dnb62tVHXAkQ&tc=8h52gtsw8E6v-BU3AtWj_B5L2EBqwFsE7UvFCRU7odE&cc=atHT5K1dsWKGn_q_mjiVdTeo1ZJzw4ubdAm8nbCucW4</a></p>\n",
       "        <p>The authorization workflow will generate a code, which you should paste in the box below.</p>\n",
       "        "
      ],
      "text/plain": [
       "<IPython.core.display.HTML object>"
      ]
     },
     "metadata": {},
     "output_type": "display_data"
    },
    {
     "name": "stdin",
     "output_type": "stream",
     "text": [
      "Enter verification code:  4/1AeanS0aYZww1ZZzxo0GAObzGmhpWxkqYGfaeF9LukoJ2TCgNcbICm-GWTPA\n"
     ]
    },
    {
     "name": "stdout",
     "output_type": "stream",
     "text": [
      "\n",
      "Successfully saved authorization token.\n"
     ]
    }
   ],
   "source": [
    "import ee\n",
    "import geemap\n",
    "\n",
    "# Initialize Earth Engine\n",
    "ee.Authenticate()  # Authenticate with your Google account if needed\n",
    "ee.Initialize(project='ee-adamornelas10')\n"
   ]
  },
  {
   "cell_type": "code",
   "execution_count": 46,
   "id": "d7c50243-65e7-4623-8487-9a163f07aa13",
   "metadata": {},
   "outputs": [
    {
     "data": {
      "text/html": [
       "\n",
       "            <style>\n",
       "                .geemap-dark {\n",
       "                    --jp-widgets-color: white;\n",
       "                    --jp-widgets-label-color: white;\n",
       "                    --jp-ui-font-color1: white;\n",
       "                    --jp-layout-color2: #454545;\n",
       "                    background-color: #383838;\n",
       "                }\n",
       "\n",
       "                .geemap-dark .jupyter-button {\n",
       "                    --jp-layout-color3: #383838;\n",
       "                }\n",
       "\n",
       "                .geemap-colab {\n",
       "                    background-color: var(--colab-primary-surface-color, white);\n",
       "                }\n",
       "\n",
       "                .geemap-colab .jupyter-button {\n",
       "                    --jp-layout-color3: var(--colab-primary-surface-color, white);\n",
       "                }\n",
       "            </style>\n",
       "            "
      ],
      "text/plain": [
       "<IPython.core.display.HTML object>"
      ]
     },
     "metadata": {},
     "output_type": "display_data"
    }
   ],
   "source": [
    "sample_fc = geemap.geojson_to_ee(gdfCrop_sampled.__geo_interface__)"
   ]
  },
  {
   "cell_type": "code",
   "execution_count": 56,
   "id": "f4ec78af-ac40-4234-888d-6acff5966efa",
   "metadata": {},
   "outputs": [
    {
     "data": {
      "text/html": [
       "\n",
       "            <style>\n",
       "                .geemap-dark {\n",
       "                    --jp-widgets-color: white;\n",
       "                    --jp-widgets-label-color: white;\n",
       "                    --jp-ui-font-color1: white;\n",
       "                    --jp-layout-color2: #454545;\n",
       "                    background-color: #383838;\n",
       "                }\n",
       "\n",
       "                .geemap-dark .jupyter-button {\n",
       "                    --jp-layout-color3: #383838;\n",
       "                }\n",
       "\n",
       "                .geemap-colab {\n",
       "                    background-color: var(--colab-primary-surface-color, white);\n",
       "                }\n",
       "\n",
       "                .geemap-colab .jupyter-button {\n",
       "                    --jp-layout-color3: var(--colab-primary-surface-color, white);\n",
       "                }\n",
       "            </style>\n",
       "            "
      ],
      "text/plain": [
       "<IPython.core.display.HTML object>"
      ]
     },
     "metadata": {},
     "output_type": "display_data"
    },
    {
     "ename": "EEException",
     "evalue": "Request payload size exceeds the limit: 10485760 bytes.",
     "output_type": "error",
     "traceback": [
      "\u001b[0;31m---------------------------------------------------------------------------\u001b[0m",
      "\u001b[0;31mHttpError\u001b[0m                                 Traceback (most recent call last)",
      "File \u001b[0;32m/opt/conda/lib/python3.11/site-packages/ee/data.py:406\u001b[0m, in \u001b[0;36m_execute_cloud_call\u001b[0;34m(call, num_retries)\u001b[0m\n\u001b[1;32m    405\u001b[0m \u001b[38;5;28;01mtry\u001b[39;00m:\n\u001b[0;32m--> 406\u001b[0m   \u001b[38;5;28;01mreturn\u001b[39;00m \u001b[43mcall\u001b[49m\u001b[38;5;241;43m.\u001b[39;49m\u001b[43mexecute\u001b[49m\u001b[43m(\u001b[49m\u001b[43mnum_retries\u001b[49m\u001b[38;5;241;43m=\u001b[39;49m\u001b[43mnum_retries\u001b[49m\u001b[43m)\u001b[49m\n\u001b[1;32m    407\u001b[0m \u001b[38;5;28;01mexcept\u001b[39;00m googleapiclient\u001b[38;5;241m.\u001b[39merrors\u001b[38;5;241m.\u001b[39mHttpError \u001b[38;5;28;01mas\u001b[39;00m e:\n",
      "File \u001b[0;32m/opt/conda/lib/python3.11/site-packages/googleapiclient/_helpers.py:130\u001b[0m, in \u001b[0;36mpositional.<locals>.positional_decorator.<locals>.positional_wrapper\u001b[0;34m(*args, **kwargs)\u001b[0m\n\u001b[1;32m    129\u001b[0m         logger\u001b[38;5;241m.\u001b[39mwarning(message)\n\u001b[0;32m--> 130\u001b[0m \u001b[38;5;28;01mreturn\u001b[39;00m \u001b[43mwrapped\u001b[49m\u001b[43m(\u001b[49m\u001b[38;5;241;43m*\u001b[39;49m\u001b[43margs\u001b[49m\u001b[43m,\u001b[49m\u001b[43m \u001b[49m\u001b[38;5;241;43m*\u001b[39;49m\u001b[38;5;241;43m*\u001b[39;49m\u001b[43mkwargs\u001b[49m\u001b[43m)\u001b[49m\n",
      "File \u001b[0;32m/opt/conda/lib/python3.11/site-packages/googleapiclient/http.py:938\u001b[0m, in \u001b[0;36mHttpRequest.execute\u001b[0;34m(self, http, num_retries)\u001b[0m\n\u001b[1;32m    937\u001b[0m \u001b[38;5;28;01mif\u001b[39;00m resp\u001b[38;5;241m.\u001b[39mstatus \u001b[38;5;241m>\u001b[39m\u001b[38;5;241m=\u001b[39m \u001b[38;5;241m300\u001b[39m:\n\u001b[0;32m--> 938\u001b[0m     \u001b[38;5;28;01mraise\u001b[39;00m HttpError(resp, content, uri\u001b[38;5;241m=\u001b[39m\u001b[38;5;28mself\u001b[39m\u001b[38;5;241m.\u001b[39muri)\n\u001b[1;32m    939\u001b[0m \u001b[38;5;28;01mreturn\u001b[39;00m \u001b[38;5;28mself\u001b[39m\u001b[38;5;241m.\u001b[39mpostproc(resp, content)\n",
      "\u001b[0;31mHttpError\u001b[0m: <HttpError 400 when requesting https://earthengine.googleapis.com/v1/projects/ee-adamornelas10/maps?fields=name&alt=json returned \"Request payload size exceeds the limit: 10485760 bytes.\". Details: \"Request payload size exceeds the limit: 10485760 bytes.\">",
      "\nDuring handling of the above exception, another exception occurred:\n",
      "\u001b[0;31mEEException\u001b[0m                               Traceback (most recent call last)",
      "Cell \u001b[0;32mIn[56], line 26\u001b[0m\n\u001b[1;32m     23\u001b[0m classified_image \u001b[38;5;241m=\u001b[39m image\u001b[38;5;241m.\u001b[39mselect(X\u001b[38;5;241m.\u001b[39mcolumns\u001b[38;5;241m.\u001b[39mtolist())\u001b[38;5;241m.\u001b[39mclassify(trained_classifier)\n\u001b[1;32m     25\u001b[0m \u001b[38;5;66;03m# Visualize the result\u001b[39;00m\n\u001b[0;32m---> 26\u001b[0m \u001b[43mMap\u001b[49m\u001b[38;5;241;43m.\u001b[39;49m\u001b[43maddLayer\u001b[49m\u001b[43m(\u001b[49m\u001b[43mclassified_image\u001b[49m\u001b[43m,\u001b[49m\u001b[43m \u001b[49m\u001b[43m{\u001b[49m\u001b[38;5;124;43m'\u001b[39;49m\u001b[38;5;124;43mmin\u001b[39;49m\u001b[38;5;124;43m'\u001b[39;49m\u001b[43m:\u001b[49m\u001b[43m \u001b[49m\u001b[38;5;241;43m0\u001b[39;49m\u001b[43m,\u001b[49m\u001b[43m \u001b[49m\u001b[38;5;124;43m'\u001b[39;49m\u001b[38;5;124;43mmax\u001b[39;49m\u001b[38;5;124;43m'\u001b[39;49m\u001b[43m:\u001b[49m\u001b[43m \u001b[49m\u001b[38;5;241;43m5\u001b[39;49m\u001b[43m,\u001b[49m\u001b[43m \u001b[49m\u001b[38;5;124;43m'\u001b[39;49m\u001b[38;5;124;43mpalette\u001b[39;49m\u001b[38;5;124;43m'\u001b[39;49m\u001b[43m:\u001b[49m\u001b[43m \u001b[49m\u001b[43m[\u001b[49m\u001b[38;5;124;43m'\u001b[39;49m\u001b[38;5;124;43mblue\u001b[39;49m\u001b[38;5;124;43m'\u001b[39;49m\u001b[43m,\u001b[49m\u001b[43m \u001b[49m\u001b[38;5;124;43m'\u001b[39;49m\u001b[38;5;124;43mgreen\u001b[39;49m\u001b[38;5;124;43m'\u001b[39;49m\u001b[43m,\u001b[49m\u001b[43m \u001b[49m\u001b[38;5;124;43m'\u001b[39;49m\u001b[38;5;124;43myellow\u001b[39;49m\u001b[38;5;124;43m'\u001b[39;49m\u001b[43m,\u001b[49m\u001b[43m \u001b[49m\u001b[38;5;124;43m'\u001b[39;49m\u001b[38;5;124;43morange\u001b[39;49m\u001b[38;5;124;43m'\u001b[39;49m\u001b[43m,\u001b[49m\u001b[43m \u001b[49m\u001b[38;5;124;43m'\u001b[39;49m\u001b[38;5;124;43mred\u001b[39;49m\u001b[38;5;124;43m'\u001b[39;49m\u001b[43m]\u001b[49m\u001b[43m}\u001b[49m\u001b[43m,\u001b[49m\u001b[43m \u001b[49m\u001b[38;5;124;43m'\u001b[39;49m\u001b[38;5;124;43mclassified image\u001b[39;49m\u001b[38;5;124;43m'\u001b[39;49m\u001b[43m)\u001b[49m\n\u001b[1;32m     27\u001b[0m Map\u001b[38;5;241m.\u001b[39mcenterObject(roi, \u001b[38;5;241m8\u001b[39m)  \u001b[38;5;66;03m# Center the map around the region of interest\u001b[39;00m\n\u001b[1;32m     33\u001b[0m \u001b[38;5;66;03m# Load an example image, classify, and visualize\u001b[39;00m\n\u001b[1;32m     34\u001b[0m \u001b[38;5;66;03m#image = ee.Image(\"COPERNICUS/S2\")  # Example image collection; adjust as needed\u001b[39;00m\n\u001b[1;32m     35\u001b[0m \u001b[38;5;66;03m#classified = image.classify(trained_classifier)\u001b[39;00m\n\u001b[0;32m   (...)\u001b[0m\n\u001b[1;32m     39\u001b[0m \u001b[38;5;66;03m#Map.addLayer(classified, {'min': 0, 'max': 5, 'palette': ['blue', 'green', 'yellow']}, \"Classified Image\")\u001b[39;00m\n\u001b[1;32m     40\u001b[0m \u001b[38;5;66;03m#Map\u001b[39;00m\n",
      "File \u001b[0;32m/opt/conda/lib/python3.11/site-packages/geemap/geemap.py:444\u001b[0m, in \u001b[0;36mMap.add_ee_layer\u001b[0;34m(self, ee_object, vis_params, name, shown, opacity)\u001b[0m\n\u001b[1;32m    439\u001b[0m         \u001b[38;5;28;01mif\u001b[39;00m has_plot_dropdown:\n\u001b[1;32m    440\u001b[0m             \u001b[38;5;28mself\u001b[39m\u001b[38;5;241m.\u001b[39m_plot_dropdown_widget\u001b[38;5;241m.\u001b[39moptions \u001b[38;5;241m=\u001b[39m \u001b[38;5;28mlist\u001b[39m(\n\u001b[1;32m    441\u001b[0m                 \u001b[38;5;28mself\u001b[39m\u001b[38;5;241m.\u001b[39mee_raster_layers\u001b[38;5;241m.\u001b[39mkeys()\n\u001b[1;32m    442\u001b[0m             )\n\u001b[0;32m--> 444\u001b[0m \u001b[38;5;28;43msuper\u001b[39;49m\u001b[43m(\u001b[49m\u001b[43m)\u001b[49m\u001b[38;5;241;43m.\u001b[39;49m\u001b[43madd_layer\u001b[49m\u001b[43m(\u001b[49m\u001b[43mee_object\u001b[49m\u001b[43m,\u001b[49m\u001b[43m \u001b[49m\u001b[43mvis_params\u001b[49m\u001b[43m,\u001b[49m\u001b[43m \u001b[49m\u001b[43mname\u001b[49m\u001b[43m,\u001b[49m\u001b[43m \u001b[49m\u001b[43mshown\u001b[49m\u001b[43m,\u001b[49m\u001b[43m \u001b[49m\u001b[43mopacity\u001b[49m\u001b[43m)\u001b[49m\n\u001b[1;32m    446\u001b[0m \u001b[38;5;28;01mif\u001b[39;00m \u001b[38;5;28misinstance\u001b[39m(ee_object, (ee\u001b[38;5;241m.\u001b[39mImage, ee\u001b[38;5;241m.\u001b[39mImageCollection)):\n\u001b[1;32m    447\u001b[0m     \u001b[38;5;28;01mif\u001b[39;00m has_plot_dropdown:\n",
      "File \u001b[0;32m/opt/conda/lib/python3.11/site-packages/geemap/core.py:1138\u001b[0m, in \u001b[0;36mMap.add_layer\u001b[0;34m(self, ee_object, vis_params, name, shown, opacity)\u001b[0m\n\u001b[1;32m   1136\u001b[0m \u001b[38;5;28;01mif\u001b[39;00m \u001b[38;5;28misinstance\u001b[39m(ee_object, ee\u001b[38;5;241m.\u001b[39mImageCollection):\n\u001b[1;32m   1137\u001b[0m     ee_object \u001b[38;5;241m=\u001b[39m ee_object\u001b[38;5;241m.\u001b[39mmosaic()\n\u001b[0;32m-> 1138\u001b[0m tile_layer \u001b[38;5;241m=\u001b[39m \u001b[43mee_tile_layers\u001b[49m\u001b[38;5;241;43m.\u001b[39;49m\u001b[43mEELeafletTileLayer\u001b[49m\u001b[43m(\u001b[49m\n\u001b[1;32m   1139\u001b[0m \u001b[43m    \u001b[49m\u001b[43mee_object\u001b[49m\u001b[43m,\u001b[49m\u001b[43m \u001b[49m\u001b[43mvis_params\u001b[49m\u001b[43m,\u001b[49m\u001b[43m \u001b[49m\u001b[43mname\u001b[49m\u001b[43m,\u001b[49m\u001b[43m \u001b[49m\u001b[43mshown\u001b[49m\u001b[43m,\u001b[49m\u001b[43m \u001b[49m\u001b[43mopacity\u001b[49m\n\u001b[1;32m   1140\u001b[0m \u001b[43m\u001b[49m\u001b[43m)\u001b[49m\n\u001b[1;32m   1142\u001b[0m \u001b[38;5;66;03m# Remove the layer if it already exists.\u001b[39;00m\n\u001b[1;32m   1143\u001b[0m \u001b[38;5;28mself\u001b[39m\u001b[38;5;241m.\u001b[39mremove(name)\n",
      "File \u001b[0;32m/opt/conda/lib/python3.11/site-packages/geemap/ee_tile_layers.py:206\u001b[0m, in \u001b[0;36mEELeafletTileLayer.__init__\u001b[0;34m(self, ee_object, vis_params, name, shown, opacity, **kwargs)\u001b[0m\n\u001b[1;32m    192\u001b[0m \u001b[38;5;250m\u001b[39m\u001b[38;5;124;03m\"\"\"Initialize the ipyleaflet tile layer.\u001b[39;00m\n\u001b[1;32m    193\u001b[0m \n\u001b[1;32m    194\u001b[0m \u001b[38;5;124;03mArgs:\u001b[39;00m\n\u001b[0;32m   (...)\u001b[0m\n\u001b[1;32m    203\u001b[0m \u001b[38;5;124;03m        number between 0 and 1. Defaults to 1.\u001b[39;00m\n\u001b[1;32m    204\u001b[0m \u001b[38;5;124;03m\"\"\"\u001b[39;00m\n\u001b[1;32m    205\u001b[0m \u001b[38;5;28mself\u001b[39m\u001b[38;5;241m.\u001b[39m_ee_object \u001b[38;5;241m=\u001b[39m ee_object\n\u001b[0;32m--> 206\u001b[0m \u001b[38;5;28mself\u001b[39m\u001b[38;5;241m.\u001b[39murl_format \u001b[38;5;241m=\u001b[39m \u001b[43m_get_tile_url_format\u001b[49m\u001b[43m(\u001b[49m\n\u001b[1;32m    207\u001b[0m \u001b[43m    \u001b[49m\u001b[43mee_object\u001b[49m\u001b[43m,\u001b[49m\u001b[43m \u001b[49m\u001b[43m_validate_vis_params\u001b[49m\u001b[43m(\u001b[49m\u001b[43mvis_params\u001b[49m\u001b[43m)\u001b[49m\n\u001b[1;32m    208\u001b[0m \u001b[43m\u001b[49m\u001b[43m)\u001b[49m\n\u001b[1;32m    209\u001b[0m \u001b[38;5;28msuper\u001b[39m()\u001b[38;5;241m.\u001b[39m\u001b[38;5;21m__init__\u001b[39m(\n\u001b[1;32m    210\u001b[0m     url\u001b[38;5;241m=\u001b[39m\u001b[38;5;28mself\u001b[39m\u001b[38;5;241m.\u001b[39murl_format,\n\u001b[1;32m    211\u001b[0m     attribution\u001b[38;5;241m=\u001b[39m\u001b[38;5;124m\"\u001b[39m\u001b[38;5;124mGoogle Earth Engine\u001b[39m\u001b[38;5;124m\"\u001b[39m,\n\u001b[0;32m   (...)\u001b[0m\n\u001b[1;32m    216\u001b[0m     \u001b[38;5;241m*\u001b[39m\u001b[38;5;241m*\u001b[39mkwargs,\n\u001b[1;32m    217\u001b[0m )\n",
      "File \u001b[0;32m/opt/conda/lib/python3.11/site-packages/geemap/ee_tile_layers.py:36\u001b[0m, in \u001b[0;36m_get_tile_url_format\u001b[0;34m(ee_object, vis_params)\u001b[0m\n\u001b[1;32m     25\u001b[0m \u001b[38;5;250m\u001b[39m\u001b[38;5;124;03m\"\"\"Gets the tile URL format for an EE object.\u001b[39;00m\n\u001b[1;32m     26\u001b[0m \n\u001b[1;32m     27\u001b[0m \u001b[38;5;124;03mArgs:\u001b[39;00m\n\u001b[0;32m   (...)\u001b[0m\n\u001b[1;32m     33\u001b[0m \u001b[38;5;124;03m    str: The tile URL format.\u001b[39;00m\n\u001b[1;32m     34\u001b[0m \u001b[38;5;124;03m\"\"\"\u001b[39;00m\n\u001b[1;32m     35\u001b[0m image \u001b[38;5;241m=\u001b[39m _ee_object_to_image(ee_object, vis_params)\n\u001b[0;32m---> 36\u001b[0m map_id_dict \u001b[38;5;241m=\u001b[39m \u001b[43mee\u001b[49m\u001b[38;5;241;43m.\u001b[39;49m\u001b[43mImage\u001b[49m\u001b[43m(\u001b[49m\u001b[43mimage\u001b[49m\u001b[43m)\u001b[49m\u001b[38;5;241;43m.\u001b[39;49m\u001b[43mgetMapId\u001b[49m\u001b[43m(\u001b[49m\u001b[43mvis_params\u001b[49m\u001b[43m)\u001b[49m\n\u001b[1;32m     37\u001b[0m \u001b[38;5;28;01mreturn\u001b[39;00m map_id_dict[\u001b[38;5;124m\"\u001b[39m\u001b[38;5;124mtile_fetcher\u001b[39m\u001b[38;5;124m\"\u001b[39m]\u001b[38;5;241m.\u001b[39murl_format\n",
      "File \u001b[0;32m/opt/conda/lib/python3.11/site-packages/ee/image.py:156\u001b[0m, in \u001b[0;36mImage.getMapId\u001b[0;34m(self, vis_params)\u001b[0m\n\u001b[1;32m    154\u001b[0m vis_image, request \u001b[38;5;241m=\u001b[39m \u001b[38;5;28mself\u001b[39m\u001b[38;5;241m.\u001b[39m_apply_visualization(vis_params)\n\u001b[1;32m    155\u001b[0m request[\u001b[38;5;124m'\u001b[39m\u001b[38;5;124mimage\u001b[39m\u001b[38;5;124m'\u001b[39m] \u001b[38;5;241m=\u001b[39m vis_image\n\u001b[0;32m--> 156\u001b[0m response \u001b[38;5;241m=\u001b[39m \u001b[43mdata\u001b[49m\u001b[38;5;241;43m.\u001b[39;49m\u001b[43mgetMapId\u001b[49m\u001b[43m(\u001b[49m\u001b[43mrequest\u001b[49m\u001b[43m)\u001b[49m\n\u001b[1;32m    157\u001b[0m response[\u001b[38;5;124m'\u001b[39m\u001b[38;5;124mimage\u001b[39m\u001b[38;5;124m'\u001b[39m] \u001b[38;5;241m=\u001b[39m \u001b[38;5;28mself\u001b[39m\n\u001b[1;32m    158\u001b[0m \u001b[38;5;28;01mreturn\u001b[39;00m response\n",
      "File \u001b[0;32m/opt/conda/lib/python3.11/site-packages/ee/data.py:748\u001b[0m, in \u001b[0;36mgetMapId\u001b[0;34m(params)\u001b[0m\n\u001b[1;32m    743\u001b[0m queryParams \u001b[38;5;241m=\u001b[39m {\n\u001b[1;32m    744\u001b[0m     \u001b[38;5;124m'\u001b[39m\u001b[38;5;124mfields\u001b[39m\u001b[38;5;124m'\u001b[39m: \u001b[38;5;124m'\u001b[39m\u001b[38;5;124mname\u001b[39m\u001b[38;5;124m'\u001b[39m,\n\u001b[1;32m    745\u001b[0m     \u001b[38;5;124m'\u001b[39m\u001b[38;5;124mbody\u001b[39m\u001b[38;5;124m'\u001b[39m: request,\n\u001b[1;32m    746\u001b[0m }\n\u001b[1;32m    747\u001b[0m _maybe_populate_workload_tag(queryParams)\n\u001b[0;32m--> 748\u001b[0m result \u001b[38;5;241m=\u001b[39m \u001b[43m_execute_cloud_call\u001b[49m\u001b[43m(\u001b[49m\n\u001b[1;32m    749\u001b[0m \u001b[43m    \u001b[49m\u001b[43m_get_cloud_projects\u001b[49m\u001b[43m(\u001b[49m\u001b[43m)\u001b[49m\n\u001b[1;32m    750\u001b[0m \u001b[43m    \u001b[49m\u001b[38;5;241;43m.\u001b[39;49m\u001b[43mmaps\u001b[49m\u001b[43m(\u001b[49m\u001b[43m)\u001b[49m\n\u001b[1;32m    751\u001b[0m \u001b[43m    \u001b[49m\u001b[38;5;241;43m.\u001b[39;49m\u001b[43mcreate\u001b[49m\u001b[43m(\u001b[49m\u001b[43mparent\u001b[49m\u001b[38;5;241;43m=\u001b[39;49m\u001b[43m_get_projects_path\u001b[49m\u001b[43m(\u001b[49m\u001b[43m)\u001b[49m\u001b[43m,\u001b[49m\u001b[43m \u001b[49m\u001b[38;5;241;43m*\u001b[39;49m\u001b[38;5;241;43m*\u001b[39;49m\u001b[43mqueryParams\u001b[49m\u001b[43m)\u001b[49m\n\u001b[1;32m    752\u001b[0m \u001b[43m\u001b[49m\u001b[43m)\u001b[49m\n\u001b[1;32m    753\u001b[0m map_name \u001b[38;5;241m=\u001b[39m result[\u001b[38;5;124m'\u001b[39m\u001b[38;5;124mname\u001b[39m\u001b[38;5;124m'\u001b[39m]\n\u001b[1;32m    754\u001b[0m url_format \u001b[38;5;241m=\u001b[39m \u001b[38;5;124m'\u001b[39m\u001b[38;5;132;01m%s\u001b[39;00m\u001b[38;5;124m/\u001b[39m\u001b[38;5;132;01m%s\u001b[39;00m\u001b[38;5;124m/\u001b[39m\u001b[38;5;132;01m%s\u001b[39;00m\u001b[38;5;124m/tiles/\u001b[39m\u001b[38;5;132;01m{z}\u001b[39;00m\u001b[38;5;124m/\u001b[39m\u001b[38;5;132;01m{x}\u001b[39;00m\u001b[38;5;124m/\u001b[39m\u001b[38;5;132;01m{y}\u001b[39;00m\u001b[38;5;124m'\u001b[39m \u001b[38;5;241m%\u001b[39m (\n\u001b[1;32m    755\u001b[0m     _tile_base_url, _cloud_api_utils\u001b[38;5;241m.\u001b[39mVERSION, map_name)\n",
      "File \u001b[0;32m/opt/conda/lib/python3.11/site-packages/ee/data.py:408\u001b[0m, in \u001b[0;36m_execute_cloud_call\u001b[0;34m(call, num_retries)\u001b[0m\n\u001b[1;32m    406\u001b[0m   \u001b[38;5;28;01mreturn\u001b[39;00m call\u001b[38;5;241m.\u001b[39mexecute(num_retries\u001b[38;5;241m=\u001b[39mnum_retries)\n\u001b[1;32m    407\u001b[0m \u001b[38;5;28;01mexcept\u001b[39;00m googleapiclient\u001b[38;5;241m.\u001b[39merrors\u001b[38;5;241m.\u001b[39mHttpError \u001b[38;5;28;01mas\u001b[39;00m e:\n\u001b[0;32m--> 408\u001b[0m   \u001b[38;5;28;01mraise\u001b[39;00m _translate_cloud_exception(e)\n",
      "\u001b[0;31mEEException\u001b[0m: Request payload size exceeds the limit: 10485760 bytes."
     ]
    }
   ],
   "source": [
    "# Define a classifier and train it on the sample points\n",
    "classifier = ee.Classifier.smileRandomForest(10)\n",
    "\n",
    "# Train the classifier using the GeoDataFrame's Feature Collection\n",
    "trained_classifier = classifier.train(\n",
    "    features=sample_fc,\n",
    "    classProperty='Cultivo',  # Adjust to the relevant column in your data\n",
    "    inputProperties=X.columns.tolist()# Adjust for the feature names\n",
    ")\n",
    "\n",
    "#Landsat-8\n",
    "landsat_image_collection = ee.ImageCollection('LANDSAT/LC08/C01/T1_TOA')  # Landsat-8 surface reflectance data\n",
    "\n",
    "roi =ee.Geometry.Rectangle([-85, 9, -84, 10])\n",
    "\n",
    "\n",
    "\n",
    "# Filter the image collection for the region of interest (Costa Rica)\n",
    "image = landsat_image_collection.filterBounds(roi).filterDate('2020-01-01', '2020-12-31').median()  # Adjust the date range as needed\n",
    "\n",
    "# Apply the classifier to the Landsat-8 image\n",
    "classified_image = image.select(X.columns.tolist()).classify(trained_classifier)\n",
    "\n",
    "# Visualize the result\n",
    "Map.addLayer(classified_image, {'min': 0, 'max': 5, 'palette': ['blue', 'green', 'yellow', 'orange', 'red']}, 'classified image')\n",
    "Map.centerObject(roi, 8)  # Center the map around the region of interest\n",
    "\n",
    "\n",
    "\n",
    "\n",
    "\n",
    "# Load an example image, classify, and visualize\n",
    "#image = ee.Image(\"COPERNICUS/S2\")  # Example image collection; adjust as needed\n",
    "#classified = image.classify(trained_classifier)\n",
    "\n",
    "# Display the classified map in Jupyter Notebook\n",
    "#Map = geemap.Map()\n",
    "#Map.addLayer(classified, {'min': 0, 'max': 5, 'palette': ['blue', 'green', 'yellow']}, \"Classified Image\")\n",
    "#Map\n"
   ]
  },
  {
   "cell_type": "code",
   "execution_count": null,
   "id": "a3324afb-6c72-4603-991c-9f98dfb5b24d",
   "metadata": {},
   "outputs": [],
   "source": []
  }
 ],
 "metadata": {
  "kernelspec": {
   "display_name": "Python 3 (ipykernel)",
   "language": "python",
   "name": "python3"
  },
  "language_info": {
   "codemirror_mode": {
    "name": "ipython",
    "version": 3
   },
   "file_extension": ".py",
   "mimetype": "text/x-python",
   "name": "python",
   "nbconvert_exporter": "python",
   "pygments_lexer": "ipython3",
   "version": "3.11.5"
  }
 },
 "nbformat": 4,
 "nbformat_minor": 5
}
